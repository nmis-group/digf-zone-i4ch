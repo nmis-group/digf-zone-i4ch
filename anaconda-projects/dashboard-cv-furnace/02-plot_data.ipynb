{
 "cells": [
  {
   "cell_type": "markdown",
   "id": "69d38e48-6d8c-41b5-828e-69fae1186120",
   "metadata": {},
   "source": [
    "## Plotting data using panel"
   ]
  },
  {
   "cell_type": "markdown",
   "id": "50b1f40f-4d1c-4321-9aaf-d2250d56e76a",
   "metadata": {},
   "source": [
    "This script plot different types of sensor data and allow the user to interact with the plots using different panel widgets to explore data more easily. \n",
    "The plots also allow the user to change several parameters and observe the effect that they have on the plots.\n",
    "\n",
    "Import required packages:"
   ]
  },
  {
   "cell_type": "code",
   "execution_count": null,
   "id": "add18ffa-e4b4-4afe-9d4d-a39f13562196",
   "metadata": {},
   "outputs": [],
   "source": [
    "import pandas as pd\n",
    "import numpy as np\n",
    "import matplotlib\n",
    "import matplotlib.pyplot as plt\n",
    "import holoviews as hv\n",
    "import hvplot.pandas\n",
    "import panel as pn\n",
    "import data_processing_methods as dpm\n",
    "import datetime as dt"
   ]
  },
  {
   "cell_type": "markdown",
   "id": "bbc21f6f-71be-466c-aca3-9ff1c7f9d8f6",
   "metadata": {},
   "source": [
    "intial plot contaning all the sensor data channels "
   ]
  },
  {
   "cell_type": "code",
   "execution_count": null,
   "id": "2be8d26e-8003-4003-8101-c43c7d280fb3",
   "metadata": {},
   "outputs": [],
   "source": [
    "df_merged = pd.read_pickle('merged_sensor_df.pkl')\n",
    "\n",
    "plt.rcParams[\"figure.figsize\"] = (20,20)\n",
    "df_merged.plot(subplots=True, layout=(7,5))\n",
    "plt.show()"
   ]
  },
  {
   "cell_type": "markdown",
   "id": "8e030bf0-f5de-4bbc-adc5-840e4b6ba605",
   "metadata": {},
   "source": [
    "**Display roof temperatures**\n",
    "\n",
    "All the sensor data collected relating to roof temperature is plotted using holoviews and the low pas filtering parameter can be adjusted to obtain a smooth curve"
   ]
  },
  {
   "cell_type": "code",
   "execution_count": null,
   "id": "24140025-5ab8-4f51-9f47-24ed8aa5ce01",
   "metadata": {},
   "outputs": [],
   "source": [
    "df_merged = pd.read_pickle('merged_sensor_df.pkl')\n",
    "cols = list(df_merged.columns[df_merged.columns.str.startswith('ROOF_0104_300_')])\n",
    "y = pn.widgets.Select(name='Variable to filter - constant low pass filter', options=cols ,value='ROOF_0104_300_10_TC')\n",
    "\n",
    "@pn.depends(y.param.value)\n",
    "def plot_furnace_data(y):\n",
    "\n",
    "    df_merged_truncated = df_merged.loc[:,df_merged.columns.str.startswith('ROOF_0104_300_')]\n",
    "    \n",
    "    fig_a = df_merged_truncated.hvplot(height = 500, width = 1200, line_width = 5)\n",
    "    df_merged_filtered = df_merged_truncated.copy()\n",
    "    df_merged_filtered.loc[:,y] = dpm.low_pass_filter(df_merged_truncated.loc[:,y])\n",
    "    fig_b = df_merged_filtered.hvplot.line(y = y, height = 500, width = 1200, color= 'black',line_width = 2)\n",
    "    \n",
    "    return fig_a*fig_b"
   ]
  },
  {
   "cell_type": "code",
   "execution_count": null,
   "id": "cab66ce1-64d7-4771-924b-f552f68742bf",
   "metadata": {},
   "outputs": [],
   "source": [
    "# Plot \n",
    "explanation_pane = pn.Column(pn.pane.Markdown(\"\"\"\n",
    "# Calorific Value (CV) - Furnace data\n",
    "\"\"\", width=500),\n",
    "pn.pane.Markdown(\"\"\"\n",
    "# Roof temperatures\n",
    "\"\"\", width=500))\n",
    "\n",
    "# Create interactive panels with radio buttons and checkboxes\n",
    "chart_a_interact = pn.interact(plot_furnace_data,y=y)\n",
    "layout_a = pn.Column(explanation_pane, chart_a_interact)\n",
    "layout_a.servable()"
   ]
  },
  {
   "cell_type": "markdown",
   "id": "17348973-4176-4ff4-a23f-aa12ecb95525",
   "metadata": {},
   "source": [
    "Further parameter adjustments added to improve the signal output (e.g spike removal)"
   ]
  },
  {
   "cell_type": "code",
   "execution_count": null,
   "id": "79e98585-fbd7-4909-ad68-9405830b678d",
   "metadata": {},
   "outputs": [],
   "source": [
    "import datetime as dt\n",
    "df_merged = pd.read_pickle('merged_sensor_df.pkl')\n",
    "df_merged = df_merged.resample('1T').mean()\n",
    "\n",
    "cols = list(df_merged.columns[df_merged.columns.str.startswith('ROOF_0104_300_')])\n",
    "y = pn.widgets.Select(name='Chose a signal to tune filter parameters', options=cols ,value='ROOF_0104_300_10_TC')\n",
    "\n",
    "slider = pn.widgets.FloatSlider(start=0.01, end=0.1, step =0.01, value=0.1, name='low pass filter (normalised cut-off freq.)')\n",
    "\n",
    "dt_start_input = pn.widgets.DatetimeInput(name='Start date', value=dt.datetime(2022, 10, 9))\n",
    "dt_end_input = pn.widgets.DatetimeInput(name='End date', value=dt.datetime(2022, 10, 13))\n",
    "\n",
    "@pn.depends(y.param.value)\n",
    "def plot_trunc_furnace_data(y,slider_pos, date_start, date_end, Remove_spikes = False):\n",
    "\n",
    "    df_merged_truncated = df_merged.loc[:,df_merged.columns.str.startswith('ROOF_0104_300_')]\n",
    "    df_merged_truncated = df_merged_truncated [date_start: date_end]\n",
    "    fig_a = df_merged_truncated.hvplot(height = 500, width = 1200, line_width = 5)\n",
    "    df_merged_filtered = df_merged_truncated.copy()\n",
    "    if Remove_spikes:\n",
    "        df_merged_filtered.loc[:,y] = dpm.remove_spikes(df_merged_truncated.loc[:,y],olr_def=1)\n",
    "    \n",
    "    df_merged_filtered.loc[:,y] = dpm.low_pass_filter(df_merged_filtered.loc[:,y],wn=slider_pos)\n",
    "    fig_b = df_merged_filtered.hvplot.line(y = y, height = 500, width = 1200, color= 'black', label = 'Filtered signal',line_width = 2)\n",
    "    \n",
    "    return fig_a*fig_b"
   ]
  },
  {
   "cell_type": "code",
   "execution_count": null,
   "id": "35fd5ce1-bae3-4d11-a283-7850c1b39c0f",
   "metadata": {},
   "outputs": [],
   "source": [
    "# Plot \n",
    "explanation_pane = pn.pane.Markdown(\"\"\"\n",
    "## Processing signals\n",
    "\"\"\", width=500)\n",
    "\n",
    "# Create interactive panels with radio buttons and checkboxes\n",
    "chart_b_interact = pn.interact(plot_trunc_furnace_data,y=y,slider_pos=slider,date_start=dt_start_input, date_end=dt_end_input)\n",
    "layout_b = pn.Column(explanation_pane, chart_b_interact)\n",
    "layout_b.servable()"
   ]
  },
  {
   "cell_type": "markdown",
   "id": "926bca0e-4325-48c0-9174-50856e584e91",
   "metadata": {},
   "source": [
    "**Diaplay PID Zone 1 sensor data**"
   ]
  },
  {
   "cell_type": "code",
   "execution_count": null,
   "id": "70fd7733-7edc-44bb-9572-5c70a203b767",
   "metadata": {},
   "outputs": [],
   "source": [
    "df_merged = pd.read_pickle('merged_sensor_df.pkl')\n",
    "cols = list(df_merged.columns[df_merged.columns.str.startswith('PID_ZONE_1')])\n",
    "y = pn.widgets.Select(name='Variable to filter - constant low pass filter', options=cols ,value='PID_ZONE_1_PV')\n",
    "\n",
    "@pn.depends(y.param.value)\n",
    "def plot_PID_data(y):\n",
    "    \n",
    "    df_merged_truncated = df_merged.loc[:, df_merged.columns.str.startswith('PID_ZONE_1')]\n",
    "    df_merged_filtered = df_merged_truncated.copy()\n",
    "    \n",
    "    fig_a = df_merged_truncated.hvplot(height = 500, width = 1200, line_width = 5)\n",
    "    \n",
    "    df_merged_filtered.loc[:,y] = dpm.low_pass_filter(df_merged_truncated.loc[:,y])\n",
    "    fig_b = df_merged_filtered.hvplot.line(y = y, height = 500, width = 1200, color= 'black',line_width = 2)\n",
    "    \n",
    "    return fig_a*fig_b"
   ]
  },
  {
   "cell_type": "code",
   "execution_count": null,
   "id": "6f95c1aa-f63f-41d0-8608-574c7f5d22bd",
   "metadata": {},
   "outputs": [],
   "source": [
    "# Plot \n",
    "explanation_pane = pn.pane.Markdown(\"\"\"\n",
    "# PID Zone 1\n",
    "\"\"\", width=500)\n",
    "\n",
    "# Create interactive panels with radio buttons and checkboxes\n",
    "chart_c_interact = pn.interact(plot_PID_data,y=y)\n",
    "layout_c = pn.Column(explanation_pane, chart_c_interact)\n",
    "layout_c.servable()"
   ]
  },
  {
   "cell_type": "code",
   "execution_count": null,
   "id": "21c7ca82-7a70-45ad-8dc1-43c7ce43dcd0",
   "metadata": {},
   "outputs": [],
   "source": [
    "df_merged = pd.read_pickle('merged_sensor_df.pkl')\n",
    "df_merged = df_merged.resample('1T').mean()\n",
    "\n",
    "cols = list(df_merged.columns[df_merged.columns.str.startswith('PID_ZONE_1')])\n",
    "y = pn.widgets.Select(name='Chose a signal to tune filter parameters', options=cols ,value='PID_ZONE_1_PV'\n",
    "\n",
    "slider = pn.widgets.FloatSlider(start=0.01, end=0.1, step =0.01, value=0.1, name='low pass filter (normalised cut-off freq.)')\n",
    "\n",
    "dt_start_input = pn.widgets.DatetimeInput(name='Start date', value=dt.datetime(2022, 9, 14))\n",
    "dt_end_input = pn.widgets.DatetimeInput(name='End date', value=dt.datetime(2022, 9, 28))\n",
    "\n",
    "@pn.depends(y.param.value)\n",
    "def plot_trunc_PID_data(y,slider_pos, date_start, date_end, Remove_spikes = False):\n",
    "\n",
    "    df_merged_truncated = df_merged.loc[:,df_merged.columns.str.startswith('PID_ZONE_1')]\n",
    "    df_merged_truncated = df_merged_truncated [date_start: date_end]\n",
    "    fig_a = df_merged_truncated.hvplot(height = 500, width = 1200, line_width = 5)\n",
    "    df_merged_filtered = df_merged_truncated.copy()\n",
    "    if Remove_spikes:\n",
    "        df_merged_filtered.loc[:,y] = dpm.remove_spikes(df_merged_truncated.loc[:,y],olr_def=1)\n",
    "    \n",
    "    df_merged_filtered.loc[:,y] = dpm.low_pass_filter(df_merged_filtered.loc[:,y],wn=slider_pos)\n",
    "    fig_b = df_merged_filtered.hvplot.line(y = y, height = 500, width = 1200, color= 'black', label = 'Filtered signal',line_width = 2)\n",
    "    \n",
    "    return fig_a*fig_b"
   ]
  },
  {
   "cell_type": "code",
   "execution_count": null,
   "id": "21866496-78bb-47db-8cda-a80996b43827",
   "metadata": {},
   "outputs": [],
   "source": [
    "# Plot \n",
    "explanation_pane = pn.pane.Markdown(\"\"\"\n",
    "## Processing signals\n",
    "\"\"\", width=500)\n",
    "\n",
    "# Create interactive panels with radio buttons and checkboxes\n",
    "chart_b_interact = pn.interact(plot_trunc_PID_data,y=y,slider_pos=slider,date_start=dt_start_input, date_end=dt_end_input)\n",
    "layout_b = pn.Column(explanation_pane, chart_b_interact)\n",
    "layout_b.servable()"
   ]
  },
  {
   "cell_type": "markdown",
   "id": "42309aea-09ff-4af0-af0e-5f769c3b14c8",
   "metadata": {},
   "source": [
    "**Display air flow**\n",
    "\n",
    "Air flow is plotted using raw data:"
   ]
  },
  {
   "cell_type": "code",
   "execution_count": null,
   "id": "801e50f5-ff80-4bb8-8350-5ebf0a665f69",
   "metadata": {},
   "outputs": [],
   "source": [
    "# Read data realting to air flow\n",
    "df_merged = pd.read_pickle('merged_sensor_df.pkl')\n",
    "cols = list(df_merged.columns[df_merged.columns.str.startswith('AIR_')])\n",
    "\n",
    "df_merged_selected = df_merged.loc[:, df_merged.columns.str.startswith('AIR_')]\n",
    "df_merged_filtered = df_merged_selected.copy()\n",
    "\n",
    "for col in cols:\n",
    "    df_merged_filtered.loc[:,col] = dpm.remove_spikes(df_merged_selected.loc[:,col],olr_def=1)\n",
    "    df_merged_filtered.loc[:,col] = dpm.low_pass_filter(df_merged_filtered.loc[:,col],wn=0.1)\n",
    "\n",
    "def plot_air_data():\n",
    "      \n",
    "    fig_c = df_merged_filtered.hvplot(height = 500, width = 1200, line_width = 5)\n",
    "    \n",
    "    return fig_c"
   ]
  },
  {
   "cell_type": "code",
   "execution_count": null,
   "id": "b3427a7c-297e-4b1d-8c27-52af4c2c15ec",
   "metadata": {},
   "outputs": [],
   "source": [
    "# Plot \n",
    "explanation_pane = pn.pane.Markdown(\"\"\"\n",
    "# Air Flow\n",
    "\"\"\", width=500)\n",
    "\n",
    "# Create interactive panels with radio buttons and checkboxes\n",
    "layout_c = pn.Column(explanation_pane, plot_air_data)\n",
    "layout_c.servable()"
   ]
  },
  {
   "cell_type": "markdown",
   "id": "53354e34-7606-4ec2-80e4-c7f8fdcd8fee",
   "metadata": {},
   "source": [
    "**Display gas flow**\n",
    "\n",
    "Gas flow is plotted using raw data:"
   ]
  },
  {
   "cell_type": "code",
   "execution_count": null,
   "id": "69164cbb-ba3f-4788-97fa-8e1fd271ccd3",
   "metadata": {},
   "outputs": [],
   "source": [
    "# Read data relating to gas flow\n",
    "df_merged = pd.read_pickle('merged_sensor_df.pkl')\n",
    "cols = list(df_merged.columns[df_merged.columns.str.startswith('GAS_')])\n",
    "\n",
    "df_merged_selected = df_merged.loc[:, df_merged.columns.str.startswith('GAS_')]\n",
    "df_merged_filtered = df_merged_selected.copy()\n",
    "\n",
    "for col in cols:\n",
    "    df_merged_filtered.loc[:,col] = dpm.remove_spikes(df_merged_selected.loc[:,col],olr_def=1)\n",
    "    df_merged_filtered.loc[:,col] = dpm.low_pass_filter(df_merged_filtered.loc[:,col],wn=0.01)\n",
    "\n",
    "def plot_gas_data():\n",
    "       \n",
    "    fig_d = df_merged_selected.hvplot(height = 500, width = 1200, line_width = 5)\n",
    "    \n",
    "    return fig_d"
   ]
  },
  {
   "cell_type": "code",
   "execution_count": null,
   "id": "ac402ad0-f51b-4955-b9c5-d3b6bcc6361e",
   "metadata": {},
   "outputs": [],
   "source": [
    "# Plot \n",
    "explanation_pane = pn.pane.Markdown(\"\"\"\n",
    "# Gas Flow\n",
    "\"\"\", width=500)\n",
    "\n",
    "# Create interactive panels with radio buttons and checkboxes\n",
    "layout_c = pn.Column(explanation_pane, plot_gas_data)\n",
    "layout_c.servable()"
   ]
  },
  {
   "cell_type": "markdown",
   "id": "a80f9935-c1dc-45d2-ba21-16c434cb5cfa",
   "metadata": {},
   "source": [
    "**Disply O2 output**\n",
    "\n",
    "Several data filtering techniques are used to improve the signal quality"
   ]
  },
  {
   "cell_type": "code",
   "execution_count": null,
   "id": "f07009c7-280e-4b60-b373-30feb1b2ad6e",
   "metadata": {},
   "outputs": [],
   "source": [
    "df_merged = pd.read_pickle('merged_sensor_df.pkl')\n",
    "df_merged = df_merged.resample('1T').mean()\n",
    "\n",
    "# create widgets\n",
    "slider = pn.widgets.FloatSlider(start=0.01, end=0.1, step =0.01, value=0.1, name='low pass filter (normalised cut-off freq.)')\n",
    "\n",
    "dt_start_input = pn.widgets.DatetimeInput(name='Start date (choose a 4 day period for parameter tuning)', value=dt.datetime(2022, 9, 6))\n",
    "dt_end_input = pn.widgets.DatetimeInput(name='End date', value=dt.datetime(2022, 10, 14))\n",
    "\n",
    "# Define function for ploting  O2 sensor data\n",
    "def plot_O2_data(slider_pos, date_start, date_end, Remove_spikes = False):\n",
    "\n",
    "    df_merged_truncated = df_merged.loc[:,df_merged.columns.str.startswith('FURNACE_0126_341_04_O2')]\n",
    "    df_merged_truncated = df_merged_truncated [date_start: date_end]\n",
    "    fig_a = df_merged_truncated.hvplot(ylabel = 'O2 output',height = 500, width = 1600, line_width = 5, grid= True,legend='left')\n",
    "    df_merged_filtered = df_merged_truncated.copy()\n",
    "    if Remove_spikes:\n",
    "        df_merged_filtered.loc[:,'FURNACE_0126_341_04_O2'] = dpm.remove_spikes(df_merged_truncated.loc[:,'FURNACE_0126_341_04_O2'],olr_def=1)\n",
    "    \n",
    "    df_merged_filtered.loc[:,'FURNACE_0126_341_04_O2'] = dpm.low_pass_filter(df_merged_filtered.loc[:,'FURNACE_0126_341_04_O2'],wn=slider_pos)\n",
    "    fig_b = df_merged_filtered.hvplot.line(y = 'FURNACE_0126_341_04_O2', height = 500, width = 1600, color= 'black', label = 'Filtered signal',line_width = 2)\n",
    "    \n",
    "    return fig_a*fig_b"
   ]
  },
  {
   "cell_type": "code",
   "execution_count": null,
   "id": "8fe9a2e4-4ed6-41fe-94ea-d689734f69e7",
   "metadata": {},
   "outputs": [],
   "source": [
    "# Plot \n",
    "explanation_pane = pn.pane.Markdown(\"\"\"\n",
    "# Output O2\n",
    "\"\"\", width=500)\n",
    "\n",
    "# Create interactive panels\n",
    "chart_b_interact = pn.interact(plot_O2_data,date_start=dt_start_input, date_end=dt_end_input,slider_pos=slider)\n",
    "layout_b = pn.Column(explanation_pane, chart_b_interact)\n",
    "layout_b.servable()"
   ]
  }
 ],
 "metadata": {
  "kernelspec": {
   "display_name": "Python 3 (ipykernel)",
   "language": "python",
   "name": "python3"
  },
  "language_info": {
   "codemirror_mode": {
    "name": "ipython",
    "version": 3
   },
   "file_extension": ".py",
   "mimetype": "text/x-python",
   "name": "python",
   "nbconvert_exporter": "python",
   "pygments_lexer": "ipython3",
   "version": "3.8.15"
  }
 },
 "nbformat": 4,
 "nbformat_minor": 5
}
