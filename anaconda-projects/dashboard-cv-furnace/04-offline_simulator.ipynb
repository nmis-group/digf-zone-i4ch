{
 "cells": [
  {
   "cell_type": "markdown",
   "id": "92a22cb6-e41e-4df0-8f83-9c17966c1f02",
   "metadata": {},
   "source": [
    "## Offline simulator for CV furnace\n",
    "\n",
    "This script given the temperature and expected O2 output predicts the burner settings to be used. This works as a offline simulator to and allows hte user to interact and observe the change in burner settings for different senarios."
   ]
  },
  {
   "cell_type": "markdown",
   "id": "42ac043a-5c34-4b43-ad45-f9b04e11e49f",
   "metadata": {},
   "source": [
    "Import required packages:"
   ]
  },
  {
   "cell_type": "code",
   "execution_count": null,
   "id": "2551ba68-712b-4334-965a-aeac2c7ad845",
   "metadata": {},
   "outputs": [],
   "source": [
    "import pandas as pd\n",
    "import numpy as np\n",
    "import matplotlib\n",
    "import panel as pn\n",
    "import holoviews as hv\n",
    "import hvplot.pandas\n",
    "import plotly.graph_objects as go\n",
    "import data_processing_methods as dpm\n",
    "from sklearn.gaussian_process import GaussianProcessRegressor"
   ]
  },
  {
   "cell_type": "markdown",
   "id": "ce40d615-1d39-4c6f-a869-219abc6ec2c7",
   "metadata": {},
   "source": [
    "Fit the model (prediction model - Gaussian Process Regression)"
   ]
  },
  {
   "cell_type": "code",
   "execution_count": 2,
   "id": "9be9605b-f061-4d0a-913f-f53ffd344f52",
   "metadata": {},
   "outputs": [],
   "source": [
    "# Read the dataframe\n",
    "burner_settings_df = pd.read_excel('Burners_settings_vs_O2 _rev1.xlsx', sheet_name='Sheet1')\n",
    "standardised_df = burner_settings_df.copy()\n",
    "for col in burner_settings_df.columns:\n",
    "\n",
    "    if (np.std(burner_settings_df[col])> 0):\n",
    "        standardised_df[col] = dpm.standardise(burner_settings_df[col],np.mean(burner_settings_df[col]),np.std(burner_settings_df[col]))\n",
    "    else:\n",
    "        standardised_df = standardised_df.drop(columns=col)\n",
    "\n",
    "X1 = standardised_df.drop(columns =['Output O2 / %', 'Output Burner usage / %'])\n",
    "y1 = standardised_df['Output O2 / %']\n",
    "\n",
    "# Drop columns with corr coeffcients higher than 0.9 \n",
    "X1 = X1.drop(columns =['Burner turns from zero', 'Fan speed / RPM'])\n",
    "X1_train = X1[10:]\n",
    "y1_train = y1[10:]\n",
    "\n",
    "# Train Gaussian Process regression model\n",
    "gpr_1 = GaussianProcessRegressor().fit(X1_train, y1_train)\n",
    "y1_std = np.std(burner_settings_df['Output O2 / %'])\n",
    "y1_mean = np.mean(burner_settings_df['Output O2 / %'])"
   ]
  },
  {
   "cell_type": "markdown",
   "id": "d9ff7943-5e3c-4e47-9caa-a35598e54a10",
   "metadata": {},
   "source": [
    "**Scatter plots**\n",
    "\n",
    "Scatter plots results and visualising input parameter limits. User can define the temperature limits and O2 output limits so that application can suggest the best\n",
    "parameters to be used to obtain the expected O2 level."
   ]
  },
  {
   "cell_type": "code",
   "execution_count": 30,
   "id": "a70cbb15-9334-4c69-a37e-14aa3653febb",
   "metadata": {},
   "outputs": [],
   "source": [
    "# No. samples to be generated\n",
    "N_samples = 5000\n",
    "cols = list(X1_train.columns)\n",
    "\n",
    "# Initialise arrays to store samples of un-standardised and \n",
    "# standardised inputs\n",
    "D = len (cols)\n",
    "X_samples_us = np.zeros([N_samples, D])\n",
    "X_samples = np.zeros([N_samples, D])\n",
    "\n",
    "for i in range(N_samples):\n",
    "    for j in range (D):\n",
    "        X_samples_us[i, j] = np.random.uniform(np.min(burner_settings_df[cols[j]]), np.max(burner_settings_df[cols[j]]))\n",
    "        \n",
    "# Standardise the samples created\n",
    "for j in range (D):    \n",
    "    X_samples[:,j] = dpm.standardise(X_samples_us[:,j],np.mean(burner_settings_df[cols[j]]),np.std(burner_settings_df[cols[j]]))\n",
    "\n",
    "# Save the predictions \n",
    "X_samples_df = pd.DataFrame(data = X_samples, columns = cols)\n",
    "X_samples_us_df = pd.DataFrame(data = X_samples_us, columns = cols)\n",
    "y_samples_predict = gpr_1.predict(X_samples_df)\n",
    "y_samples_predict = y_samples_predict*y1_std+y1_mean\n",
    "X_samples_us_df['Predicted O2 %'] = y_samples_predict\n",
    "\n",
    "cols_samples = list(X_samples_us_df.columns)\n",
    "y_samples = pn.widgets.Select(name='Chose a signal', options=cols_samples ,value='Temperature setpoint / degC')\n",
    "\n",
    "# Create widgets for setting input limits\n",
    "temp_min_slider = pn.widgets.IntSlider(name='Temperature min limit', start=1100, end=1150, step=1, value = 1140)\n",
    "temp_max_slider = pn.widgets.IntSlider(name='Temperature max limit', start=1100, end=1150, step=1, value = 1145)\n",
    "O2_min_slider = pn.widgets.IntSlider(name='O2 min limit', start=0, end=10, step=1, value = 0)\n",
    "O2_max_slider = pn.widgets.IntSlider(name='O2 maxt limit', start=0, end=10, step=1, value = 2)\n",
    "\n",
    "@pn.depends(y_samples.param.value)\n",
    "def plot_main_effects(y_samples,slider_pos_temp_min,slider_pos_temp_max,slider_pos_O2_min,slider_pos_O2_max):\n",
    "    # Find the mean of each bin (binning data)\n",
    "    n_bins = 30\n",
    "    x_plot = X_samples_us_df[y_samples]\n",
    "    y_plot = X_samples_us_df['Predicted O2 %']\n",
    "\n",
    "    bins = np.linspace(np.min(x_plot), np.max(x_plot), n_bins)\n",
    "    main_effect = np.zeros(len(bins)-1)\n",
    "    main_effect_index = np.zeros(len(bins)-1)\n",
    "    main_effect_df = pd.DataFrame({})\n",
    "    \n",
    "    for j in range(len(bins)-1):\n",
    "        indx = np.logical_and(x_plot > bins[j], x_plot < bins[j+1])\n",
    "        main_effect_index[j] = 0.5*(bins[j] + bins[j+1])\n",
    "\n",
    "        # Only compute mean if there are any points in bin\n",
    "        if np.sum(indx) > 0:\n",
    "            main_effect[j] = np.mean(y_plot[indx])\n",
    "\n",
    "    main_effect_df['index'] = main_effect_index\n",
    "    main_effect_df['value'] = main_effect\n",
    "    \n",
    "    if (y_samples == 'Temperature setpoint / degC'):\n",
    "        vline1 = hv.VLine(int(slider_pos_temp_min))\n",
    "        vline1.opts(color= '#d83569')\n",
    "        vline2 = hv.VLine(int(slider_pos_temp_max))\n",
    "        vline2.opts(color= '#d83569')\n",
    "        \n",
    "        h1line = hv.HLine(int(slider_pos_O2_min))\n",
    "        h1line.opts(color='#d83569')               \n",
    "        h2line = hv.HLine(int(slider_pos_O2_max))\n",
    "        h2line.opts(color='#d83569')\n",
    "\n",
    "                \n",
    "    # plot main effects of model inputs\n",
    "    fig_c = X_samples_us_df.hvplot.scatter(x = y_samples, y = 'Predicted O2 %', height = 500, width = 900, hover_cols = 'all')\n",
    "    fig_d = main_effect_df.hvplot.line(x = 'index', y = 'value', xlim =[np.min(x_plot), np.max(x_plot)],color= 'red')\n",
    "    if (y_samples == 'Temperature setpoint / degC'):\n",
    "        fig = fig_c*fig_d*vline1*vline2*h1line*h2line\n",
    "    \n",
    "        ind1 = np.logical_and(X_samples_us_df['Temperature setpoint / degC']>slider_pos_temp_min,X_samples_us_df['Temperature setpoint / degC']<slider_pos_temp_max)\n",
    "        X_samples_a_df = X_samples_us_df[ind1]\n",
    "        ind2 = np.logical_and(X_samples_a_df['Predicted O2 %']<slider_pos_O2_max,X_samples_a_df['Predicted O2 %']>slider_pos_O2_min)\n",
    "        sorted_df = X_samples_a_df[ind2].sort_values(by=['Predicted O2 %'],ignore_index = True)\n",
    "\n",
    "        num1 = pn.indicators.Number(name='Fan setpoint', value=int(sorted_df['Fan setpoint / %'][0]), format='{value}%')\n",
    "        num2 = pn.indicators.Number(name='Burner apporx. value', value=int(sorted_df['Burner approx value'][0]), format='{value}')\n",
    "        num3 = pn.indicators.Number(name='Damper range (high)', value=int(sorted_df[' damper range / % (low)'][0]), format='{value}%')\n",
    "        num4 = pn.indicators.Number(name='Damper range (low)', value=int(sorted_df['damper range / % (High)'][0]), format='{value}%')\n",
    "        num = pn.Row(pn.Column(num1,num2),pn.Column(num3,num4))\n",
    "        fig_out = pn.Row(fig,num)\n",
    "    else:\n",
    "        fig_out = fig_c*fig_d\n",
    "        \n",
    "    return fig_out"
   ]
  },
  {
   "cell_type": "code",
   "execution_count": null,
   "id": "73399f39-1632-4ccf-9164-b8dba75ddfdf",
   "metadata": {},
   "outputs": [],
   "source": [
    "# Plot  \n",
    "explanation_pane = pn.pane.Markdown(\"\"\"\n",
    "# Main effects\n",
    "\"\"\", width=500)\n",
    "\n",
    "# Create interactive panels\n",
    "chart_interact = pn.interact(plot_main_effects, y_samples = y_samples, slider_pos_temp_min=temp_min_slider, slider_pos_temp_max=temp_max_slider, \n",
    "                             slider_pos_O2_min=O2_min_slider, slider_pos_O2_max=O2_max_slider)\n",
    "layout_b = pn.Column(explanation_pane, chart_interact)\n",
    "layout_b.servable()"
   ]
  },
  {
   "cell_type": "code",
   "execution_count": null,
   "id": "e869f330-a814-42ad-b7cd-3aa3e93e62e9",
   "metadata": {},
   "outputs": [],
   "source": []
  },
  {
   "cell_type": "code",
   "execution_count": null,
   "id": "7d81b172-1f2d-4538-97c7-e649bf92c55e",
   "metadata": {},
   "outputs": [],
   "source": []
  }
 ],
 "metadata": {
  "kernelspec": {
   "display_name": "Python 3 (ipykernel)",
   "language": "python",
   "name": "python3"
  },
  "language_info": {
   "codemirror_mode": {
    "name": "ipython",
    "version": 3
   },
   "file_extension": ".py",
   "mimetype": "text/x-python",
   "name": "python",
   "nbconvert_exporter": "python",
   "pygments_lexer": "ipython3",
   "version": "3.8.15"
  }
 },
 "nbformat": 4,
 "nbformat_minor": 5
}
