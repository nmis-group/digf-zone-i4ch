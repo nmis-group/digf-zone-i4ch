{
 "cells": [
  {
   "cell_type": "markdown",
   "id": "50b1f40f-4d1c-4321-9aaf-d2250d56e76a",
   "metadata": {},
   "source": [
    "## Import required packages"
   ]
  },
  {
   "cell_type": "code",
   "execution_count": null,
   "id": "add18ffa-e4b4-4afe-9d4d-a39f13562196",
   "metadata": {},
   "outputs": [],
   "source": [
    "import pandas as pd\n",
    "import numpy as np\n",
    "import matplotlib\n",
    "import matplotlib.pyplot as plt\n",
    "%matplotlib inline\n",
    "import holoviews as hv\n",
    "import hvplot.pandas\n",
    "import panel as pn\n",
    "import data_processing_methods as dpm"
   ]
  },
  {
   "cell_type": "markdown",
   "id": "bbc21f6f-71be-466c-aca3-9ff1c7f9d8f6",
   "metadata": {},
   "source": [
    "## Plot sensor data"
   ]
  },
  {
   "cell_type": "code",
   "execution_count": null,
   "id": "2be8d26e-8003-4003-8101-c43c7d280fb3",
   "metadata": {},
   "outputs": [],
   "source": [
    "df_merged = pd.read_pickle('merged_sensor_df.pkl')\n",
    "\n",
    "plt.rcParams[\"figure.figsize\"] = (20,20)\n",
    "df_merged.plot(subplots=True, layout=(7,5))\n",
    "plt.show()"
   ]
  },
  {
   "cell_type": "markdown",
   "id": "d5e375c4-971d-4fd9-9781-d446d91dffba",
   "metadata": {},
   "source": [
    "## Create a dashboard for visualising and further processing"
   ]
  },
  {
   "cell_type": "code",
   "execution_count": null,
   "id": "24140025-5ab8-4f51-9f47-24ed8aa5ce01",
   "metadata": {},
   "outputs": [],
   "source": [
    "df_merged = pd.read_pickle('merged_sensor_df.pkl')\n",
    "cols = list(df_merged.columns[df_merged.columns.str.startswith('ROOF_0104_300_')])\n",
    "y = pn.widgets.Select(name='Variable to tune parameters', options=cols ,value='ROOF_0104_300_10_TC')\n",
    "\n",
    "@pn.depends(y.param.value)\n",
    "def plot_furnace_data(y):\n",
    "    \n",
    "    df_merged_truncated = df_merged.loc[:, df_merged.columns.str.startswith('ROOF_0104_300_')]\n",
    "    df_merged_filtered = df_merged_truncated.copy()\n",
    "    \n",
    "    fig_a = df_merged_truncated.hvplot(height = 500, width = 1200, line_width = 5)\n",
    "    \n",
    "    df_merged_filtered.loc[:,y] = dpm.low_pass_filter(df_merged_truncated.loc[:,y])\n",
    "    fig_b = df_merged_filtered.hvplot.line(y = y, height = 500, width = 1200, color= 'black')\n",
    "    \n",
    "    return fig_a*fig_b"
   ]
  },
  {
   "cell_type": "code",
   "execution_count": null,
   "id": "51fcc209-71f7-45ea-a234-afd3919c4e94",
   "metadata": {},
   "outputs": [],
   "source": [
    "# Plot total number of employess and turnover for each sector(depending on SIC code) \n",
    "explanation_pane = pn.pane.Markdown(\"\"\"\n",
    "# Calorific Value (CV) - Furnace data\n",
    "\"\"\", width=500)\n",
    "\n",
    "# Create interactive panels with radio buttons and checkboxes\n",
    "chart_interact = pn.interact(plot_furnace_data,y=y)\n",
    "layout = pn.Column(explanation_pane, chart_interact)\n",
    "layout.servable()"
   ]
  },
  {
   "cell_type": "code",
   "execution_count": null,
   "id": "70fd7733-7edc-44bb-9572-5c70a203b767",
   "metadata": {},
   "outputs": [],
   "source": [
    "df_merged = pd.read_pickle('merged_sensor_df.pkl')\n",
    "cols = list(df_merged.columns[df_merged.columns.str.startswith('PID_ZONE_1')])\n",
    "y = pn.widgets.Select(name='Variable to tune parameters', options=cols ,value='PID_ZONE_1_PV')\n",
    "\n",
    "@pn.depends(y.param.value)\n",
    "def plot_PID_data(y):\n",
    "    \n",
    "    df_merged_truncated = df_merged.loc[:, df_merged.columns.str.startswith('PID_ZONE_1')]\n",
    "    df_merged_filtered = df_merged_truncated.copy()\n",
    "    \n",
    "    fig_a = df_merged_truncated.hvplot(height = 500, width = 1200, line_width = 5)\n",
    "    \n",
    "    df_merged_filtered.loc[:,y] = dpm.low_pass_filter(df_merged_truncated.loc[:,y])\n",
    "    fig_b = df_merged_filtered.hvplot.line(y = y, height = 500, width = 1200, color= 'black')\n",
    "    \n",
    "    return fig_a*fig_b"
   ]
  },
  {
   "cell_type": "code",
   "execution_count": null,
   "id": "6f95c1aa-f63f-41d0-8608-574c7f5d22bd",
   "metadata": {},
   "outputs": [],
   "source": [
    "# Plot total number of employess and turnover for each sector(depending on SIC code) \n",
    "explanation_pane = pn.pane.Markdown(\"\"\"\n",
    "# Calorific Value (CV) - Furnace data\n",
    "\"\"\", width=500)\n",
    "\n",
    "# Create interactive panels with radio buttons and checkboxes\n",
    "chart_interact = pn.interact(plot_PID_data,y=y)\n",
    "layout = pn.Column(explanation_pane, chart_interact)\n",
    "layout.servable()"
   ]
  },
  {
   "cell_type": "code",
   "execution_count": null,
   "id": "21c7ca82-7a70-45ad-8dc1-43c7ce43dcd0",
   "metadata": {},
   "outputs": [],
   "source": []
  }
 ],
 "metadata": {
  "kernelspec": {
   "display_name": "Python 3 (ipykernel)",
   "language": "python",
   "name": "python3"
  },
  "language_info": {
   "codemirror_mode": {
    "name": "ipython",
    "version": 3
   },
   "file_extension": ".py",
   "mimetype": "text/x-python",
   "name": "python",
   "nbconvert_exporter": "python",
   "pygments_lexer": "ipython3",
   "version": "3.9.12"
  }
 },
 "nbformat": 4,
 "nbformat_minor": 5
}
