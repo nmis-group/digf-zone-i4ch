{
 "cells": [
  {
   "cell_type": "code",
   "execution_count": null,
   "id": "47398b94",
   "metadata": {},
   "outputs": [],
   "source": [
    "import socket \n",
    "import sys\n",
    "import time\n",
    "import threading"
   ]
  },
  {
   "cell_type": "code",
   "execution_count": null,
   "id": "bc369af1",
   "metadata": {},
   "outputs": [],
   "source": [
    "client.close()\n",
    "print(\"Socket closed.\")"
   ]
  },
  {
   "cell_type": "code",
   "execution_count": null,
   "id": "4ee269e2",
   "metadata": {},
   "outputs": [],
   "source": [
    "# define client\n",
    "client = socket.socket(socket.AF_INET, socket.SOCK_STREAM)\n",
    "client.bind(('10.1.1.1', 6678))"
   ]
  },
  {
   "cell_type": "code",
   "execution_count": null,
   "id": "fece3665",
   "metadata": {},
   "outputs": [],
   "source": [
    "host = socket.gethostname()\n",
    "host"
   ]
  },
  {
   "cell_type": "code",
   "execution_count": null,
   "id": "b84f6ade",
   "metadata": {},
   "outputs": [],
   "source": [
    "# set socket to non blocking\n",
    "client.setblocking(0)\n",
    "client.settimeout(5000)"
   ]
  },
  {
   "cell_type": "code",
   "execution_count": null,
   "id": "bf0b23d8",
   "metadata": {},
   "outputs": [],
   "source": [
    "# connect the socket object to the LTPA using IP address (string) and port (int)\n",
    "ltpa_ip= \"10.1.1.2\"\n",
    "ltpa_port = 1067\n",
    "client.connect((ltpa_ip, ltpa_port))\n",
    "print('Socket Connected to ' + ltpa_ip)"
   ]
  },
  {
   "cell_type": "code",
   "execution_count": null,
   "id": "919d3d05",
   "metadata": {},
   "outputs": [],
   "source": [
    "client"
   ]
  },
  {
   "cell_type": "code",
   "execution_count": null,
   "id": "4cfff788",
   "metadata": {},
   "outputs": [],
   "source": [
    "command = \"STA\"\n",
    "encoded_command = bytes(command, \"ascii\")\n",
    "client.send(encoded_command)"
   ]
  },
  {
   "cell_type": "code",
   "execution_count": null,
   "id": "edcdcee9",
   "metadata": {},
   "outputs": [],
   "source": [
    "# send command to ltpa to ensure connection\n",
    "command = \"STA\"\n",
    "client.send(bytes(command,'ascii'))\n",
    "time.sleep(1)"
   ]
  },
  {
   "cell_type": "code",
   "execution_count": null,
   "id": "f2734976",
   "metadata": {},
   "outputs": [],
   "source": [
    "msg = client.recv(1024)\n",
    "print(msg)"
   ]
  },
  {
   "cell_type": "code",
   "execution_count": null,
   "id": "ce091c19",
   "metadata": {},
   "outputs": [],
   "source": [
    "msg = client.recv(4096).decode('ascii')\n",
    "\n"
   ]
  },
  {
   "cell_type": "code",
   "execution_count": null,
   "id": "ddcb363e",
   "metadata": {},
   "outputs": [],
   "source": [
    "import socket\n",
    "import threading\n",
    "import sys\n",
    "\n",
    "def recv_msg():\n",
    "    while True:\n",
    "        recv_msg = conn.recv(1024)\n",
    "        if not recv_msg:\n",
    "            sys.exit(0)\n",
    "        recv_msg = recv_msg.decode()\n",
    "        print(recv_msg)\n",
    "\n",
    "def send_msg():\n",
    "    while True:\n",
    "        send_msg = input(str(\"STA\"))\n",
    "        send_msg = send_msg.encode()\n",
    "        conn.send(send_msg)\n",
    "        print(\"message sent\")\n",
    "\n",
    "host = socket.gethostname()\n",
    "port = 8080\n",
    "\n",
    "s = socket.socket(socket.AF_INET, socket.SOCK_STREAM)\n",
    "s.bind(('10.1.1.1', 0))\n",
    "s.listen(1)\n",
    "\n",
    "print(\"Waiting for connections\")\n",
    "conn, addr = s.accept()\n",
    "\n",
    "print(\"Client has connected\")\n",
    "conn.send(\"Welcome to the server\".encode())\n",
    "\n",
    "# thread has to start before other loop\n",
    "t = threading.Thread(target=recv_msg)\n",
    "t.start()\n",
    "\n",
    "send_msg()"
   ]
  }
 ],
 "metadata": {
  "kernelspec": {
   "display_name": "Python 3 (ipykernel)",
   "language": "python",
   "name": "python3"
  },
  "language_info": {
   "codemirror_mode": {
    "name": "ipython",
    "version": 3
   },
   "file_extension": ".py",
   "mimetype": "text/x-python",
   "name": "python",
   "nbconvert_exporter": "python",
   "pygments_lexer": "ipython3",
   "version": "3.9.13"
  }
 },
 "nbformat": 4,
 "nbformat_minor": 5
}
