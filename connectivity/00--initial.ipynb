{
 "cells": [
  {
   "cell_type": "code",
   "execution_count": 47,
   "id": "190603ab-2b64-437d-8065-a1440a25dcb5",
   "metadata": {},
   "outputs": [],
   "source": [
    "import sys\n",
    "import time\n",
    "import logging\n",
    "import os\n",
    "import opcua\n",
    "import pandas as pd\n",
    "import matplotlib.pyplot as plt\n",
    "plt.rcParams['figure.figsize'] = [20, 5]"
   ]
  },
  {
   "cell_type": "code",
   "execution_count": 48,
   "id": "7a100bed-52cd-4783-9636-3562f3b1968e",
   "metadata": {},
   "outputs": [],
   "source": [
    "# url = \"opc.tcp://130.159.75.138:48050\"\n",
    "# url = \"opc.tcp://CX-696B93:4840\"\n",
    "\n",
    "# define opc server address & credentials\n",
    "url = \"opc.tcp://130.159.75.138:4840\"\n",
    "client = opcua.Client(url = url)\n",
    "client.set_user(username = 'Administrator')\n",
    "client.set_password(pwd = '*500TPress*')"
   ]
  },
  {
   "cell_type": "code",
   "execution_count": 49,
   "id": "19e89b8e-2682-4468-baad-f2a24312cdd3",
   "metadata": {},
   "outputs": [],
   "source": [
    "# connect to the opc-ua client\n",
    "client.connect()"
   ]
  },
  {
   "cell_type": "code",
   "execution_count": 50,
   "id": "ab033490-1845-4c34-b8df-5dedce6f3342",
   "metadata": {},
   "outputs": [
    {
     "name": "stdout",
     "output_type": "stream",
     "text": [
      "Ambient Temperature: 20.7 C\n"
     ]
    }
   ],
   "source": [
    "# test connection using a single known node\n",
    "p = client.get_node(\"ns=4;s=GVL_Analog_Engineering_Units.lrEL3202_1_Ambient_Temperature_Front\")\n",
    "var = p.get_data_value()\n",
    "print(\"Ambient Temperature: {} C\".format(var.Value.Value))"
   ]
  },
  {
   "cell_type": "code",
   "execution_count": 51,
   "id": "4fc886e2-c71f-49ac-8e87-614352eae249",
   "metadata": {},
   "outputs": [
    {
     "name": "stdout",
     "output_type": "stream",
     "text": [
      "147.39999389648438\n",
      "-0.27001953125\n",
      "21.002140045166016\n",
      "21.350337982177734\n",
      "0.0\n",
      "0.0\n",
      "0.0\n",
      "0.0\n",
      "20.7\n",
      "20.6\n",
      "21.5\n",
      "1372.0\n",
      "1372.0\n",
      "1372.0\n",
      "1372.0\n",
      "1372.0\n",
      "1372.0\n",
      "25.399999618530273\n",
      "59.85580062866211\n"
     ]
    }
   ],
   "source": [
    "# define nodes as string values\n",
    "nodeid_list = [\"ns=4;s=GVL_OPTO22.Press_Position\",\n",
    "               \"ns=4;s=GVL_OPTO22.Main_Cylinder_Pressure\",\n",
    "               \"ns=4;s=GVL_OPTO22.Bottom_Die_Temperature\",\n",
    "               \"ns=4;s=GVL_OPTO22.Top_Die_Temperature\",\n",
    "               \"ns=4;s=GVL_OPTO22.Bottom_Die_Heater_Power_Demand\",\n",
    "               \"ns=4;s=GVL_OPTO22.Top_Die_Heater_Power_Demand\",\n",
    "               \"ns=4;s=GVL_OPTO22.Pump_Pressure_Demand\",\n",
    "               \"ns=4;s=GVL_OPTO22.Pump_Flow_Demand\",\n",
    "               \"ns=4;s=GVL_Analog_Engineering_Units.lrEL3202_1_Ambient_Temperature_Front\",\n",
    "               \"ns=4;s=GVL_Analog_Engineering_Units.lrEL3202_2_Ambient_Temperature_Back\",\n",
    "               \"ns=4;s=GVL_Analog_Engineering_Units.nEL3318_1_Engineering_Unit\",\n",
    "               \"ns=4;s=GVL_Analog_Engineering_Units.nEL3318_2_Engineering_Unit\",\n",
    "               \"ns=4;s=GVL_Analog_Engineering_Units.nEL3318_3_Engineering_Unit\",\n",
    "               \"ns=4;s=GVL_Analog_Engineering_Units.nEL3318_4_Engineering_Unit\",\n",
    "               \"ns=4;s=GVL_Analog_Engineering_Units.nEL3318_5_Engineering_Unit\",\n",
    "               \"ns=4;s=GVL_Analog_Engineering_Units.nEL3318_6_Engineering_Unit\",\n",
    "               \"ns=4;s=GVL_Analog_Engineering_Units.nEL3318_7_Engineering_Unit\",\n",
    "               \"ns=4;s=GVL_Analog_Engineering_Units.nEL3318_8_Engineering_Unit\",\n",
    "               \"ns=4;s=GVL_Analog_Engineering_Units.rTotal_KW_MainsIncomer\"]\n",
    "\n",
    "# convert node strings values to opcua node classes\n",
    "nodeid_ua = [client.get_node(nodeid) for nodeid in nodeid_list]\n",
    "\n",
    "# test sampling opcua client with previouslt defined node list in single interrogation\n",
    "node_vals = client.get_values(nodeid_ua)\n",
    "for val in node_vals:\n",
    "    print(val)"
   ]
  },
  {
   "cell_type": "code",
   "execution_count": 52,
   "id": "dc9f1636-175e-4ca9-b923-1ad0fcb46752",
   "metadata": {},
   "outputs": [],
   "source": [
    "# create dataframe to store\n",
    "col_names = [name.split('.')[1] for name in nodeid_list]\n",
    "col_names.insert(0, \"t-delta\")\n",
    "col_names.insert(0, \"t\")\n",
    "df = pd.DataFrame(columns=col_names)"
   ]
  },
  {
   "cell_type": "code",
   "execution_count": 53,
   "id": "408019a2-e2bd-476e-9779-f7aff79e9b98",
   "metadata": {},
   "outputs": [
    {
     "data": {
      "text/html": [
       "<div>\n",
       "<style scoped>\n",
       "    .dataframe tbody tr th:only-of-type {\n",
       "        vertical-align: middle;\n",
       "    }\n",
       "\n",
       "    .dataframe tbody tr th {\n",
       "        vertical-align: top;\n",
       "    }\n",
       "\n",
       "    .dataframe thead th {\n",
       "        text-align: right;\n",
       "    }\n",
       "</style>\n",
       "<table border=\"1\" class=\"dataframe\">\n",
       "  <thead>\n",
       "    <tr style=\"text-align: right;\">\n",
       "      <th></th>\n",
       "      <th>t</th>\n",
       "      <th>t-delta</th>\n",
       "      <th>Press_Position</th>\n",
       "      <th>Main_Cylinder_Pressure</th>\n",
       "      <th>Bottom_Die_Temperature</th>\n",
       "      <th>Top_Die_Temperature</th>\n",
       "      <th>Bottom_Die_Heater_Power_Demand</th>\n",
       "      <th>Top_Die_Heater_Power_Demand</th>\n",
       "      <th>Pump_Pressure_Demand</th>\n",
       "      <th>Pump_Flow_Demand</th>\n",
       "      <th>...</th>\n",
       "      <th>lrEL3202_2_Ambient_Temperature_Back</th>\n",
       "      <th>nEL3318_1_Engineering_Unit</th>\n",
       "      <th>nEL3318_2_Engineering_Unit</th>\n",
       "      <th>nEL3318_3_Engineering_Unit</th>\n",
       "      <th>nEL3318_4_Engineering_Unit</th>\n",
       "      <th>nEL3318_5_Engineering_Unit</th>\n",
       "      <th>nEL3318_6_Engineering_Unit</th>\n",
       "      <th>nEL3318_7_Engineering_Unit</th>\n",
       "      <th>nEL3318_8_Engineering_Unit</th>\n",
       "      <th>rTotal_KW_MainsIncomer</th>\n",
       "    </tr>\n",
       "  </thead>\n",
       "  <tbody>\n",
       "    <tr>\n",
       "      <th>0</th>\n",
       "      <td>1.668205e+09</td>\n",
       "      <td>0.003675</td>\n",
       "      <td>147.399994</td>\n",
       "      <td>-0.23999</td>\n",
       "      <td>21.00214</td>\n",
       "      <td>21.350338</td>\n",
       "      <td>0.0</td>\n",
       "      <td>0.0</td>\n",
       "      <td>0.0</td>\n",
       "      <td>0.0</td>\n",
       "      <td>...</td>\n",
       "      <td>20.6</td>\n",
       "      <td>21.5</td>\n",
       "      <td>1372.0</td>\n",
       "      <td>1372.0</td>\n",
       "      <td>1372.0</td>\n",
       "      <td>1372.0</td>\n",
       "      <td>1372.0</td>\n",
       "      <td>1372.0</td>\n",
       "      <td>25.5</td>\n",
       "      <td>59.855846</td>\n",
       "    </tr>\n",
       "    <tr>\n",
       "      <th>1</th>\n",
       "      <td>1.668205e+09</td>\n",
       "      <td>0.003446</td>\n",
       "      <td>147.399994</td>\n",
       "      <td>-0.23999</td>\n",
       "      <td>21.00214</td>\n",
       "      <td>21.350338</td>\n",
       "      <td>0.0</td>\n",
       "      <td>0.0</td>\n",
       "      <td>0.0</td>\n",
       "      <td>0.0</td>\n",
       "      <td>...</td>\n",
       "      <td>20.6</td>\n",
       "      <td>21.5</td>\n",
       "      <td>1372.0</td>\n",
       "      <td>1372.0</td>\n",
       "      <td>1372.0</td>\n",
       "      <td>1372.0</td>\n",
       "      <td>1372.0</td>\n",
       "      <td>1372.0</td>\n",
       "      <td>25.5</td>\n",
       "      <td>59.855846</td>\n",
       "    </tr>\n",
       "    <tr>\n",
       "      <th>2</th>\n",
       "      <td>1.668205e+09</td>\n",
       "      <td>0.003190</td>\n",
       "      <td>147.399994</td>\n",
       "      <td>-0.23999</td>\n",
       "      <td>21.00214</td>\n",
       "      <td>21.350338</td>\n",
       "      <td>0.0</td>\n",
       "      <td>0.0</td>\n",
       "      <td>0.0</td>\n",
       "      <td>0.0</td>\n",
       "      <td>...</td>\n",
       "      <td>20.6</td>\n",
       "      <td>21.5</td>\n",
       "      <td>1372.0</td>\n",
       "      <td>1372.0</td>\n",
       "      <td>1372.0</td>\n",
       "      <td>1372.0</td>\n",
       "      <td>1372.0</td>\n",
       "      <td>1372.0</td>\n",
       "      <td>25.5</td>\n",
       "      <td>59.855846</td>\n",
       "    </tr>\n",
       "    <tr>\n",
       "      <th>3</th>\n",
       "      <td>1.668205e+09</td>\n",
       "      <td>0.003267</td>\n",
       "      <td>147.399994</td>\n",
       "      <td>-0.23999</td>\n",
       "      <td>21.00214</td>\n",
       "      <td>21.350338</td>\n",
       "      <td>0.0</td>\n",
       "      <td>0.0</td>\n",
       "      <td>0.0</td>\n",
       "      <td>0.0</td>\n",
       "      <td>...</td>\n",
       "      <td>20.6</td>\n",
       "      <td>21.5</td>\n",
       "      <td>1372.0</td>\n",
       "      <td>1372.0</td>\n",
       "      <td>1372.0</td>\n",
       "      <td>1372.0</td>\n",
       "      <td>1372.0</td>\n",
       "      <td>1372.0</td>\n",
       "      <td>25.5</td>\n",
       "      <td>59.855846</td>\n",
       "    </tr>\n",
       "    <tr>\n",
       "      <th>4</th>\n",
       "      <td>1.668205e+09</td>\n",
       "      <td>0.003369</td>\n",
       "      <td>147.399994</td>\n",
       "      <td>-0.23999</td>\n",
       "      <td>21.00214</td>\n",
       "      <td>21.350338</td>\n",
       "      <td>0.0</td>\n",
       "      <td>0.0</td>\n",
       "      <td>0.0</td>\n",
       "      <td>0.0</td>\n",
       "      <td>...</td>\n",
       "      <td>20.6</td>\n",
       "      <td>21.5</td>\n",
       "      <td>1372.0</td>\n",
       "      <td>1372.0</td>\n",
       "      <td>1372.0</td>\n",
       "      <td>1372.0</td>\n",
       "      <td>1372.0</td>\n",
       "      <td>1372.0</td>\n",
       "      <td>25.5</td>\n",
       "      <td>59.855846</td>\n",
       "    </tr>\n",
       "  </tbody>\n",
       "</table>\n",
       "<p>5 rows × 21 columns</p>\n",
       "</div>"
      ],
      "text/plain": [
       "              t   t-delta  Press_Position  Main_Cylinder_Pressure  \\\n",
       "0  1.668205e+09  0.003675      147.399994                -0.23999   \n",
       "1  1.668205e+09  0.003446      147.399994                -0.23999   \n",
       "2  1.668205e+09  0.003190      147.399994                -0.23999   \n",
       "3  1.668205e+09  0.003267      147.399994                -0.23999   \n",
       "4  1.668205e+09  0.003369      147.399994                -0.23999   \n",
       "\n",
       "   Bottom_Die_Temperature  Top_Die_Temperature  \\\n",
       "0                21.00214            21.350338   \n",
       "1                21.00214            21.350338   \n",
       "2                21.00214            21.350338   \n",
       "3                21.00214            21.350338   \n",
       "4                21.00214            21.350338   \n",
       "\n",
       "   Bottom_Die_Heater_Power_Demand  Top_Die_Heater_Power_Demand  \\\n",
       "0                             0.0                          0.0   \n",
       "1                             0.0                          0.0   \n",
       "2                             0.0                          0.0   \n",
       "3                             0.0                          0.0   \n",
       "4                             0.0                          0.0   \n",
       "\n",
       "   Pump_Pressure_Demand  Pump_Flow_Demand  ...  \\\n",
       "0                   0.0               0.0  ...   \n",
       "1                   0.0               0.0  ...   \n",
       "2                   0.0               0.0  ...   \n",
       "3                   0.0               0.0  ...   \n",
       "4                   0.0               0.0  ...   \n",
       "\n",
       "   lrEL3202_2_Ambient_Temperature_Back  nEL3318_1_Engineering_Unit  \\\n",
       "0                                 20.6                        21.5   \n",
       "1                                 20.6                        21.5   \n",
       "2                                 20.6                        21.5   \n",
       "3                                 20.6                        21.5   \n",
       "4                                 20.6                        21.5   \n",
       "\n",
       "   nEL3318_2_Engineering_Unit  nEL3318_3_Engineering_Unit  \\\n",
       "0                      1372.0                      1372.0   \n",
       "1                      1372.0                      1372.0   \n",
       "2                      1372.0                      1372.0   \n",
       "3                      1372.0                      1372.0   \n",
       "4                      1372.0                      1372.0   \n",
       "\n",
       "   nEL3318_4_Engineering_Unit  nEL3318_5_Engineering_Unit  \\\n",
       "0                      1372.0                      1372.0   \n",
       "1                      1372.0                      1372.0   \n",
       "2                      1372.0                      1372.0   \n",
       "3                      1372.0                      1372.0   \n",
       "4                      1372.0                      1372.0   \n",
       "\n",
       "   nEL3318_6_Engineering_Unit  nEL3318_7_Engineering_Unit  \\\n",
       "0                      1372.0                      1372.0   \n",
       "1                      1372.0                      1372.0   \n",
       "2                      1372.0                      1372.0   \n",
       "3                      1372.0                      1372.0   \n",
       "4                      1372.0                      1372.0   \n",
       "\n",
       "   nEL3318_8_Engineering_Unit  rTotal_KW_MainsIncomer  \n",
       "0                        25.5               59.855846  \n",
       "1                        25.5               59.855846  \n",
       "2                        25.5               59.855846  \n",
       "3                        25.5               59.855846  \n",
       "4                        25.5               59.855846  \n",
       "\n",
       "[5 rows x 21 columns]"
      ]
     },
     "execution_count": 53,
     "metadata": {},
     "output_type": "execute_result"
    }
   ],
   "source": [
    "# sample opcua client and evaluate time taken to parse each sample\n",
    "sample_num = 0\n",
    "num_samples = 50000\n",
    "\n",
    "while sample_num < num_samples:\n",
    "    start = time.time()\n",
    "    node_vals = client.get_values(nodeid_ua)\n",
    "    stop = time.time()\n",
    "    node_vals.insert(0, stop-start)\n",
    "    node_vals.insert(0, start)\n",
    "    df.loc[len(df)] = node_vals\n",
    "    sample_num +=1\n",
    "\n",
    "df.head()"
   ]
  },
  {
   "cell_type": "code",
   "execution_count": 54,
   "id": "fca79bfe-3a40-4dd0-8fe2-efc52ad9c68c",
   "metadata": {},
   "outputs": [
    {
     "data": {
      "text/plain": [
       "<AxesSubplot:xlabel='t'>"
      ]
     },
     "execution_count": 54,
     "metadata": {},
     "output_type": "execute_result"
    },
    {
     "data": {
      "image/png": "[encoded data removed]",
      "text/plain": [
       "<Figure size 1440x360 with 1 Axes>"
      ]
     },
     "metadata": {
      "needs_background": "light"
     },
     "output_type": "display_data"
    }
   ],
   "source": [
    "df-0:1000].plot.line(x='t', y='t-delta', style='-')"
   ]
  },
  {
   "cell_type": "code",
   "execution_count": 55,
   "id": "2ddad891-9cf6-45a8-8d31-4ec7b6f7ad2c",
   "metadata": {},
   "outputs": [],
   "source": [
    "# connect to the opc-ua client\n",
    "client.disconnect()"
   ]
  },
  {
   "cell_type": "code",
   "execution_count": null,
   "id": "c2ec6f3f-1b95-4503-bf16-ad8579438463",
   "metadata": {},
   "outputs": [],
   "source": []
  },
  {
   "cell_type": "code",
   "execution_count": null,
   "id": "680b5718-4a17-4afa-8aa9-c81bd3ae69fb",
   "metadata": {},
   "outputs": [],
   "source": []
  },
  {
   "cell_type": "code",
   "execution_count": 24,
   "id": "0dca9fc6-8fe2-4a7e-a22c-f90441a5f2d2",
   "metadata": {},
   "outputs": [
    {
     "name": "stdout",
     "output_type": "stream",
     "text": [
      "Root node is: i=84 \n"
     ]
    },
    {
     "ename": "OSError",
     "evalue": "[Errno 9] Bad file descriptor",
     "output_type": "error",
     "traceback": [
      "\u001b[0;31m---------------------------------------------------------------------------\u001b[0m",
      "\u001b[0;31mOSError\u001b[0m                                   Traceback (most recent call last)",
      "Input \u001b[0;32mIn [24]\u001b[0m, in \u001b[0;36m<cell line: 19>\u001b[0;34m()\u001b[0m\n\u001b[1;32m     16\u001b[0m             \u001b[38;5;28;01mexcept\u001b[39;00m ua\u001b[38;5;241m.\u001b[39muaerrors\u001b[38;5;241m.\u001b[39m_auto\u001b[38;5;241m.\u001b[39mBadWaitingForInitialData:\n\u001b[1;32m     17\u001b[0m                 \u001b[38;5;28;01mpass\u001b[39;00m\n\u001b[0;32m---> 19\u001b[0m \u001b[43mbrowse_recursive\u001b[49m\u001b[43m(\u001b[49m\u001b[43mroot\u001b[49m\u001b[43m)\u001b[49m\n",
      "Input \u001b[0;32mIn [24]\u001b[0m, in \u001b[0;36mbrowse_recursive\u001b[0;34m(node)\u001b[0m\n\u001b[1;32m      4\u001b[0m \u001b[38;5;28;01mdef\u001b[39;00m \u001b[38;5;21mbrowse_recursive\u001b[39m(node):\n\u001b[0;32m----> 5\u001b[0m     \u001b[38;5;28;01mfor\u001b[39;00m childId \u001b[38;5;129;01min\u001b[39;00m \u001b[43mnode\u001b[49m\u001b[38;5;241;43m.\u001b[39;49m\u001b[43mget_children\u001b[49m\u001b[43m(\u001b[49m\u001b[43m)\u001b[49m:\n\u001b[1;32m      6\u001b[0m         ch \u001b[38;5;241m=\u001b[39m client\u001b[38;5;241m.\u001b[39mget_node(childId)\n\u001b[1;32m      7\u001b[0m         \u001b[38;5;28mprint\u001b[39m(ch\u001b[38;5;241m.\u001b[39mget_node_class())\n",
      "File \u001b[0;32m/opt/anaconda/anaconda3/lib/python3.9/site-packages/opcua/common/node.py:316\u001b[0m, in \u001b[0;36mNode.get_children\u001b[0;34m(self, refs, nodeclassmask)\u001b[0m\n\u001b[1;32m    294\u001b[0m \u001b[38;5;28;01mdef\u001b[39;00m \u001b[38;5;21mget_children\u001b[39m(\u001b[38;5;28mself\u001b[39m, refs\u001b[38;5;241m=\u001b[39mua\u001b[38;5;241m.\u001b[39mObjectIds\u001b[38;5;241m.\u001b[39mHierarchicalReferences, nodeclassmask\u001b[38;5;241m=\u001b[39mua\u001b[38;5;241m.\u001b[39mNodeClass\u001b[38;5;241m.\u001b[39mUnspecified):\n\u001b[1;32m    295\u001b[0m     \u001b[38;5;124;03m\"\"\"\u001b[39;00m\n\u001b[1;32m    296\u001b[0m \u001b[38;5;124;03m    Get all children of a node. By default hierarchical references and all node classes are returned.\u001b[39;00m\n\u001b[1;32m    297\u001b[0m \u001b[38;5;124;03m    Other reference types may be given:\u001b[39;00m\n\u001b[0;32m   (...)\u001b[0m\n\u001b[1;32m    314\u001b[0m \u001b[38;5;124;03m    HasOrderedComponent = 49\u001b[39;00m\n\u001b[1;32m    315\u001b[0m \u001b[38;5;124;03m    \"\"\"\u001b[39;00m\n\u001b[0;32m--> 316\u001b[0m     \u001b[38;5;28;01mreturn\u001b[39;00m \u001b[38;5;28;43mself\u001b[39;49m\u001b[38;5;241;43m.\u001b[39;49m\u001b[43mget_referenced_nodes\u001b[49m\u001b[43m(\u001b[49m\u001b[43mrefs\u001b[49m\u001b[43m,\u001b[49m\u001b[43m \u001b[49m\u001b[43mua\u001b[49m\u001b[38;5;241;43m.\u001b[39;49m\u001b[43mBrowseDirection\u001b[49m\u001b[38;5;241;43m.\u001b[39;49m\u001b[43mForward\u001b[49m\u001b[43m,\u001b[49m\u001b[43m \u001b[49m\u001b[43mnodeclassmask\u001b[49m\u001b[43m)\u001b[49m\n",
      "File \u001b[0;32m/opt/anaconda/anaconda3/lib/python3.9/site-packages/opcua/common/node.py:390\u001b[0m, in \u001b[0;36mNode.get_referenced_nodes\u001b[0;34m(self, refs, direction, nodeclassmask, includesubtypes)\u001b[0m\n\u001b[1;32m    384\u001b[0m \u001b[38;5;28;01mdef\u001b[39;00m \u001b[38;5;21mget_referenced_nodes\u001b[39m(\u001b[38;5;28mself\u001b[39m, refs\u001b[38;5;241m=\u001b[39mua\u001b[38;5;241m.\u001b[39mObjectIds\u001b[38;5;241m.\u001b[39mReferences, direction\u001b[38;5;241m=\u001b[39mua\u001b[38;5;241m.\u001b[39mBrowseDirection\u001b[38;5;241m.\u001b[39mBoth, nodeclassmask\u001b[38;5;241m=\u001b[39mua\u001b[38;5;241m.\u001b[39mNodeClass\u001b[38;5;241m.\u001b[39mUnspecified, includesubtypes\u001b[38;5;241m=\u001b[39m\u001b[38;5;28;01mTrue\u001b[39;00m):\n\u001b[1;32m    385\u001b[0m     \u001b[38;5;124;03m\"\"\"\u001b[39;00m\n\u001b[1;32m    386\u001b[0m \u001b[38;5;124;03m    returns referenced nodes based on specific filter\u001b[39;00m\n\u001b[1;32m    387\u001b[0m \u001b[38;5;124;03m    Paramters are the same as for get_references\u001b[39;00m\n\u001b[1;32m    388\u001b[0m \n\u001b[1;32m    389\u001b[0m \u001b[38;5;124;03m    \"\"\"\u001b[39;00m\n\u001b[0;32m--> 390\u001b[0m     references \u001b[38;5;241m=\u001b[39m \u001b[38;5;28;43mself\u001b[39;49m\u001b[38;5;241;43m.\u001b[39;49m\u001b[43mget_references\u001b[49m\u001b[43m(\u001b[49m\u001b[43mrefs\u001b[49m\u001b[43m,\u001b[49m\u001b[43m \u001b[49m\u001b[43mdirection\u001b[49m\u001b[43m,\u001b[49m\u001b[43m \u001b[49m\u001b[43mnodeclassmask\u001b[49m\u001b[43m,\u001b[49m\u001b[43m \u001b[49m\u001b[43mincludesubtypes\u001b[49m\u001b[43m)\u001b[49m\n\u001b[1;32m    391\u001b[0m     nodes \u001b[38;5;241m=\u001b[39m []\n\u001b[1;32m    392\u001b[0m     \u001b[38;5;28;01mfor\u001b[39;00m desc \u001b[38;5;129;01min\u001b[39;00m references:\n",
      "File \u001b[0;32m/opt/anaconda/anaconda3/lib/python3.9/site-packages/opcua/common/node.py:369\u001b[0m, in \u001b[0;36mNode.get_references\u001b[0;34m(self, refs, direction, nodeclassmask, includesubtypes)\u001b[0m\n\u001b[1;32m    367\u001b[0m params\u001b[38;5;241m.\u001b[39mNodesToBrowse\u001b[38;5;241m.\u001b[39mappend(desc)\n\u001b[1;32m    368\u001b[0m params\u001b[38;5;241m.\u001b[39mRequestedMaxReferencesPerNode \u001b[38;5;241m=\u001b[39m \u001b[38;5;241m0\u001b[39m\n\u001b[0;32m--> 369\u001b[0m results \u001b[38;5;241m=\u001b[39m \u001b[38;5;28;43mself\u001b[39;49m\u001b[38;5;241;43m.\u001b[39;49m\u001b[43mserver\u001b[49m\u001b[38;5;241;43m.\u001b[39;49m\u001b[43mbrowse\u001b[49m\u001b[43m(\u001b[49m\u001b[43mparams\u001b[49m\u001b[43m)\u001b[49m\n\u001b[1;32m    371\u001b[0m references \u001b[38;5;241m=\u001b[39m \u001b[38;5;28mself\u001b[39m\u001b[38;5;241m.\u001b[39m_browse_next(results)\n\u001b[1;32m    372\u001b[0m \u001b[38;5;28;01mreturn\u001b[39;00m references\n",
      "File \u001b[0;32m/opt/anaconda/anaconda3/lib/python3.9/site-packages/opcua/client/ua_client.py:327\u001b[0m, in \u001b[0;36mUaClient.browse\u001b[0;34m(self, parameters)\u001b[0m\n\u001b[1;32m    325\u001b[0m request \u001b[38;5;241m=\u001b[39m ua\u001b[38;5;241m.\u001b[39mBrowseRequest()\n\u001b[1;32m    326\u001b[0m request\u001b[38;5;241m.\u001b[39mParameters \u001b[38;5;241m=\u001b[39m parameters\n\u001b[0;32m--> 327\u001b[0m data \u001b[38;5;241m=\u001b[39m \u001b[38;5;28;43mself\u001b[39;49m\u001b[38;5;241;43m.\u001b[39;49m\u001b[43m_uasocket\u001b[49m\u001b[38;5;241;43m.\u001b[39;49m\u001b[43msend_request\u001b[49m\u001b[43m(\u001b[49m\u001b[43mrequest\u001b[49m\u001b[43m)\u001b[49m\n\u001b[1;32m    328\u001b[0m response \u001b[38;5;241m=\u001b[39m struct_from_binary(ua\u001b[38;5;241m.\u001b[39mBrowseResponse, data)\n\u001b[1;32m    329\u001b[0m \u001b[38;5;28mself\u001b[39m\u001b[38;5;241m.\u001b[39mlogger\u001b[38;5;241m.\u001b[39mdebug(response)\n",
      "File \u001b[0;32m/opt/anaconda/anaconda3/lib/python3.9/site-packages/opcua/client/ua_client.py:81\u001b[0m, in \u001b[0;36mUASocketClient.send_request\u001b[0;34m(self, request, callback, timeout, message_type)\u001b[0m\n\u001b[1;32m     75\u001b[0m \u001b[38;5;28;01mdef\u001b[39;00m \u001b[38;5;21msend_request\u001b[39m(\u001b[38;5;28mself\u001b[39m, request, callback\u001b[38;5;241m=\u001b[39m\u001b[38;5;28;01mNone\u001b[39;00m, timeout\u001b[38;5;241m=\u001b[39m\u001b[38;5;241m1000\u001b[39m, message_type\u001b[38;5;241m=\u001b[39mua\u001b[38;5;241m.\u001b[39mMessageType\u001b[38;5;241m.\u001b[39mSecureMessage):\n\u001b[1;32m     76\u001b[0m     \u001b[38;5;124;03m\"\"\"\u001b[39;00m\n\u001b[1;32m     77\u001b[0m \u001b[38;5;124;03m    send request to server.\u001b[39;00m\n\u001b[1;32m     78\u001b[0m \u001b[38;5;124;03m    timeout is the timeout written in ua header\u001b[39;00m\n\u001b[1;32m     79\u001b[0m \u001b[38;5;124;03m    returns response object if no callback is provided\u001b[39;00m\n\u001b[1;32m     80\u001b[0m \u001b[38;5;124;03m    \"\"\"\u001b[39;00m\n\u001b[0;32m---> 81\u001b[0m     future \u001b[38;5;241m=\u001b[39m \u001b[38;5;28;43mself\u001b[39;49m\u001b[38;5;241;43m.\u001b[39;49m\u001b[43m_send_request\u001b[49m\u001b[43m(\u001b[49m\u001b[43mrequest\u001b[49m\u001b[43m,\u001b[49m\u001b[43m \u001b[49m\u001b[43mcallback\u001b[49m\u001b[43m,\u001b[49m\u001b[43m \u001b[49m\u001b[43mtimeout\u001b[49m\u001b[43m,\u001b[49m\u001b[43m \u001b[49m\u001b[43mmessage_type\u001b[49m\u001b[43m)\u001b[49m\n\u001b[1;32m     82\u001b[0m     \u001b[38;5;28;01mif\u001b[39;00m \u001b[38;5;129;01mnot\u001b[39;00m callback:\n\u001b[1;32m     83\u001b[0m         data \u001b[38;5;241m=\u001b[39m future\u001b[38;5;241m.\u001b[39mresult(\u001b[38;5;28mself\u001b[39m\u001b[38;5;241m.\u001b[39mtimeout)\n",
      "File \u001b[0;32m/opt/anaconda/anaconda3/lib/python3.9/site-packages/opcua/client/ua_client.py:72\u001b[0m, in \u001b[0;36mUASocketClient._send_request\u001b[0;34m(self, request, callback, timeout, message_type)\u001b[0m\n\u001b[1;32m     69\u001b[0m         \u001b[38;5;28mself\u001b[39m\u001b[38;5;241m.\u001b[39m_connection\u001b[38;5;241m.\u001b[39mrevolve_tokens()\n\u001b[1;32m     71\u001b[0m     msg \u001b[38;5;241m=\u001b[39m \u001b[38;5;28mself\u001b[39m\u001b[38;5;241m.\u001b[39m_connection\u001b[38;5;241m.\u001b[39mmessage_to_binary(binreq, message_type\u001b[38;5;241m=\u001b[39mmessage_type, request_id\u001b[38;5;241m=\u001b[39m\u001b[38;5;28mself\u001b[39m\u001b[38;5;241m.\u001b[39m_request_id)\n\u001b[0;32m---> 72\u001b[0m     \u001b[38;5;28;43mself\u001b[39;49m\u001b[38;5;241;43m.\u001b[39;49m\u001b[43m_socket\u001b[49m\u001b[38;5;241;43m.\u001b[39;49m\u001b[43mwrite\u001b[49m\u001b[43m(\u001b[49m\u001b[43mmsg\u001b[49m\u001b[43m)\u001b[49m\n\u001b[1;32m     73\u001b[0m \u001b[38;5;28;01mreturn\u001b[39;00m future\n",
      "File \u001b[0;32m/opt/anaconda/anaconda3/lib/python3.9/site-packages/opcua/common/utils.py:118\u001b[0m, in \u001b[0;36mSocketWrapper.write\u001b[0;34m(self, data)\u001b[0m\n\u001b[1;32m    117\u001b[0m \u001b[38;5;28;01mdef\u001b[39;00m \u001b[38;5;21mwrite\u001b[39m(\u001b[38;5;28mself\u001b[39m, data):\n\u001b[0;32m--> 118\u001b[0m     \u001b[38;5;28;43mself\u001b[39;49m\u001b[38;5;241;43m.\u001b[39;49m\u001b[43msocket\u001b[49m\u001b[38;5;241;43m.\u001b[39;49m\u001b[43msendall\u001b[49m\u001b[43m(\u001b[49m\u001b[43mdata\u001b[49m\u001b[43m)\u001b[49m\n",
      "\u001b[0;31mOSError\u001b[0m: [Errno 9] Bad file descriptor"
     ]
    }
   ],
   "source": [
    "root = client.get_root_node()\n",
    "print(\"Root node is: {:s} \".format(str(root)))\n",
    "\n",
    "def browse_recursive(node):\n",
    "    for childId in node.get_children():\n",
    "        ch = client.get_node(childId)\n",
    "        print(ch.get_node_class())\n",
    "        if ch.get_node_class() == opcua.ua.NodeClass.Object:\n",
    "            browse_recursive(ch)\n",
    "        elif ch.get_node_class() == opcua.ua.NodeClass.Variable:\n",
    "            try:\n",
    "                print(\"{bn} has value {val}\".format(\n",
    "                    bn=ch.get_browse_name(),\n",
    "                    val=str(ch.get_value()))\n",
    "                )\n",
    "            except ua.uaerrors._auto.BadWaitingForInitialData:\n",
    "                pass\n",
    "\n",
    "browse_recursive(root)"
   ]
  },
  {
   "cell_type": "code",
   "execution_count": 25,
   "id": "953ceda6-8685-49f3-9759-8d809cc54e46",
   "metadata": {},
   "outputs": [
    {
     "ename": "OSError",
     "evalue": "[Errno 9] Bad file descriptor",
     "output_type": "error",
     "traceback": [
      "\u001b[0;31m---------------------------------------------------------------------------\u001b[0m",
      "\u001b[0;31mOSError\u001b[0m                                   Traceback (most recent call last)",
      "Input \u001b[0;32mIn [25]\u001b[0m, in \u001b[0;36m<cell line: 2>\u001b[0;34m()\u001b[0m\n\u001b[1;32m      1\u001b[0m objects \u001b[38;5;241m=\u001b[39m client\u001b[38;5;241m.\u001b[39mget_objects_node()\n\u001b[0;32m----> 2\u001b[0m childs \u001b[38;5;241m=\u001b[39m \u001b[43mobjects\u001b[49m\u001b[38;5;241;43m.\u001b[39;49m\u001b[43mget_children\u001b[49m\u001b[43m(\u001b[49m\u001b[43m)\u001b[49m\n",
      "File \u001b[0;32m/opt/anaconda/anaconda3/lib/python3.9/site-packages/opcua/common/node.py:316\u001b[0m, in \u001b[0;36mNode.get_children\u001b[0;34m(self, refs, nodeclassmask)\u001b[0m\n\u001b[1;32m    294\u001b[0m \u001b[38;5;28;01mdef\u001b[39;00m \u001b[38;5;21mget_children\u001b[39m(\u001b[38;5;28mself\u001b[39m, refs\u001b[38;5;241m=\u001b[39mua\u001b[38;5;241m.\u001b[39mObjectIds\u001b[38;5;241m.\u001b[39mHierarchicalReferences, nodeclassmask\u001b[38;5;241m=\u001b[39mua\u001b[38;5;241m.\u001b[39mNodeClass\u001b[38;5;241m.\u001b[39mUnspecified):\n\u001b[1;32m    295\u001b[0m     \u001b[38;5;124;03m\"\"\"\u001b[39;00m\n\u001b[1;32m    296\u001b[0m \u001b[38;5;124;03m    Get all children of a node. By default hierarchical references and all node classes are returned.\u001b[39;00m\n\u001b[1;32m    297\u001b[0m \u001b[38;5;124;03m    Other reference types may be given:\u001b[39;00m\n\u001b[0;32m   (...)\u001b[0m\n\u001b[1;32m    314\u001b[0m \u001b[38;5;124;03m    HasOrderedComponent = 49\u001b[39;00m\n\u001b[1;32m    315\u001b[0m \u001b[38;5;124;03m    \"\"\"\u001b[39;00m\n\u001b[0;32m--> 316\u001b[0m     \u001b[38;5;28;01mreturn\u001b[39;00m \u001b[38;5;28;43mself\u001b[39;49m\u001b[38;5;241;43m.\u001b[39;49m\u001b[43mget_referenced_nodes\u001b[49m\u001b[43m(\u001b[49m\u001b[43mrefs\u001b[49m\u001b[43m,\u001b[49m\u001b[43m \u001b[49m\u001b[43mua\u001b[49m\u001b[38;5;241;43m.\u001b[39;49m\u001b[43mBrowseDirection\u001b[49m\u001b[38;5;241;43m.\u001b[39;49m\u001b[43mForward\u001b[49m\u001b[43m,\u001b[49m\u001b[43m \u001b[49m\u001b[43mnodeclassmask\u001b[49m\u001b[43m)\u001b[49m\n",
      "File \u001b[0;32m/opt/anaconda/anaconda3/lib/python3.9/site-packages/opcua/common/node.py:390\u001b[0m, in \u001b[0;36mNode.get_referenced_nodes\u001b[0;34m(self, refs, direction, nodeclassmask, includesubtypes)\u001b[0m\n\u001b[1;32m    384\u001b[0m \u001b[38;5;28;01mdef\u001b[39;00m \u001b[38;5;21mget_referenced_nodes\u001b[39m(\u001b[38;5;28mself\u001b[39m, refs\u001b[38;5;241m=\u001b[39mua\u001b[38;5;241m.\u001b[39mObjectIds\u001b[38;5;241m.\u001b[39mReferences, direction\u001b[38;5;241m=\u001b[39mua\u001b[38;5;241m.\u001b[39mBrowseDirection\u001b[38;5;241m.\u001b[39mBoth, nodeclassmask\u001b[38;5;241m=\u001b[39mua\u001b[38;5;241m.\u001b[39mNodeClass\u001b[38;5;241m.\u001b[39mUnspecified, includesubtypes\u001b[38;5;241m=\u001b[39m\u001b[38;5;28;01mTrue\u001b[39;00m):\n\u001b[1;32m    385\u001b[0m     \u001b[38;5;124;03m\"\"\"\u001b[39;00m\n\u001b[1;32m    386\u001b[0m \u001b[38;5;124;03m    returns referenced nodes based on specific filter\u001b[39;00m\n\u001b[1;32m    387\u001b[0m \u001b[38;5;124;03m    Paramters are the same as for get_references\u001b[39;00m\n\u001b[1;32m    388\u001b[0m \n\u001b[1;32m    389\u001b[0m \u001b[38;5;124;03m    \"\"\"\u001b[39;00m\n\u001b[0;32m--> 390\u001b[0m     references \u001b[38;5;241m=\u001b[39m \u001b[38;5;28;43mself\u001b[39;49m\u001b[38;5;241;43m.\u001b[39;49m\u001b[43mget_references\u001b[49m\u001b[43m(\u001b[49m\u001b[43mrefs\u001b[49m\u001b[43m,\u001b[49m\u001b[43m \u001b[49m\u001b[43mdirection\u001b[49m\u001b[43m,\u001b[49m\u001b[43m \u001b[49m\u001b[43mnodeclassmask\u001b[49m\u001b[43m,\u001b[49m\u001b[43m \u001b[49m\u001b[43mincludesubtypes\u001b[49m\u001b[43m)\u001b[49m\n\u001b[1;32m    391\u001b[0m     nodes \u001b[38;5;241m=\u001b[39m []\n\u001b[1;32m    392\u001b[0m     \u001b[38;5;28;01mfor\u001b[39;00m desc \u001b[38;5;129;01min\u001b[39;00m references:\n",
      "File \u001b[0;32m/opt/anaconda/anaconda3/lib/python3.9/site-packages/opcua/common/node.py:369\u001b[0m, in \u001b[0;36mNode.get_references\u001b[0;34m(self, refs, direction, nodeclassmask, includesubtypes)\u001b[0m\n\u001b[1;32m    367\u001b[0m params\u001b[38;5;241m.\u001b[39mNodesToBrowse\u001b[38;5;241m.\u001b[39mappend(desc)\n\u001b[1;32m    368\u001b[0m params\u001b[38;5;241m.\u001b[39mRequestedMaxReferencesPerNode \u001b[38;5;241m=\u001b[39m \u001b[38;5;241m0\u001b[39m\n\u001b[0;32m--> 369\u001b[0m results \u001b[38;5;241m=\u001b[39m \u001b[38;5;28;43mself\u001b[39;49m\u001b[38;5;241;43m.\u001b[39;49m\u001b[43mserver\u001b[49m\u001b[38;5;241;43m.\u001b[39;49m\u001b[43mbrowse\u001b[49m\u001b[43m(\u001b[49m\u001b[43mparams\u001b[49m\u001b[43m)\u001b[49m\n\u001b[1;32m    371\u001b[0m references \u001b[38;5;241m=\u001b[39m \u001b[38;5;28mself\u001b[39m\u001b[38;5;241m.\u001b[39m_browse_next(results)\n\u001b[1;32m    372\u001b[0m \u001b[38;5;28;01mreturn\u001b[39;00m references\n",
      "File \u001b[0;32m/opt/anaconda/anaconda3/lib/python3.9/site-packages/opcua/client/ua_client.py:327\u001b[0m, in \u001b[0;36mUaClient.browse\u001b[0;34m(self, parameters)\u001b[0m\n\u001b[1;32m    325\u001b[0m request \u001b[38;5;241m=\u001b[39m ua\u001b[38;5;241m.\u001b[39mBrowseRequest()\n\u001b[1;32m    326\u001b[0m request\u001b[38;5;241m.\u001b[39mParameters \u001b[38;5;241m=\u001b[39m parameters\n\u001b[0;32m--> 327\u001b[0m data \u001b[38;5;241m=\u001b[39m \u001b[38;5;28;43mself\u001b[39;49m\u001b[38;5;241;43m.\u001b[39;49m\u001b[43m_uasocket\u001b[49m\u001b[38;5;241;43m.\u001b[39;49m\u001b[43msend_request\u001b[49m\u001b[43m(\u001b[49m\u001b[43mrequest\u001b[49m\u001b[43m)\u001b[49m\n\u001b[1;32m    328\u001b[0m response \u001b[38;5;241m=\u001b[39m struct_from_binary(ua\u001b[38;5;241m.\u001b[39mBrowseResponse, data)\n\u001b[1;32m    329\u001b[0m \u001b[38;5;28mself\u001b[39m\u001b[38;5;241m.\u001b[39mlogger\u001b[38;5;241m.\u001b[39mdebug(response)\n",
      "File \u001b[0;32m/opt/anaconda/anaconda3/lib/python3.9/site-packages/opcua/client/ua_client.py:81\u001b[0m, in \u001b[0;36mUASocketClient.send_request\u001b[0;34m(self, request, callback, timeout, message_type)\u001b[0m\n\u001b[1;32m     75\u001b[0m \u001b[38;5;28;01mdef\u001b[39;00m \u001b[38;5;21msend_request\u001b[39m(\u001b[38;5;28mself\u001b[39m, request, callback\u001b[38;5;241m=\u001b[39m\u001b[38;5;28;01mNone\u001b[39;00m, timeout\u001b[38;5;241m=\u001b[39m\u001b[38;5;241m1000\u001b[39m, message_type\u001b[38;5;241m=\u001b[39mua\u001b[38;5;241m.\u001b[39mMessageType\u001b[38;5;241m.\u001b[39mSecureMessage):\n\u001b[1;32m     76\u001b[0m     \u001b[38;5;124;03m\"\"\"\u001b[39;00m\n\u001b[1;32m     77\u001b[0m \u001b[38;5;124;03m    send request to server.\u001b[39;00m\n\u001b[1;32m     78\u001b[0m \u001b[38;5;124;03m    timeout is the timeout written in ua header\u001b[39;00m\n\u001b[1;32m     79\u001b[0m \u001b[38;5;124;03m    returns response object if no callback is provided\u001b[39;00m\n\u001b[1;32m     80\u001b[0m \u001b[38;5;124;03m    \"\"\"\u001b[39;00m\n\u001b[0;32m---> 81\u001b[0m     future \u001b[38;5;241m=\u001b[39m \u001b[38;5;28;43mself\u001b[39;49m\u001b[38;5;241;43m.\u001b[39;49m\u001b[43m_send_request\u001b[49m\u001b[43m(\u001b[49m\u001b[43mrequest\u001b[49m\u001b[43m,\u001b[49m\u001b[43m \u001b[49m\u001b[43mcallback\u001b[49m\u001b[43m,\u001b[49m\u001b[43m \u001b[49m\u001b[43mtimeout\u001b[49m\u001b[43m,\u001b[49m\u001b[43m \u001b[49m\u001b[43mmessage_type\u001b[49m\u001b[43m)\u001b[49m\n\u001b[1;32m     82\u001b[0m     \u001b[38;5;28;01mif\u001b[39;00m \u001b[38;5;129;01mnot\u001b[39;00m callback:\n\u001b[1;32m     83\u001b[0m         data \u001b[38;5;241m=\u001b[39m future\u001b[38;5;241m.\u001b[39mresult(\u001b[38;5;28mself\u001b[39m\u001b[38;5;241m.\u001b[39mtimeout)\n",
      "File \u001b[0;32m/opt/anaconda/anaconda3/lib/python3.9/site-packages/opcua/client/ua_client.py:72\u001b[0m, in \u001b[0;36mUASocketClient._send_request\u001b[0;34m(self, request, callback, timeout, message_type)\u001b[0m\n\u001b[1;32m     69\u001b[0m         \u001b[38;5;28mself\u001b[39m\u001b[38;5;241m.\u001b[39m_connection\u001b[38;5;241m.\u001b[39mrevolve_tokens()\n\u001b[1;32m     71\u001b[0m     msg \u001b[38;5;241m=\u001b[39m \u001b[38;5;28mself\u001b[39m\u001b[38;5;241m.\u001b[39m_connection\u001b[38;5;241m.\u001b[39mmessage_to_binary(binreq, message_type\u001b[38;5;241m=\u001b[39mmessage_type, request_id\u001b[38;5;241m=\u001b[39m\u001b[38;5;28mself\u001b[39m\u001b[38;5;241m.\u001b[39m_request_id)\n\u001b[0;32m---> 72\u001b[0m     \u001b[38;5;28;43mself\u001b[39;49m\u001b[38;5;241;43m.\u001b[39;49m\u001b[43m_socket\u001b[49m\u001b[38;5;241;43m.\u001b[39;49m\u001b[43mwrite\u001b[49m\u001b[43m(\u001b[49m\u001b[43mmsg\u001b[49m\u001b[43m)\u001b[49m\n\u001b[1;32m     73\u001b[0m \u001b[38;5;28;01mreturn\u001b[39;00m future\n",
      "File \u001b[0;32m/opt/anaconda/anaconda3/lib/python3.9/site-packages/opcua/common/utils.py:118\u001b[0m, in \u001b[0;36mSocketWrapper.write\u001b[0;34m(self, data)\u001b[0m\n\u001b[1;32m    117\u001b[0m \u001b[38;5;28;01mdef\u001b[39;00m \u001b[38;5;21mwrite\u001b[39m(\u001b[38;5;28mself\u001b[39m, data):\n\u001b[0;32m--> 118\u001b[0m     \u001b[38;5;28;43mself\u001b[39;49m\u001b[38;5;241;43m.\u001b[39;49m\u001b[43msocket\u001b[49m\u001b[38;5;241;43m.\u001b[39;49m\u001b[43msendall\u001b[49m\u001b[43m(\u001b[49m\u001b[43mdata\u001b[49m\u001b[43m)\u001b[49m\n",
      "\u001b[0;31mOSError\u001b[0m: [Errno 9] Bad file descriptor"
     ]
    }
   ],
   "source": [
    "objects = client.get_objects_node()\n",
    "childs = objects.get_children()"
   ]
  },
  {
   "cell_type": "code",
   "execution_count": null,
   "id": "31faaad7-4b89-488c-b8a4-cde868a8cc61",
   "metadata": {},
   "outputs": [],
   "source": []
  }
 ],
 "metadata": {
  "kernelspec": {
   "display_name": "Python 3 (ipykernel)",
   "language": "python",
   "name": "python3"
  },
  "language_info": {
   "codemirror_mode": {
    "name": "ipython",
    "version": 3
   },
   "file_extension": ".py",
   "mimetype": "text/x-python",
   "name": "python",
   "nbconvert_exporter": "python",
   "pygments_lexer": "ipython3",
   "version": "3.9.12"
  }
 },
 "nbformat": 4,
 "nbformat_minor": 5
}
