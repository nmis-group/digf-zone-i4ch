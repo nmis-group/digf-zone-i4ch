{
 "cells": [
  {
   "cell_type": "code",
   "execution_count": 1,
   "metadata": {},
   "outputs": [],
   "source": [
    "%reload_ext autoreload\n",
    "%autoreload 2\n",
    "%matplotlib inline"
   ]
  },
  {
   "cell_type": "code",
   "execution_count": 2,
   "metadata": {},
   "outputs": [],
   "source": [
    "import sys\n",
    "sys.path.append('../src/data')\n",
    "sys.path.append('../src/features')\n",
    "sys.path.append('../src/models')\n",
    "sys.path.append('../src/visualization')\n",
    "from utils import *\n",
    "from model import *\n",
    "from dataset import *\n",
    "from data_module import *\n",
    "from visualization import *"
   ]
  },
  {
   "cell_type": "code",
   "execution_count": 3,
   "metadata": {},
   "outputs": [],
   "source": [
    "plt.rcParams['figure.figsize'] = (14,10)\n",
    "font = {'family' : 'DejaVu Sans',  'weight' : 'normal',  'size'  : 22}\n",
    "plt.rc('font', **font)"
   ]
  },
  {
   "cell_type": "code",
   "execution_count": 4,
   "metadata": {},
   "outputs": [],
   "source": [
    "df = pd.read_csv('~/work/interim/dataset_strat.csv')"
   ]
  },
  {
   "cell_type": "code",
   "execution_count": 5,
   "metadata": {},
   "outputs": [],
   "source": [
    "df[\"bboxes\"] = df[\"bboxes\"].apply(eval) # DONT forget this cell"
   ]
  },
  {
   "cell_type": "code",
   "execution_count": 6,
   "metadata": {},
   "outputs": [],
   "source": [
    "#dm = BoltDataModule(df, num_workers = 16, bs = 2)"
   ]
  },
  {
   "cell_type": "code",
   "execution_count": 7,
   "metadata": {},
   "outputs": [
    {
     "name": "stdout",
     "output_type": "stream",
     "text": [
      "{'name': 'tf_efficientnetv2_l', 'backbone_name': 'tf_efficientnetv2_l', 'backbone_args': {'drop_path_rate': 0.2}, 'backbone_indices': None, 'image_size': [1024, 1024], 'num_classes': 1, 'min_level': 3, 'max_level': 7, 'num_levels': 5, 'num_scales': 3, 'aspect_ratios': [[1.0, 1.0], [1.4, 0.7], [0.7, 1.4]], 'anchor_scale': 4.0, 'pad_type': 'same', 'act_type': 'swish', 'norm_layer': None, 'norm_kwargs': {'eps': 0.001, 'momentum': 0.01}, 'box_class_repeats': 3, 'fpn_cell_repeats': 3, 'fpn_channels': 88, 'separable_conv': True, 'apply_resample_bn': True, 'conv_bn_relu_pattern': False, 'downsample_type': 'max', 'upsample_type': 'nearest', 'redundant_bias': True, 'head_bn_level_first': False, 'head_act_type': None, 'fpn_name': None, 'fpn_config': None, 'fpn_drop_path_rate': 0.0, 'alpha': 0.25, 'gamma': 1.5, 'label_smoothing': 0.0, 'legacy_focal': False, 'jit_loss': False, 'delta': 0.1, 'box_loss_weight': 50.0, 'soft_nms': False, 'max_detection_points': 5000, 'max_det_per_image': 100, 'url': ''}\n",
      "backbone True\n",
      "fpn True\n",
      "class_net True\n",
      "box_net True\n",
      "108\n",
      "36\n",
      "35\n"
     ]
    }
   ],
   "source": [
    "model = BoltDetector(df, bs=3, num_classes=1, img_size=1024)"
   ]
  },
  {
   "cell_type": "code",
   "execution_count": 8,
   "metadata": {},
   "outputs": [
    {
     "name": "stdout",
     "output_type": "stream",
     "text": [
      "[]\n",
      "['epoch=14-valid_loss=0.44.ckpt', 'epoch=13-valid_loss=0.48.ckpt']\n",
      "../../bolt_logs/detector/epoch=14-valid_loss=0.44.ckpt\n"
     ]
    }
   ],
   "source": [
    "#path = '/media/scratch/astamoulakatos/NMIS/detector/detector-epoch=83-valid_loss=0.57.ckpt'\n",
    "import os\n",
    "detector=\"../../bolt_logs/detector\"\n",
    "for root, dirs, files in os.walk(detector, topdown=False):\n",
    "  print(files)\n",
    "  for name in files:\n",
    "    path= os.path.join(detector, name)\n",
    "    break\n",
    "\n",
    "print(path)"
   ]
  },
  {
   "cell_type": "code",
   "execution_count": 9,
   "metadata": {
    "scrolled": true
   },
   "outputs": [
    {
     "name": "stdout",
     "output_type": "stream",
     "text": [
      "{'name': 'tf_efficientnetv2_l', 'backbone_name': 'tf_efficientnetv2_l', 'backbone_args': {'drop_path_rate': 0.2}, 'backbone_indices': None, 'image_size': [1024, 1024], 'num_classes': 1, 'min_level': 3, 'max_level': 7, 'num_levels': 5, 'num_scales': 3, 'aspect_ratios': [[1.0, 1.0], [1.4, 0.7], [0.7, 1.4]], 'anchor_scale': 4.0, 'pad_type': 'same', 'act_type': 'swish', 'norm_layer': None, 'norm_kwargs': {'eps': 0.001, 'momentum': 0.01}, 'box_class_repeats': 3, 'fpn_cell_repeats': 3, 'fpn_channels': 88, 'separable_conv': True, 'apply_resample_bn': True, 'conv_bn_relu_pattern': False, 'downsample_type': 'max', 'upsample_type': 'nearest', 'redundant_bias': True, 'head_bn_level_first': False, 'head_act_type': None, 'fpn_name': None, 'fpn_config': None, 'fpn_drop_path_rate': 0.0, 'alpha': 0.25, 'gamma': 1.5, 'label_smoothing': 0.0, 'legacy_focal': False, 'jit_loss': False, 'delta': 0.1, 'box_loss_weight': 50.0, 'soft_nms': False, 'max_detection_points': 5000, 'max_det_per_image': 100, 'url': ''}\n",
      "backbone True\n",
      "fpn True\n",
      "class_net True\n",
      "box_net True\n",
      "108\n",
      "36\n",
      "35\n"
     ]
    }
   ],
   "source": [
    "model = model.load_from_checkpoint(path, map_location='cuda:0')"
   ]
  },
  {
   "cell_type": "code",
   "execution_count": 10,
   "metadata": {},
   "outputs": [],
   "source": [
    "model.eval();"
   ]
  },
  {
   "cell_type": "code",
   "execution_count": 11,
   "metadata": {
    "scrolled": true
   },
   "outputs": [
    {
     "name": "stderr",
     "output_type": "stream",
     "text": [
      "/opt/conda/lib/python3.10/site-packages/effdet-0.3.0-py3.10.egg/effdet/bench.py:55: UserWarning: __floordiv__ is deprecated, and its behavior will change in a future version of pytorch. It currently rounds toward 0 (like the 'trunc' function NOT 'floor'). This results in incorrect rounding for negative values. To keep the current behavior, use torch.div(a, b, rounding_mode='trunc'), or for actual floor division, use torch.div(a, b, rounding_mode='floor').\n",
      "  indices_all = cls_topk_indices_all // num_classes\n"
     ]
    },
    {
     "name": "stdout",
     "output_type": "stream",
     "text": [
      "Ground Truth Bolts = 6\n",
      "Predicted Bolts Count = 6\n"
     ]
    },
    {
     "name": "stderr",
     "output_type": "stream",
     "text": [
      "/opt/conda/lib/python3.10/site-packages/effdet-0.3.0-py3.10.egg/effdet/bench.py:55: UserWarning: __floordiv__ is deprecated, and its behavior will change in a future version of pytorch. It currently rounds toward 0 (like the 'trunc' function NOT 'floor'). This results in incorrect rounding for negative values. To keep the current behavior, use torch.div(a, b, rounding_mode='trunc'), or for actual floor division, use torch.div(a, b, rounding_mode='floor').\n",
      "  indices_all = cls_topk_indices_all // num_classes\n"
     ]
    },
    {
     "name": "stdout",
     "output_type": "stream",
     "text": [
      "Ground Truth Bolts = 2\n",
      "Predicted Bolts Count = 2\n",
      "Ground Truth Bolts = 9\n",
      "Predicted Bolts Count = 9\n",
      "Ground Truth Bolts = 11\n",
      "Predicted Bolts Count = 11\n",
      "Ground Truth Bolts = 1\n",
      "Predicted Bolts Count = 1\n",
      "Ground Truth Bolts = 1\n",
      "Predicted Bolts Count = 1\n",
      "Ground Truth Bolts = 2\n",
      "Predicted Bolts Count = 2\n",
      "Ground Truth Bolts = 2\n",
      "Predicted Bolts Count = 2\n",
      "Ground Truth Bolts = 2\n",
      "Predicted Bolts Count = 2\n",
      "Ground Truth Bolts = 11\n",
      "Predicted Bolts Count = 11\n",
      "Ground Truth Bolts = 1\n",
      "Predicted Bolts Count = 1\n",
      "Ground Truth Bolts = 9\n",
      "Predicted Bolts Count = 9\n",
      "Ground Truth Bolts = 1\n",
      "Predicted Bolts Count = 1\n",
      "Ground Truth Bolts = 5\n",
      "Predicted Bolts Count = 5\n",
      "Ground Truth Bolts = 3\n",
      "Predicted Bolts Count = 3\n",
      "Ground Truth Bolts = 1\n",
      "Predicted Bolts Count = 1\n",
      "Ground Truth Bolts = 3\n",
      "Predicted Bolts Count = 3\n",
      "Ground Truth Bolts = 9\n",
      "Predicted Bolts Count = 9\n",
      "Ground Truth Bolts = 11\n",
      "Predicted Bolts Count = 11\n",
      "Ground Truth Bolts = 4\n",
      "Predicted Bolts Count = 4\n",
      "Ground Truth Bolts = 1\n",
      "Predicted Bolts Count = 1\n",
      "Ground Truth Bolts = 1\n",
      "Predicted Bolts Count = 1\n",
      "Ground Truth Bolts = 1\n",
      "Predicted Bolts Count = 1\n",
      "Ground Truth Bolts = 1\n",
      "Predicted Bolts Count = 1\n",
      "Ground Truth Bolts = 8\n",
      "Predicted Bolts Count = 8\n",
      "Ground Truth Bolts = 1\n",
      "Predicted Bolts Count = 1\n",
      "Ground Truth Bolts = 7\n",
      "Predicted Bolts Count = 7\n",
      "Ground Truth Bolts = 11\n",
      "Predicted Bolts Count = 11\n",
      "Ground Truth Bolts = 10\n",
      "Predicted Bolts Count = 10\n",
      "Ground Truth Bolts = 3\n",
      "Predicted Bolts Count = 3\n",
      "Ground Truth Bolts = 1\n",
      "Predicted Bolts Count = 1\n",
      "Ground Truth Bolts = 7\n",
      "Predicted Bolts Count = 7\n",
      "Ground Truth Bolts = 7\n",
      "Predicted Bolts Count = 7\n",
      "Ground Truth Bolts = 10\n",
      "Predicted Bolts Count = 10\n",
      "Ground Truth Bolts = 7\n",
      "Predicted Bolts Count = 7\n",
      "Ground Truth Bolts = 5\n",
      "Predicted Bolts Count = 5\n"
     ]
    }
   ],
   "source": [
    "for i in range(len(model.valid_dataset)):\n",
    "    img = model.valid_dataset[i][0]\n",
    "    bolts = model.valid_dataset[i][2]\n",
    "    model.count_bolts(img.unsqueeze(0), bolts)"
   ]
  },
  {
   "cell_type": "code",
   "execution_count": 12,
   "metadata": {
    "scrolled": true
   },
   "outputs": [
    {
     "name": "stdout",
     "output_type": "stream",
     "text": [
      "Ground Truth Bolts = 6\n",
      "Predicted Bolts Count = 6\n",
      "Ground Truth Bolts = 2\n",
      "Predicted Bolts Count = 2\n",
      "Ground Truth Bolts = 2\n",
      "Predicted Bolts Count = 2\n",
      "Ground Truth Bolts = 2\n",
      "Predicted Bolts Count = 2\n",
      "Ground Truth Bolts = 6\n",
      "Predicted Bolts Count = 6\n",
      "Ground Truth Bolts = 11\n",
      "Predicted Bolts Count = 11\n",
      "Ground Truth Bolts = 1\n",
      "Predicted Bolts Count = 1\n",
      "Ground Truth Bolts = 11\n",
      "Predicted Bolts Count = 11\n",
      "Ground Truth Bolts = 1\n",
      "Predicted Bolts Count = 1\n",
      "Ground Truth Bolts = 10\n",
      "Predicted Bolts Count = 10\n",
      "Ground Truth Bolts = 5\n",
      "Predicted Bolts Count = 5\n",
      "Ground Truth Bolts = 1\n",
      "Predicted Bolts Count = 1\n",
      "Ground Truth Bolts = 9\n",
      "Predicted Bolts Count = 9\n",
      "Ground Truth Bolts = 9\n",
      "Predicted Bolts Count = 9\n",
      "Ground Truth Bolts = 10\n",
      "Predicted Bolts Count = 10\n",
      "Ground Truth Bolts = 7\n",
      "Predicted Bolts Count = 7\n",
      "Ground Truth Bolts = 2\n",
      "Predicted Bolts Count = 2\n",
      "Ground Truth Bolts = 1\n",
      "Predicted Bolts Count = 1\n",
      "Ground Truth Bolts = 8\n",
      "Predicted Bolts Count = 8\n",
      "Ground Truth Bolts = 1\n",
      "Predicted Bolts Count = 1\n",
      "Ground Truth Bolts = 5\n",
      "Predicted Bolts Count = 5\n",
      "Ground Truth Bolts = 7\n",
      "Predicted Bolts Count = 7\n",
      "Ground Truth Bolts = 1\n",
      "Predicted Bolts Count = 1\n",
      "Ground Truth Bolts = 1\n",
      "Predicted Bolts Count = 1\n",
      "Ground Truth Bolts = 1\n",
      "Predicted Bolts Count = 1\n",
      "Ground Truth Bolts = 3\n",
      "Predicted Bolts Count = 3\n",
      "Ground Truth Bolts = 7\n",
      "Predicted Bolts Count = 7\n",
      "Ground Truth Bolts = 9\n",
      "Predicted Bolts Count = 9\n",
      "Ground Truth Bolts = 1\n",
      "Predicted Bolts Count = 1\n",
      "Ground Truth Bolts = 1\n",
      "Predicted Bolts Count = 1\n",
      "Ground Truth Bolts = 8\n",
      "Predicted Bolts Count = 8\n",
      "Ground Truth Bolts = 4\n",
      "Predicted Bolts Count = 4\n",
      "Ground Truth Bolts = 3\n",
      "Predicted Bolts Count = 3\n",
      "Ground Truth Bolts = 11\n",
      "Predicted Bolts Count = 11\n",
      "Ground Truth Bolts = 1\n",
      "Predicted Bolts Count = 1\n"
     ]
    }
   ],
   "source": [
    "for i in range(len(model.test_dataset)):\n",
    "    img = model.test_dataset[i][0]\n",
    "    bolts = model.test_dataset[i][2]\n",
    "    model.count_bolts(img.unsqueeze(0), bolts)"
   ]
  },
  {
   "cell_type": "code",
   "execution_count": null,
   "metadata": {},
   "outputs": [],
   "source": []
  },
  {
   "cell_type": "code",
   "execution_count": null,
   "metadata": {},
   "outputs": [],
   "source": []
  }
 ],
 "metadata": {
  "kernelspec": {
   "display_name": "Python 3 (ipykernel)",
   "language": "python",
   "name": "python3"
  },
  "language_info": {
   "codemirror_mode": {
    "name": "ipython",
    "version": 3
   },
   "file_extension": ".py",
   "mimetype": "text/x-python",
   "name": "python",
   "nbconvert_exporter": "python",
   "pygments_lexer": "ipython3",
   "version": "3.10.6"
  }
 },
 "nbformat": 4,
 "nbformat_minor": 4
}
