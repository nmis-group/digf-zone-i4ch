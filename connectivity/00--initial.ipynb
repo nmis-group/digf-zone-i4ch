{
 "cells": [
  {
   "cell_type": "code",
   "execution_count": 41,
   "id": "190603ab-2b64-437d-8065-a1440a25dcb5",
   "metadata": {},
   "outputs": [],
   "source": [
    "import sys\n",
    "import time\n",
    "import logging\n",
    "import os\n",
    "import opcua"
   ]
  },
  {
   "cell_type": "code",
   "execution_count": 42,
   "id": "7a100bed-52cd-4783-9636-3562f3b1968e",
   "metadata": {},
   "outputs": [],
   "source": [
    "# url = \"opc.tcp://130.159.75.138:48050\"\n",
    "# url = \"opc.tcp://CX-696B93:4840\"\n",
    "url = \"opc.tcp://130.159.75.138:4840\""
   ]
  },
  {
   "cell_type": "code",
   "execution_count": 43,
   "id": "19e89b8e-2682-4468-baad-f2a24312cdd3",
   "metadata": {},
   "outputs": [],
   "source": [
    "client = opcua.Client(url = url)\n",
    "client.set_user(username = 'Administrator')\n",
    "client.set_password(pwd = '*500TPress*')"
   ]
  },
  {
   "cell_type": "code",
   "execution_count": 44,
   "id": "46fd2877-4d56-441e-ae01-53f8f58ce690",
   "metadata": {},
   "outputs": [],
   "source": [
    "client.connect()\n",
    "objects = client.get_objects_node()\n",
    "childs=objects.get_children()"
   ]
  },
  {
   "cell_type": "code",
   "execution_count": 51,
   "id": "ab033490-1845-4c34-b8df-5dedce6f3342",
   "metadata": {},
   "outputs": [
    {
     "data": {
      "text/plain": [
       "19.9"
      ]
     },
     "execution_count": 51,
     "metadata": {},
     "output_type": "execute_result"
    }
   ],
   "source": [
    "p = client.get_node(\"ns=4;s=GVL_Analog_Engineering_Units.lrEL3202_1_Ambient_Temperature_Front\")\n",
    "var = p.get_data_value()\n",
    "var.Value.Value"
   ]
  },
  {
   "cell_type": "code",
   "execution_count": 49,
   "id": "b49b572d-3920-430f-900e-1b6f3c8c94b3",
   "metadata": {},
   "outputs": [],
   "source": [
    "var = p.get_data_value()"
   ]
  },
  {
   "cell_type": "code",
   "execution_count": 50,
   "id": "90e8e531-7ecf-4cd3-9b30-53fa522a2102",
   "metadata": {},
   "outputs": [
    {
     "data": {
      "text/plain": [
       "19.8"
      ]
     },
     "execution_count": 50,
     "metadata": {},
     "output_type": "execute_result"
    }
   ],
   "source": [
    "var.Value.Value"
   ]
  },
  {
   "cell_type": "code",
   "execution_count": 6,
   "id": "ea0efd29-1365-4788-8c5e-c2456213dd36",
   "metadata": {},
   "outputs": [
    {
     "data": {
      "text/plain": [
       "[Node(FourByteNodeId(i=2253)),\n",
       " Node(StringNodeId(ns=1;s=TcOpcUaServerRoot)),\n",
       " Node(StringNodeId(ns=1;s=License)),\n",
       " Node(FourByteNodeId(ns=2;i=5001))]"
      ]
     },
     "execution_count": 6,
     "metadata": {},
     "output_type": "execute_result"
    }
   ],
   "source": [
    "objects.get_children()a"
   ]
  },
  {
   "cell_type": "code",
   "execution_count": 7,
   "id": "2b1724e1-7a3f-4e63-90bd-71f23b6d5c22",
   "metadata": {},
   "outputs": [
    {
     "data": {
      "text/plain": [
       "QualifiedName(1:TcOpcUaServer)"
      ]
     },
     "execution_count": 7,
     "metadata": {},
     "output_type": "execute_result"
    }
   ],
   "source": [
    "bulb = objects.get_children()[1]\n",
    "val = bulb.get_browse_name()\n",
    "val"
   ]
  },
  {
   "cell_type": "code",
   "execution_count": 131,
   "id": "812da95e-5bee-4aae-aa24-1a371db8bb8e",
   "metadata": {},
   "outputs": [
    {
     "data": {
      "text/plain": [
       "'TcOpcUaServer'"
      ]
     },
     "execution_count": 131,
     "metadata": {},
     "output_type": "execute_result"
    }
   ],
   "source": [
    "val.Name"
   ]
  },
  {
   "cell_type": "code",
   "execution_count": null,
   "id": "0e67f728-ef27-46c6-a0a9-5fd537a43e51",
   "metadata": {},
   "outputs": [],
   "source": [
    "val."
   ]
  },
  {
   "cell_type": "code",
   "execution_count": 113,
   "id": "36c08d18-8b3b-4319-a956-5db826d98e70",
   "metadata": {},
   "outputs": [
    {
     "ename": "IndexError",
     "evalue": "list index out of range",
     "output_type": "error",
     "traceback": [
      "\u001b[0;31m---------------------------------------------------------------------------\u001b[0m",
      "\u001b[0;31mIndexError\u001b[0m                                Traceback (most recent call last)",
      "Input \u001b[0;32mIn [113]\u001b[0m, in \u001b[0;36m<cell line: 1>\u001b[0;34m()\u001b[0m\n\u001b[0;32m----> 1\u001b[0m \u001b[43mbulb\u001b[49m\u001b[38;5;241;43m.\u001b[39;49m\u001b[43mget_children\u001b[49m\u001b[43m(\u001b[49m\u001b[43m)\u001b[49m\u001b[43m[\u001b[49m\u001b[38;5;241;43m1\u001b[39;49m\u001b[43m]\u001b[49m\n",
      "\u001b[0;31mIndexError\u001b[0m: list index out of range"
     ]
    }
   ],
   "source": [
    "bulb.get_children()[1]"
   ]
  },
  {
   "cell_type": "code",
   "execution_count": null,
   "id": "1def7314-0872-4f2f-a9e8-d56d1a158f36",
   "metadata": {},
   "outputs": [],
   "source": [
    "opc.cp://CX-696B93:48040"
   ]
  },
  {
   "cell_type": "code",
   "execution_count": 64,
   "id": "199022b9-b029-426d-984e-608e1a72f6d4",
   "metadata": {},
   "outputs": [
    {
     "data": {
      "text/plain": [
       "Node(TwoByteNodeId(i=84))"
      ]
     },
     "execution_count": 64,
     "metadata": {},
     "output_type": "execute_result"
    }
   ],
   "source": [
    "root = client.get_root_node()\n",
    "root"
   ]
  },
  {
   "cell_type": "code",
   "execution_count": 65,
   "id": "03b2e571-8f32-4ca9-9679-6133b7d1222b",
   "metadata": {},
   "outputs": [
    {
     "data": {
      "text/plain": [
       "Node(TwoByteNodeId(i=85))"
      ]
     },
     "execution_count": 65,
     "metadata": {},
     "output_type": "execute_result"
    }
   ],
   "source": [
    "objects = client.get_objects_node()\n",
    "objects"
   ]
  },
  {
   "cell_type": "code",
   "execution_count": 8,
   "id": "9281354a-07b6-4a42-9bf2-02538154de91",
   "metadata": {},
   "outputs": [
    {
     "name": "stderr",
     "output_type": "stream",
     "text": [
      "ServiceFault from server received  in response to ActivateSessionRequest\n"
     ]
    },
    {
     "ename": "BadIdentityTokenInvalid",
     "evalue": "\"The user identity token is not valid.\"(BadIdentityTokenInvalid)",
     "output_type": "error",
     "traceback": [
      "\u001b[0;31m---------------------------------------------------------------------------\u001b[0m",
      "\u001b[0;31mBadIdentityTokenInvalid\u001b[0m                   Traceback (most recent call last)",
      "Input \u001b[0;32mIn [8]\u001b[0m, in \u001b[0;36m<cell line: 1>\u001b[0;34m()\u001b[0m\n\u001b[0;32m----> 1\u001b[0m \u001b[43mclient\u001b[49m\u001b[38;5;241;43m.\u001b[39;49m\u001b[43mactivate_session\u001b[49m\u001b[43m(\u001b[49m\u001b[43musername\u001b[49m\u001b[38;5;241;43m=\u001b[39;49m\u001b[38;5;124;43m\"\u001b[39;49m\u001b[38;5;124;43mAdministrator\u001b[39;49m\u001b[38;5;124;43m\"\u001b[39;49m\u001b[43m,\u001b[49m\u001b[43m \u001b[49m\u001b[43mpassword\u001b[49m\u001b[38;5;241;43m=\u001b[39;49m\u001b[38;5;124;43m\"\u001b[39;49m\u001b[38;5;124;43m*500TPress*\u001b[39;49m\u001b[38;5;124;43m\"\u001b[39;49m\u001b[43m,\u001b[49m\u001b[43m \u001b[49m\u001b[43mcertificate\u001b[49m\u001b[38;5;241;43m=\u001b[39;49m\u001b[38;5;28;43;01mNone\u001b[39;49;00m\u001b[43m)\u001b[49m\n",
      "File \u001b[0;32m/opt/anaconda/anaconda3/lib/python3.9/site-packages/opcua/client/client.py:464\u001b[0m, in \u001b[0;36mClient.activate_session\u001b[0;34m(self, username, password, certificate)\u001b[0m\n\u001b[1;32m    462\u001b[0m \u001b[38;5;28;01melse\u001b[39;00m:\n\u001b[1;32m    463\u001b[0m     \u001b[38;5;28mself\u001b[39m\u001b[38;5;241m.\u001b[39m_add_user_auth(params, username, password)\n\u001b[0;32m--> 464\u001b[0m \u001b[38;5;28;01mreturn\u001b[39;00m \u001b[38;5;28;43mself\u001b[39;49m\u001b[38;5;241;43m.\u001b[39;49m\u001b[43muaclient\u001b[49m\u001b[38;5;241;43m.\u001b[39;49m\u001b[43mactivate_session\u001b[49m\u001b[43m(\u001b[49m\u001b[43mparams\u001b[49m\u001b[43m)\u001b[49m\n",
      "File \u001b[0;32m/opt/anaconda/anaconda3/lib/python3.9/site-packages/opcua/client/ua_client.py:299\u001b[0m, in \u001b[0;36mUaClient.activate_session\u001b[0;34m(self, parameters)\u001b[0m\n\u001b[1;32m    297\u001b[0m request \u001b[38;5;241m=\u001b[39m ua\u001b[38;5;241m.\u001b[39mActivateSessionRequest()\n\u001b[1;32m    298\u001b[0m request\u001b[38;5;241m.\u001b[39mParameters \u001b[38;5;241m=\u001b[39m parameters\n\u001b[0;32m--> 299\u001b[0m data \u001b[38;5;241m=\u001b[39m \u001b[38;5;28;43mself\u001b[39;49m\u001b[38;5;241;43m.\u001b[39;49m\u001b[43m_uasocket\u001b[49m\u001b[38;5;241;43m.\u001b[39;49m\u001b[43msend_request\u001b[49m\u001b[43m(\u001b[49m\u001b[43mrequest\u001b[49m\u001b[43m)\u001b[49m\n\u001b[1;32m    300\u001b[0m response \u001b[38;5;241m=\u001b[39m struct_from_binary(ua\u001b[38;5;241m.\u001b[39mActivateSessionResponse, data)\n\u001b[1;32m    301\u001b[0m \u001b[38;5;28mself\u001b[39m\u001b[38;5;241m.\u001b[39mlogger\u001b[38;5;241m.\u001b[39mdebug(response)\n",
      "File \u001b[0;32m/opt/anaconda/anaconda3/lib/python3.9/site-packages/opcua/client/ua_client.py:84\u001b[0m, in \u001b[0;36mUASocketClient.send_request\u001b[0;34m(self, request, callback, timeout, message_type)\u001b[0m\n\u001b[1;32m     82\u001b[0m \u001b[38;5;28;01mif\u001b[39;00m \u001b[38;5;129;01mnot\u001b[39;00m callback:\n\u001b[1;32m     83\u001b[0m     data \u001b[38;5;241m=\u001b[39m future\u001b[38;5;241m.\u001b[39mresult(\u001b[38;5;28mself\u001b[39m\u001b[38;5;241m.\u001b[39mtimeout)\n\u001b[0;32m---> 84\u001b[0m     \u001b[38;5;28;43mself\u001b[39;49m\u001b[38;5;241;43m.\u001b[39;49m\u001b[43mcheck_answer\u001b[49m\u001b[43m(\u001b[49m\u001b[43mdata\u001b[49m\u001b[43m,\u001b[49m\u001b[43m \u001b[49m\u001b[38;5;124;43m\"\u001b[39;49m\u001b[38;5;124;43m in response to \u001b[39;49m\u001b[38;5;124;43m\"\u001b[39;49m\u001b[43m \u001b[49m\u001b[38;5;241;43m+\u001b[39;49m\u001b[43m \u001b[49m\u001b[43mrequest\u001b[49m\u001b[38;5;241;43m.\u001b[39;49m\u001b[38;5;18;43m__class__\u001b[39;49m\u001b[38;5;241;43m.\u001b[39;49m\u001b[38;5;18;43m__name__\u001b[39;49m\u001b[43m)\u001b[49m\n\u001b[1;32m     85\u001b[0m     \u001b[38;5;28;01mreturn\u001b[39;00m data\n",
      "File \u001b[0;32m/opt/anaconda/anaconda3/lib/python3.9/site-packages/opcua/client/ua_client.py:93\u001b[0m, in \u001b[0;36mUASocketClient.check_answer\u001b[0;34m(self, data, context)\u001b[0m\n\u001b[1;32m     91\u001b[0m     \u001b[38;5;28mself\u001b[39m\u001b[38;5;241m.\u001b[39mlogger\u001b[38;5;241m.\u001b[39mwarning(\u001b[38;5;124m\"\u001b[39m\u001b[38;5;124mServiceFault from server received \u001b[39m\u001b[38;5;132;01m%s\u001b[39;00m\u001b[38;5;124m\"\u001b[39m, context)\n\u001b[1;32m     92\u001b[0m     hdr \u001b[38;5;241m=\u001b[39m struct_from_binary(ua\u001b[38;5;241m.\u001b[39mResponseHeader, data)\n\u001b[0;32m---> 93\u001b[0m     \u001b[43mhdr\u001b[49m\u001b[38;5;241;43m.\u001b[39;49m\u001b[43mServiceResult\u001b[49m\u001b[38;5;241;43m.\u001b[39;49m\u001b[43mcheck\u001b[49m\u001b[43m(\u001b[49m\u001b[43m)\u001b[49m\n\u001b[1;32m     94\u001b[0m     \u001b[38;5;28;01mreturn\u001b[39;00m \u001b[38;5;28;01mFalse\u001b[39;00m\n\u001b[1;32m     95\u001b[0m \u001b[38;5;28;01mreturn\u001b[39;00m \u001b[38;5;28;01mTrue\u001b[39;00m\n",
      "File \u001b[0;32m/opt/anaconda/anaconda3/lib/python3.9/site-packages/opcua/ua/uatypes.py:218\u001b[0m, in \u001b[0;36mStatusCode.check\u001b[0;34m(self)\u001b[0m\n\u001b[1;32m    212\u001b[0m \u001b[38;5;124;03m\"\"\"\u001b[39;00m\n\u001b[1;32m    213\u001b[0m \u001b[38;5;124;03mRaises an exception if the status code is anything else than 0 (good).\u001b[39;00m\n\u001b[1;32m    214\u001b[0m \n\u001b[1;32m    215\u001b[0m \u001b[38;5;124;03mUse the is_good() method if you do not want an exception.\u001b[39;00m\n\u001b[1;32m    216\u001b[0m \u001b[38;5;124;03m\"\"\"\u001b[39;00m\n\u001b[1;32m    217\u001b[0m \u001b[38;5;28;01mif\u001b[39;00m \u001b[38;5;129;01mnot\u001b[39;00m \u001b[38;5;28mself\u001b[39m\u001b[38;5;241m.\u001b[39mis_good():\n\u001b[0;32m--> 218\u001b[0m     \u001b[38;5;28;01mraise\u001b[39;00m UaStatusCodeError(\u001b[38;5;28mself\u001b[39m\u001b[38;5;241m.\u001b[39mvalue)\n",
      "\u001b[0;31mBadIdentityTokenInvalid\u001b[0m: \"The user identity token is not valid.\"(BadIdentityTokenInvalid)"
     ]
    }
   ],
   "source": [
    "client.activate_session(username=\"Administrator\", password=\"*500TPress*\", certificate=None)"
   ]
  },
  {
   "cell_type": "code",
   "execution_count": 62,
   "id": "11d20893-3843-4fc0-94bf-253292d5acef",
   "metadata": {},
   "outputs": [
    {
     "ename": "AttributeError",
     "evalue": "'NoneType' object has no attribute 'send_request'",
     "output_type": "error",
     "traceback": [
      "\u001b[0;31m---------------------------------------------------------------------------\u001b[0m",
      "\u001b[0;31mAttributeError\u001b[0m                            Traceback (most recent call last)",
      "Input \u001b[0;32mIn [62]\u001b[0m, in \u001b[0;36m<cell line: 1>\u001b[0;34m()\u001b[0m\n\u001b[0;32m----> 1\u001b[0m \u001b[43mclient\u001b[49m\u001b[38;5;241;43m.\u001b[39;49m\u001b[43mactivate_session\u001b[49m\u001b[43m(\u001b[49m\u001b[43musername\u001b[49m\u001b[38;5;241;43m=\u001b[39;49m\u001b[38;5;124;43m\"\u001b[39;49m\u001b[38;5;124;43mAdministrator\u001b[39;49m\u001b[38;5;124;43m\"\u001b[39;49m\u001b[43m,\u001b[49m\u001b[43m \u001b[49m\u001b[43mpassword\u001b[49m\u001b[38;5;241;43m=\u001b[39;49m\u001b[38;5;124;43m\"\u001b[39;49m\u001b[38;5;124;43m*500TPress*\u001b[39;49m\u001b[38;5;124;43m\"\u001b[39;49m\u001b[43m,\u001b[49m\u001b[43m \u001b[49m\u001b[43mcertificate\u001b[49m\u001b[38;5;241;43m=\u001b[39;49m\u001b[38;5;28;43;01mNone\u001b[39;49;00m\u001b[43m)\u001b[49m\n",
      "File \u001b[0;32m/opt/anaconda/anaconda3/lib/python3.9/site-packages/opcua/client/client.py:464\u001b[0m, in \u001b[0;36mClient.activate_session\u001b[0;34m(self, username, password, certificate)\u001b[0m\n\u001b[1;32m    462\u001b[0m \u001b[38;5;28;01melse\u001b[39;00m:\n\u001b[1;32m    463\u001b[0m     \u001b[38;5;28mself\u001b[39m\u001b[38;5;241m.\u001b[39m_add_user_auth(params, username, password)\n\u001b[0;32m--> 464\u001b[0m \u001b[38;5;28;01mreturn\u001b[39;00m \u001b[38;5;28;43mself\u001b[39;49m\u001b[38;5;241;43m.\u001b[39;49m\u001b[43muaclient\u001b[49m\u001b[38;5;241;43m.\u001b[39;49m\u001b[43mactivate_session\u001b[49m\u001b[43m(\u001b[49m\u001b[43mparams\u001b[49m\u001b[43m)\u001b[49m\n",
      "File \u001b[0;32m/opt/anaconda/anaconda3/lib/python3.9/site-packages/opcua/client/ua_client.py:299\u001b[0m, in \u001b[0;36mUaClient.activate_session\u001b[0;34m(self, parameters)\u001b[0m\n\u001b[1;32m    297\u001b[0m request \u001b[38;5;241m=\u001b[39m ua\u001b[38;5;241m.\u001b[39mActivateSessionRequest()\n\u001b[1;32m    298\u001b[0m request\u001b[38;5;241m.\u001b[39mParameters \u001b[38;5;241m=\u001b[39m parameters\n\u001b[0;32m--> 299\u001b[0m data \u001b[38;5;241m=\u001b[39m \u001b[38;5;28;43mself\u001b[39;49m\u001b[38;5;241;43m.\u001b[39;49m\u001b[43m_uasocket\u001b[49m\u001b[38;5;241;43m.\u001b[39;49m\u001b[43msend_request\u001b[49m(request)\n\u001b[1;32m    300\u001b[0m response \u001b[38;5;241m=\u001b[39m struct_from_binary(ua\u001b[38;5;241m.\u001b[39mActivateSessionResponse, data)\n\u001b[1;32m    301\u001b[0m \u001b[38;5;28mself\u001b[39m\u001b[38;5;241m.\u001b[39mlogger\u001b[38;5;241m.\u001b[39mdebug(response)\n",
      "\u001b[0;31mAttributeError\u001b[0m: 'NoneType' object has no attribute 'send_request'"
     ]
    }
   ],
   "source": [
    "client.activate_session(username=\"Administrator\", password=\"*500TPress*\", certificate=None)"
   ]
  },
  {
   "cell_type": "code",
   "execution_count": 25,
   "id": "99799e50-3c48-4013-ab0e-c38e1df0b2a0",
   "metadata": {},
   "outputs": [],
   "source": [
    "client = opcua.Client(\"http://130.159.75.138:48050\")\n",
    "\n",
    "# 48050 - UA gateway (middleman with actual PLC)"
   ]
  },
  {
   "cell_type": "code",
   "execution_count": 60,
   "id": "708dea9a-02cf-401d-a543-9f3757462c21",
   "metadata": {},
   "outputs": [
    {
     "name": "stderr",
     "output_type": "stream",
     "text": [
      "ServiceFault from server received  in response to ActivateSessionRequest\n"
     ]
    },
    {
     "ename": "BadIdentityTokenRejected",
     "evalue": "\"The user identity token is valid but the server has rejected it.\"(BadIdentityTokenRejected)",
     "output_type": "error",
     "traceback": [
      "\u001b[0;31m---------------------------------------------------------------------------\u001b[0m",
      "\u001b[0;31mBadIdentityTokenRejected\u001b[0m                  Traceback (most recent call last)",
      "Input \u001b[0;32mIn [60]\u001b[0m, in \u001b[0;36m<cell line: 1>\u001b[0;34m()\u001b[0m\n\u001b[0;32m----> 1\u001b[0m \u001b[43mclient\u001b[49m\u001b[38;5;241;43m.\u001b[39;49m\u001b[43mconnect\u001b[49m\u001b[43m(\u001b[49m\u001b[43m)\u001b[49m\n",
      "File \u001b[0;32m/opt/anaconda/anaconda3/lib/python3.9/site-packages/opcua/client/client.py:279\u001b[0m, in \u001b[0;36mClient.connect\u001b[0;34m(self)\u001b[0m\n\u001b[1;32m    277\u001b[0m \u001b[38;5;28mself\u001b[39m\u001b[38;5;241m.\u001b[39mcreate_session()\n\u001b[1;32m    278\u001b[0m \u001b[38;5;28;01mtry\u001b[39;00m:\n\u001b[0;32m--> 279\u001b[0m     \u001b[38;5;28;43mself\u001b[39;49m\u001b[38;5;241;43m.\u001b[39;49m\u001b[43mactivate_session\u001b[49m\u001b[43m(\u001b[49m\u001b[43musername\u001b[49m\u001b[38;5;241;43m=\u001b[39;49m\u001b[38;5;28;43mself\u001b[39;49m\u001b[38;5;241;43m.\u001b[39;49m\u001b[43m_username\u001b[49m\u001b[43m,\u001b[49m\u001b[43m \u001b[49m\u001b[43mpassword\u001b[49m\u001b[38;5;241;43m=\u001b[39;49m\u001b[38;5;28;43mself\u001b[39;49m\u001b[38;5;241;43m.\u001b[39;49m\u001b[43m_password\u001b[49m\u001b[43m,\u001b[49m\u001b[43m \u001b[49m\u001b[43mcertificate\u001b[49m\u001b[38;5;241;43m=\u001b[39;49m\u001b[38;5;28;43mself\u001b[39;49m\u001b[38;5;241;43m.\u001b[39;49m\u001b[43muser_certificate\u001b[49m\u001b[43m)\u001b[49m\n\u001b[1;32m    280\u001b[0m \u001b[38;5;28;01mexcept\u001b[39;00m \u001b[38;5;167;01mException\u001b[39;00m:\n\u001b[1;32m    281\u001b[0m     \u001b[38;5;66;03m# clean up the session\u001b[39;00m\n\u001b[1;32m    282\u001b[0m     \u001b[38;5;28mself\u001b[39m\u001b[38;5;241m.\u001b[39mclose_session()\n",
      "File \u001b[0;32m/opt/anaconda/anaconda3/lib/python3.9/site-packages/opcua/client/client.py:464\u001b[0m, in \u001b[0;36mClient.activate_session\u001b[0;34m(self, username, password, certificate)\u001b[0m\n\u001b[1;32m    462\u001b[0m \u001b[38;5;28;01melse\u001b[39;00m:\n\u001b[1;32m    463\u001b[0m     \u001b[38;5;28mself\u001b[39m\u001b[38;5;241m.\u001b[39m_add_user_auth(params, username, password)\n\u001b[0;32m--> 464\u001b[0m \u001b[38;5;28;01mreturn\u001b[39;00m \u001b[38;5;28;43mself\u001b[39;49m\u001b[38;5;241;43m.\u001b[39;49m\u001b[43muaclient\u001b[49m\u001b[38;5;241;43m.\u001b[39;49m\u001b[43mactivate_session\u001b[49m\u001b[43m(\u001b[49m\u001b[43mparams\u001b[49m\u001b[43m)\u001b[49m\n",
      "File \u001b[0;32m/opt/anaconda/anaconda3/lib/python3.9/site-packages/opcua/client/ua_client.py:299\u001b[0m, in \u001b[0;36mUaClient.activate_session\u001b[0;34m(self, parameters)\u001b[0m\n\u001b[1;32m    297\u001b[0m request \u001b[38;5;241m=\u001b[39m ua\u001b[38;5;241m.\u001b[39mActivateSessionRequest()\n\u001b[1;32m    298\u001b[0m request\u001b[38;5;241m.\u001b[39mParameters \u001b[38;5;241m=\u001b[39m parameters\n\u001b[0;32m--> 299\u001b[0m data \u001b[38;5;241m=\u001b[39m \u001b[38;5;28;43mself\u001b[39;49m\u001b[38;5;241;43m.\u001b[39;49m\u001b[43m_uasocket\u001b[49m\u001b[38;5;241;43m.\u001b[39;49m\u001b[43msend_request\u001b[49m\u001b[43m(\u001b[49m\u001b[43mrequest\u001b[49m\u001b[43m)\u001b[49m\n\u001b[1;32m    300\u001b[0m response \u001b[38;5;241m=\u001b[39m struct_from_binary(ua\u001b[38;5;241m.\u001b[39mActivateSessionResponse, data)\n\u001b[1;32m    301\u001b[0m \u001b[38;5;28mself\u001b[39m\u001b[38;5;241m.\u001b[39mlogger\u001b[38;5;241m.\u001b[39mdebug(response)\n",
      "File \u001b[0;32m/opt/anaconda/anaconda3/lib/python3.9/site-packages/opcua/client/ua_client.py:84\u001b[0m, in \u001b[0;36mUASocketClient.send_request\u001b[0;34m(self, request, callback, timeout, message_type)\u001b[0m\n\u001b[1;32m     82\u001b[0m \u001b[38;5;28;01mif\u001b[39;00m \u001b[38;5;129;01mnot\u001b[39;00m callback:\n\u001b[1;32m     83\u001b[0m     data \u001b[38;5;241m=\u001b[39m future\u001b[38;5;241m.\u001b[39mresult(\u001b[38;5;28mself\u001b[39m\u001b[38;5;241m.\u001b[39mtimeout)\n\u001b[0;32m---> 84\u001b[0m     \u001b[38;5;28;43mself\u001b[39;49m\u001b[38;5;241;43m.\u001b[39;49m\u001b[43mcheck_answer\u001b[49m\u001b[43m(\u001b[49m\u001b[43mdata\u001b[49m\u001b[43m,\u001b[49m\u001b[43m \u001b[49m\u001b[38;5;124;43m\"\u001b[39;49m\u001b[38;5;124;43m in response to \u001b[39;49m\u001b[38;5;124;43m\"\u001b[39;49m\u001b[43m \u001b[49m\u001b[38;5;241;43m+\u001b[39;49m\u001b[43m \u001b[49m\u001b[43mrequest\u001b[49m\u001b[38;5;241;43m.\u001b[39;49m\u001b[38;5;18;43m__class__\u001b[39;49m\u001b[38;5;241;43m.\u001b[39;49m\u001b[38;5;18;43m__name__\u001b[39;49m\u001b[43m)\u001b[49m\n\u001b[1;32m     85\u001b[0m     \u001b[38;5;28;01mreturn\u001b[39;00m data\n",
      "File \u001b[0;32m/opt/anaconda/anaconda3/lib/python3.9/site-packages/opcua/client/ua_client.py:93\u001b[0m, in \u001b[0;36mUASocketClient.check_answer\u001b[0;34m(self, data, context)\u001b[0m\n\u001b[1;32m     91\u001b[0m     \u001b[38;5;28mself\u001b[39m\u001b[38;5;241m.\u001b[39mlogger\u001b[38;5;241m.\u001b[39mwarning(\u001b[38;5;124m\"\u001b[39m\u001b[38;5;124mServiceFault from server received \u001b[39m\u001b[38;5;132;01m%s\u001b[39;00m\u001b[38;5;124m\"\u001b[39m, context)\n\u001b[1;32m     92\u001b[0m     hdr \u001b[38;5;241m=\u001b[39m struct_from_binary(ua\u001b[38;5;241m.\u001b[39mResponseHeader, data)\n\u001b[0;32m---> 93\u001b[0m     \u001b[43mhdr\u001b[49m\u001b[38;5;241;43m.\u001b[39;49m\u001b[43mServiceResult\u001b[49m\u001b[38;5;241;43m.\u001b[39;49m\u001b[43mcheck\u001b[49m\u001b[43m(\u001b[49m\u001b[43m)\u001b[49m\n\u001b[1;32m     94\u001b[0m     \u001b[38;5;28;01mreturn\u001b[39;00m \u001b[38;5;28;01mFalse\u001b[39;00m\n\u001b[1;32m     95\u001b[0m \u001b[38;5;28;01mreturn\u001b[39;00m \u001b[38;5;28;01mTrue\u001b[39;00m\n",
      "File \u001b[0;32m/opt/anaconda/anaconda3/lib/python3.9/site-packages/opcua/ua/uatypes.py:218\u001b[0m, in \u001b[0;36mStatusCode.check\u001b[0;34m(self)\u001b[0m\n\u001b[1;32m    212\u001b[0m \u001b[38;5;124;03m\"\"\"\u001b[39;00m\n\u001b[1;32m    213\u001b[0m \u001b[38;5;124;03mRaises an exception if the status code is anything else than 0 (good).\u001b[39;00m\n\u001b[1;32m    214\u001b[0m \n\u001b[1;32m    215\u001b[0m \u001b[38;5;124;03mUse the is_good() method if you do not want an exception.\u001b[39;00m\n\u001b[1;32m    216\u001b[0m \u001b[38;5;124;03m\"\"\"\u001b[39;00m\n\u001b[1;32m    217\u001b[0m \u001b[38;5;28;01mif\u001b[39;00m \u001b[38;5;129;01mnot\u001b[39;00m \u001b[38;5;28mself\u001b[39m\u001b[38;5;241m.\u001b[39mis_good():\n\u001b[0;32m--> 218\u001b[0m     \u001b[38;5;28;01mraise\u001b[39;00m UaStatusCodeError(\u001b[38;5;28mself\u001b[39m\u001b[38;5;241m.\u001b[39mvalue)\n",
      "\u001b[0;31mBadIdentityTokenRejected\u001b[0m: \"The user identity token is valid but the server has rejected it.\"(BadIdentityTokenRejected)"
     ]
    }
   ],
   "source": [
    "client.connect()"
   ]
  },
  {
   "cell_type": "code",
   "execution_count": 27,
   "id": "9f355180-8e67-4cf6-b9cf-e1eca12ad685",
   "metadata": {},
   "outputs": [
    {
     "data": {
      "text/plain": [
       "['http://opcfoundation.org/UA/',\n",
       " 'urn:BeckhoffAutomation:TcOpcUaGateway',\n",
       " 'http://opcfoundation.org/UA/DI/',\n",
       " 'http://unifiedautomation.com/Configuration/',\n",
       " 'http://unifiedautomation.com/TagFile/']"
      ]
     },
     "execution_count": 27,
     "metadata": {},
     "output_type": "execute_result"
    }
   ],
   "source": [
    "client.get_namespace_array()"
   ]
  },
  {
   "cell_type": "code",
   "execution_count": 28,
   "id": "6553b197-d679-439d-a88b-73e626a05d3a",
   "metadata": {},
   "outputs": [
    {
     "data": {
      "text/plain": [
       "([], {})"
      ]
     },
     "execution_count": 28,
     "metadata": {},
     "output_type": "execute_result"
    }
   ],
   "source": [
    "client.load_type_definitions() "
   ]
  },
  {
   "cell_type": "code",
   "execution_count": 30,
   "id": "6bcda951-4bee-4133-a422-964dfa99be34",
   "metadata": {},
   "outputs": [
    {
     "data": {
      "text/plain": [
       "Node(TwoByteNodeId(i=84))"
      ]
     },
     "execution_count": 30,
     "metadata": {},
     "output_type": "execute_result"
    }
   ],
   "source": []
  },
  {
   "cell_type": "code",
   "execution_count": 31,
   "id": "d7d92de8-c752-495f-a15c-e6c10eb2cf4f",
   "metadata": {},
   "outputs": [
    {
     "data": {
      "text/plain": [
       "Node(TwoByteNodeId(i=85))"
      ]
     },
     "execution_count": 31,
     "metadata": {},
     "output_type": "execute_result"
    }
   ],
   "source": [
    "objects = client.get_objects_node()\n",
    "objects"
   ]
  },
  {
   "cell_type": "code",
   "execution_count": null,
   "id": "e57972d8-0b85-4bad-9245-6b970b294d7c",
   "metadata": {},
   "outputs": [],
   "source": [
    "client.load_type_definitions()  # load definition of server specific structures/extension objects\n",
    "\n",
    "# Client has a few methods to get proxy to UA nodes that should always be in address space such as Root or Objects\n",
    "root = client.get_root_node()\n",
    "print(\"Root node is: \", root)\n",
    "objects = client.get_objects_node()\n",
    "print(\"Objects node is: \", objects)"
   ]
  }
 ],
 "metadata": {
  "kernelspec": {
   "display_name": "Python 3 (ipykernel)",
   "language": "python",
   "name": "python3"
  },
  "language_info": {
   "codemirror_mode": {
    "name": "ipython",
    "version": 3
   },
   "file_extension": ".py",
   "mimetype": "text/x-python",
   "name": "python",
   "nbconvert_exporter": "python",
   "pygments_lexer": "ipython3",
   "version": "3.9.12"
  }
 },
 "nbformat": 4,
 "nbformat_minor": 5
}
