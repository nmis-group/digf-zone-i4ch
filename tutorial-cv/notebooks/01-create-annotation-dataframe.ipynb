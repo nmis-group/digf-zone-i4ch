{
 "cells": [
  {
   "cell_type": "code",
   "execution_count": 1,
   "metadata": {},
   "outputs": [],
   "source": [
    "%reload_ext autoreload\n",
    "%autoreload 2\n",
    "%matplotlib inline"
   ]
  },
  {
   "cell_type": "code",
   "execution_count": 2,
   "metadata": {},
   "outputs": [],
   "source": [
    "import sys\n",
    "sys.path.append('../src/data')\n",
    "from utils import *"
   ]
  },
  {
   "cell_type": "code",
   "execution_count": 3,
   "metadata": {},
   "outputs": [],
   "source": [
    "root_img = '../data/raw/'\n",
    "root_annotation = '../data/processed/img-all/Annotations/'\n",
    "\n",
    "df = generate_df(root_annotation, root_img)"
   ]
  },
  {
   "cell_type": "code",
   "execution_count": 4,
   "metadata": {},
   "outputs": [
    {
     "data": {
      "text/html": [
       "<div>\n",
       "<style scoped>\n",
       "    .dataframe tbody tr th:only-of-type {\n",
       "        vertical-align: middle;\n",
       "    }\n",
       "\n",
       "    .dataframe tbody tr th {\n",
       "        vertical-align: top;\n",
       "    }\n",
       "\n",
       "    .dataframe thead th {\n",
       "        text-align: right;\n",
       "    }\n",
       "</style>\n",
       "<table border=\"1\" class=\"dataframe\">\n",
       "  <thead>\n",
       "    <tr style=\"text-align: right;\">\n",
       "      <th></th>\n",
       "      <th>filename</th>\n",
       "      <th>width</th>\n",
       "      <th>height</th>\n",
       "      <th>class</th>\n",
       "      <th>bboxes</th>\n",
       "    </tr>\n",
       "  </thead>\n",
       "  <tbody>\n",
       "    <tr>\n",
       "      <th>0</th>\n",
       "      <td>../data/raw/2021-11-19_2_bolts_0020.jpg</td>\n",
       "      <td>4032</td>\n",
       "      <td>3024</td>\n",
       "      <td>Bolt</td>\n",
       "      <td>[[2851, 1947, 3051, 2141], [751, 1847, 950, 20...</td>\n",
       "    </tr>\n",
       "    <tr>\n",
       "      <th>1</th>\n",
       "      <td>../data/raw/2021-10-29_1_bolts_0034.jpg</td>\n",
       "      <td>4032</td>\n",
       "      <td>3024</td>\n",
       "      <td>Bolt</td>\n",
       "      <td>[[3555, 2415, 3760, 2614]]</td>\n",
       "    </tr>\n",
       "    <tr>\n",
       "      <th>2</th>\n",
       "      <td>../data/raw/2021-11-19_1_bolts_0057.jpg</td>\n",
       "      <td>1512</td>\n",
       "      <td>2016</td>\n",
       "      <td>Bolt</td>\n",
       "      <td>[[568, 149, 667, 253]]</td>\n",
       "    </tr>\n",
       "    <tr>\n",
       "      <th>3</th>\n",
       "      <td>../data/raw/2021-11-19_2_bolts_0019.jpg</td>\n",
       "      <td>1512</td>\n",
       "      <td>2016</td>\n",
       "      <td>Bolt</td>\n",
       "      <td>[[568, 130, 664, 223], [1276, 1224, 1373, 1324]]</td>\n",
       "    </tr>\n",
       "    <tr>\n",
       "      <th>4</th>\n",
       "      <td>../data/raw/2021-10-29_2_bolts_0006.jpg</td>\n",
       "      <td>4032</td>\n",
       "      <td>3024</td>\n",
       "      <td>Bolt</td>\n",
       "      <td>[[486, 529, 686, 728], [1509, 544, 1704, 748]]</td>\n",
       "    </tr>\n",
       "  </tbody>\n",
       "</table>\n",
       "</div>"
      ],
      "text/plain": [
       "                                  filename width height class  \\\n",
       "0  ../data/raw/2021-11-19_2_bolts_0020.jpg  4032   3024  Bolt   \n",
       "1  ../data/raw/2021-10-29_1_bolts_0034.jpg  4032   3024  Bolt   \n",
       "2  ../data/raw/2021-11-19_1_bolts_0057.jpg  1512   2016  Bolt   \n",
       "3  ../data/raw/2021-11-19_2_bolts_0019.jpg  1512   2016  Bolt   \n",
       "4  ../data/raw/2021-10-29_2_bolts_0006.jpg  4032   3024  Bolt   \n",
       "\n",
       "                                              bboxes  \n",
       "0  [[2851, 1947, 3051, 2141], [751, 1847, 950, 20...  \n",
       "1                         [[3555, 2415, 3760, 2614]]  \n",
       "2                             [[568, 149, 667, 253]]  \n",
       "3   [[568, 130, 664, 223], [1276, 1224, 1373, 1324]]  \n",
       "4     [[486, 529, 686, 728], [1509, 544, 1704, 748]]  "
      ]
     },
     "execution_count": 4,
     "metadata": {},
     "output_type": "execute_result"
    }
   ],
   "source": [
    "df.head()"
   ]
  },
  {
   "cell_type": "code",
   "execution_count": 5,
   "metadata": {},
   "outputs": [],
   "source": [
    "df = df.dropna()"
   ]
  },
  {
   "cell_type": "code",
   "execution_count": 6,
   "metadata": {},
   "outputs": [],
   "source": [
    "df = df.reset_index(drop=True)"
   ]
  },
  {
   "cell_type": "code",
   "execution_count": 7,
   "metadata": {},
   "outputs": [
    {
     "data": {
      "text/plain": [
       "179"
      ]
     },
     "execution_count": 7,
     "metadata": {},
     "output_type": "execute_result"
    }
   ],
   "source": [
    "len(df)"
   ]
  },
  {
   "cell_type": "code",
   "execution_count": 8,
   "metadata": {},
   "outputs": [],
   "source": [
    "# Hard code for split function. When the files stored within different directory with '_', it will have different number.\n",
    "def bolts_count(x):\n",
    "    \n",
    "    return int(str(x).split('_')[1])"
   ]
  },
  {
   "cell_type": "code",
   "execution_count": 9,
   "metadata": {},
   "outputs": [],
   "source": [
    "df['total_bolts'] = df.filename.apply(bolts_count)"
   ]
  },
  {
   "cell_type": "code",
   "execution_count": 10,
   "metadata": {},
   "outputs": [
    {
     "data": {
      "text/html": [
       "<div>\n",
       "<style scoped>\n",
       "    .dataframe tbody tr th:only-of-type {\n",
       "        vertical-align: middle;\n",
       "    }\n",
       "\n",
       "    .dataframe tbody tr th {\n",
       "        vertical-align: top;\n",
       "    }\n",
       "\n",
       "    .dataframe thead th {\n",
       "        text-align: right;\n",
       "    }\n",
       "</style>\n",
       "<table border=\"1\" class=\"dataframe\">\n",
       "  <thead>\n",
       "    <tr style=\"text-align: right;\">\n",
       "      <th></th>\n",
       "      <th>filename</th>\n",
       "      <th>width</th>\n",
       "      <th>height</th>\n",
       "      <th>class</th>\n",
       "      <th>bboxes</th>\n",
       "      <th>total_bolts</th>\n",
       "    </tr>\n",
       "  </thead>\n",
       "  <tbody>\n",
       "    <tr>\n",
       "      <th>0</th>\n",
       "      <td>../data/raw/2021-11-19_2_bolts_0020.jpg</td>\n",
       "      <td>4032</td>\n",
       "      <td>3024</td>\n",
       "      <td>Bolt</td>\n",
       "      <td>[[2851, 1947, 3051, 2141], [751, 1847, 950, 20...</td>\n",
       "      <td>2</td>\n",
       "    </tr>\n",
       "    <tr>\n",
       "      <th>1</th>\n",
       "      <td>../data/raw/2021-10-29_1_bolts_0034.jpg</td>\n",
       "      <td>4032</td>\n",
       "      <td>3024</td>\n",
       "      <td>Bolt</td>\n",
       "      <td>[[3555, 2415, 3760, 2614]]</td>\n",
       "      <td>1</td>\n",
       "    </tr>\n",
       "    <tr>\n",
       "      <th>2</th>\n",
       "      <td>../data/raw/2021-11-19_1_bolts_0057.jpg</td>\n",
       "      <td>1512</td>\n",
       "      <td>2016</td>\n",
       "      <td>Bolt</td>\n",
       "      <td>[[568, 149, 667, 253]]</td>\n",
       "      <td>1</td>\n",
       "    </tr>\n",
       "    <tr>\n",
       "      <th>3</th>\n",
       "      <td>../data/raw/2021-11-19_2_bolts_0019.jpg</td>\n",
       "      <td>1512</td>\n",
       "      <td>2016</td>\n",
       "      <td>Bolt</td>\n",
       "      <td>[[568, 130, 664, 223], [1276, 1224, 1373, 1324]]</td>\n",
       "      <td>2</td>\n",
       "    </tr>\n",
       "    <tr>\n",
       "      <th>4</th>\n",
       "      <td>../data/raw/2021-10-29_2_bolts_0006.jpg</td>\n",
       "      <td>4032</td>\n",
       "      <td>3024</td>\n",
       "      <td>Bolt</td>\n",
       "      <td>[[486, 529, 686, 728], [1509, 544, 1704, 748]]</td>\n",
       "      <td>2</td>\n",
       "    </tr>\n",
       "  </tbody>\n",
       "</table>\n",
       "</div>"
      ],
      "text/plain": [
       "                                  filename width height class  \\\n",
       "0  ../data/raw/2021-11-19_2_bolts_0020.jpg  4032   3024  Bolt   \n",
       "1  ../data/raw/2021-10-29_1_bolts_0034.jpg  4032   3024  Bolt   \n",
       "2  ../data/raw/2021-11-19_1_bolts_0057.jpg  1512   2016  Bolt   \n",
       "3  ../data/raw/2021-11-19_2_bolts_0019.jpg  1512   2016  Bolt   \n",
       "4  ../data/raw/2021-10-29_2_bolts_0006.jpg  4032   3024  Bolt   \n",
       "\n",
       "                                              bboxes  total_bolts  \n",
       "0  [[2851, 1947, 3051, 2141], [751, 1847, 950, 20...            2  \n",
       "1                         [[3555, 2415, 3760, 2614]]            1  \n",
       "2                             [[568, 149, 667, 253]]            1  \n",
       "3   [[568, 130, 664, 223], [1276, 1224, 1373, 1324]]            2  \n",
       "4     [[486, 529, 686, 728], [1509, 544, 1704, 748]]            2  "
      ]
     },
     "execution_count": 10,
     "metadata": {},
     "output_type": "execute_result"
    }
   ],
   "source": [
    "df.head()"
   ]
  },
  {
   "cell_type": "code",
   "execution_count": 11,
   "metadata": {},
   "outputs": [],
   "source": [
    "df.to_csv('~/work/digf-coref/data/interim/dataset.csv', index=False)"
   ]
  },
  {
   "cell_type": "code",
   "execution_count": null,
   "metadata": {},
   "outputs": [],
   "source": []
  },
  {
   "cell_type": "code",
   "execution_count": null,
   "metadata": {},
   "outputs": [],
   "source": []
  }
 ],
 "metadata": {
  "kernelspec": {
   "display_name": "Python 3 (ipykernel)",
   "language": "python",
   "name": "python3"
  },
  "language_info": {
   "codemirror_mode": {
    "name": "ipython",
    "version": 3
   },
   "file_extension": ".py",
   "mimetype": "text/x-python",
   "name": "python",
   "nbconvert_exporter": "python",
   "pygments_lexer": "ipython3",
   "version": "3.10.6"
  }
 },
 "nbformat": 4,
 "nbformat_minor": 4
}
