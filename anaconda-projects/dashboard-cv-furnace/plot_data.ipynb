{
 "cells": [
  {
   "cell_type": "markdown",
   "id": "50b1f40f-4d1c-4321-9aaf-d2250d56e76a",
   "metadata": {},
   "source": [
    "## Import required packages"
   ]
  },
  {
   "cell_type": "code",
   "execution_count": null,
   "id": "add18ffa-e4b4-4afe-9d4d-a39f13562196",
   "metadata": {},
   "outputs": [],
   "source": [
    "import pandas as pd\n",
    "import numpy as np\n",
    "import matplotlib\n",
    "import matplotlib.pyplot as plt\n",
    "%matplotlib inline\n",
    "import holoviews as hv\n",
    "import hvplot.pandas\n",
    "import panel as pn\n",
    "import data_processing_methods as dpm"
   ]
  },
  {
   "cell_type": "markdown",
   "id": "bbc21f6f-71be-466c-aca3-9ff1c7f9d8f6",
   "metadata": {},
   "source": [
    "## Plot sensor data"
   ]
  },
  {
   "cell_type": "code",
   "execution_count": null,
   "id": "2be8d26e-8003-4003-8101-c43c7d280fb3",
   "metadata": {},
   "outputs": [],
   "source": [
    "df_merged = pd.read_pickle('merged_sensor_df.pkl')\n",
    "\n",
    "plt.rcParams[\"figure.figsize\"] = (20,20)\n",
    "df_merged.plot(subplots=True, layout=(7,5))\n",
    "plt.show()"
   ]
  },
  {
   "cell_type": "markdown",
   "id": "d5e375c4-971d-4fd9-9781-d446d91dffba",
   "metadata": {},
   "source": [
    "## Create a dashboard for visualising and further processing"
   ]
  },
  {
   "cell_type": "code",
   "execution_count": null,
   "id": "014448ee-50d1-4ca3-9dee-1bbb4cf0961e",
   "metadata": {},
   "outputs": [],
   "source": [
    "df_merged = pd.read_pickle('merged_sensor_df.pkl')\n",
    "cols = list(df_merged.columns[df_merged.columns.str.startswith('ROOF_0104_300_')])\n",
    "df_merged_truncated = df_merged.loc[:,df_merged.columns.str.startswith('ROOF_0104_300_')]\n",
    "df_merged_truncated ['2022-10-09 00:00:00': '2022-10-14 00:00:00']"
   ]
  },
  {
   "cell_type": "code",
   "execution_count": null,
   "id": "24140025-5ab8-4f51-9f47-24ed8aa5ce01",
   "metadata": {},
   "outputs": [],
   "source": [
    "df_merged = pd.read_pickle('merged_sensor_df.pkl')\n",
    "cols = list(df_merged.columns[df_merged.columns.str.startswith('ROOF_0104_300_')])\n",
    "y = pn.widgets.Select(name='Variable to filter - constant low pass filter', options=cols ,value='ROOF_0104_300_10_TC')\n",
    "\n",
    "@pn.depends(y.param.value)\n",
    "def plot_furnace_data(y):\n",
    "\n",
    "    df_merged_truncated = df_merged.loc[:,df_merged.columns.str.startswith('ROOF_0104_300_')]\n",
    "    \n",
    "    fig_a = df_merged_truncated.hvplot(height = 500, width = 1200, line_width = 5)\n",
    "    df_merged_filtered = df_merged_truncated.copy()\n",
    "    df_merged_filtered.loc[:,y] = dpm.low_pass_filter(df_merged_truncated.loc[:,y])\n",
    "    fig_b = df_merged_filtered.hvplot.line(y = y, height = 500, width = 1200, color= 'black',line_width = 2)\n",
    "    \n",
    "    return fig_a*fig_b"
   ]
  },
  {
   "cell_type": "code",
   "execution_count": null,
   "id": "cab66ce1-64d7-4771-924b-f552f68742bf",
   "metadata": {},
   "outputs": [],
   "source": [
    "# Plot \n",
    "explanation_pane = pn.Column(pn.pane.Markdown(\"\"\"\n",
    "# Calorific Value (CV) - Furnace data\n",
    "\"\"\", width=500),\n",
    "pn.pane.Markdown(\"\"\"\n",
    "# Roof temperatures\n",
    "\"\"\", width=500))\n",
    "\n",
    "# Create interactive panels with radio buttons and checkboxes\n",
    "chart_a_interact = pn.interact(plot_furnace_data,y=y)\n",
    "layout_a = pn.Column(explanation_pane, chart_a_interact)\n",
    "layout_a.servable()"
   ]
  },
  {
   "cell_type": "code",
   "execution_count": null,
   "id": "79e98585-fbd7-4909-ad68-9405830b678d",
   "metadata": {},
   "outputs": [],
   "source": [
    "import datetime as dt\n",
    "df_merged = pd.read_pickle('merged_sensor_df.pkl')\n",
    "df_merged = df_merged.resample('1T').mean()\n",
    "\n",
    "cols = list(df_merged.columns[df_merged.columns.str.startswith('ROOF_0104_300_')])\n",
    "y = pn.widgets.Select(name='Chose a signal to tune filter parameters', options=cols ,value='ROOF_0104_300_10_TC')\n",
    "\n",
    "slider = pn.widgets.FloatSlider(start=0.01, end=0.1, step =0.01, value=0.1, name='low pass filter (normalised cut-off freq.)')\n",
    "\n",
    "dt_start_input = pn.widgets.DatetimeInput(name='Start date', value=dt.datetime(2022, 10, 9))\n",
    "dt_end_input = pn.widgets.DatetimeInput(name='End date', value=dt.datetime(2022, 10, 13))\n",
    "\n",
    "@pn.depends(y.param.value)\n",
    "def plot_trunc_furnace_data(y,slider_pos, date_start, date_end, Remove_spikes = False):\n",
    "\n",
    "    df_merged_truncated = df_merged.loc[:,df_merged.columns.str.startswith('ROOF_0104_300_')]\n",
    "    df_merged_truncated = df_merged_truncated [date_start: date_end]\n",
    "    fig_a = df_merged_truncated.hvplot(height = 500, width = 1200, line_width = 5)\n",
    "    df_merged_filtered = df_merged_truncated.copy()\n",
    "    if Remove_spikes:\n",
    "        df_merged_filtered.loc[:,y] = dpm.remove_spikes(df_merged_truncated.loc[:,y],olr_def=1)\n",
    "    \n",
    "    df_merged_filtered.loc[:,y] = dpm.low_pass_filter(df_merged_filtered.loc[:,y],wn=slider_pos)\n",
    "    fig_b = df_merged_filtered.hvplot.line(y = y, height = 500, width = 1200, color= 'black', label = 'Filtered signal',line_width = 2)\n",
    "    \n",
    "    return fig_a*fig_b"
   ]
  },
  {
   "cell_type": "code",
   "execution_count": null,
   "id": "35fd5ce1-bae3-4d11-a283-7850c1b39c0f",
   "metadata": {},
   "outputs": [],
   "source": [
    "# Plot \n",
    "explanation_pane = pn.pane.Markdown(\"\"\"\n",
    "## Processing signals\n",
    "\"\"\", width=500)\n",
    "\n",
    "# Create interactive panels with radio buttons and checkboxes\n",
    "chart_b_interact = pn.interact(plot_trunc_furnace_data,y=y,slider_pos=slider,date_start=dt_start_input, date_end=dt_end_input)\n",
    "layout_b = pn.Column(explanation_pane, chart_b_interact)\n",
    "layout_b.servable()"
   ]
  },
  {
   "cell_type": "code",
   "execution_count": null,
   "id": "70fd7733-7edc-44bb-9572-5c70a203b767",
   "metadata": {},
   "outputs": [],
   "source": [
    "df_merged = pd.read_pickle('merged_sensor_df.pkl')\n",
    "cols = list(df_merged.columns[df_merged.columns.str.startswith('PID_ZONE_1')])\n",
    "y = pn.widgets.Select(name='Variable to filter - constant low pass filter', options=cols ,value='PID_ZONE_1_PV')\n",
    "\n",
    "@pn.depends(y.param.value)\n",
    "def plot_PID_data(y):\n",
    "    \n",
    "    df_merged_truncated = df_merged.loc[:, df_merged.columns.str.startswith('PID_ZONE_1')]\n",
    "    df_merged_filtered = df_merged_truncated.copy()\n",
    "    \n",
    "    fig_a = df_merged_truncated.hvplot(height = 500, width = 1200, line_width = 5)\n",
    "    \n",
    "    df_merged_filtered.loc[:,y] = dpm.low_pass_filter(df_merged_truncated.loc[:,y])\n",
    "    fig_b = df_merged_filtered.hvplot.line(y = y, height = 500, width = 1200, color= 'black',line_width = 2)\n",
    "    \n",
    "    return fig_a*fig_b"
   ]
  },
  {
   "cell_type": "code",
   "execution_count": null,
   "id": "6f95c1aa-f63f-41d0-8608-574c7f5d22bd",
   "metadata": {},
   "outputs": [],
   "source": [
    "# Plot \n",
    "explanation_pane = pn.pane.Markdown(\"\"\"\n",
    "# PID Zone 1\n",
    "\"\"\", width=500)\n",
    "\n",
    "# Create interactive panels with radio buttons and checkboxes\n",
    "chart_c_interact = pn.interact(plot_PID_data,y=y)\n",
    "layout_c = pn.Column(explanation_pane, chart_c_interact)\n",
    "layout_c.servable()"
   ]
  },
  {
   "cell_type": "code",
   "execution_count": null,
   "id": "21c7ca82-7a70-45ad-8dc1-43c7ce43dcd0",
   "metadata": {},
   "outputs": [],
   "source": [
    "df_merged = pd.read_pickle('merged_sensor_df.pkl')\n",
    "df_merged = df_merged.resample('1T').mean()\n",
    "\n",
    "cols = list(df_merged.columns[df_merged.columns.str.startswith('PID_ZONE_1')])\n",
    "y = pn.widgets.Select(name='Chose a signal to tune filter parameters', options=cols ,value='PID_ZONE_1_PV'\n",
    "\n",
    "slider = pn.widgets.FloatSlider(start=0.01, end=0.1, step =0.01, value=0.1, name='low pass filter (normalised cut-off freq.)')\n",
    "\n",
    "dt_start_input = pn.widgets.DatetimeInput(name='Start date', value=dt.datetime(2022, 9, 14))\n",
    "dt_end_input = pn.widgets.DatetimeInput(name='End date', value=dt.datetime(2022, 9, 28))\n",
    "\n",
    "@pn.depends(y.param.value)\n",
    "def plot_trunc_PID_data(y,slider_pos, date_start, date_end, Remove_spikes = False):\n",
    "\n",
    "    df_merged_truncated = df_merged.loc[:,df_merged.columns.str.startswith('PID_ZONE_1')]\n",
    "    df_merged_truncated = df_merged_truncated [date_start: date_end]\n",
    "    fig_a = df_merged_truncated.hvplot(height = 500, width = 1200, line_width = 5)\n",
    "    df_merged_filtered = df_merged_truncated.copy()\n",
    "    if Remove_spikes:\n",
    "        df_merged_filtered.loc[:,y] = dpm.remove_spikes(df_merged_truncated.loc[:,y],olr_def=1)\n",
    "    \n",
    "    df_merged_filtered.loc[:,y] = dpm.low_pass_filter(df_merged_filtered.loc[:,y],wn=slider_pos)\n",
    "    fig_b = df_merged_filtered.hvplot.line(y = y, height = 500, width = 1200, color= 'black', label = 'Filtered signal',line_width = 2)\n",
    "    \n",
    "    return fig_a*fig_b"
   ]
  },
  {
   "cell_type": "code",
   "execution_count": null,
   "id": "21866496-78bb-47db-8cda-a80996b43827",
   "metadata": {},
   "outputs": [],
   "source": [
    "# Plot \n",
    "explanation_pane = pn.pane.Markdown(\"\"\"\n",
    "## Processing signals\n",
    "\"\"\", width=500)\n",
    "\n",
    "# Create interactive panels with radio buttons and checkboxes\n",
    "chart_b_interact = pn.interact(plot_trunc_PID_data,y=y,slider_pos=slider,date_start=dt_start_input, date_end=dt_end_input)\n",
    "layout_b = pn.Column(explanation_pane, chart_b_interact)\n",
    "layout_b.servable()"
   ]
  },
  {
   "cell_type": "code",
   "execution_count": null,
   "id": "1f96565d-9229-4295-849a-1f9728a456b1",
   "metadata": {},
   "outputs": [],
   "source": []
  },
  {
   "cell_type": "code",
   "execution_count": null,
   "id": "92664ab8-f6f7-47e9-9d90-1ed689adba8a",
   "metadata": {},
   "outputs": [],
   "source": []
  },
  {
   "cell_type": "code",
   "execution_count": null,
   "id": "6e281ff2-ffdc-4102-8161-61ad4739bc4d",
   "metadata": {},
   "outputs": [],
   "source": []
  },
  {
   "cell_type": "code",
   "execution_count": null,
   "id": "05ff1a19-1cb1-4139-ad54-f7157bc09274",
   "metadata": {},
   "outputs": [],
   "source": []
  },
  {
   "cell_type": "code",
   "execution_count": null,
   "id": "864101e0-2bad-47d3-823b-416e7fc3222e",
   "metadata": {},
   "outputs": [],
   "source": []
  },
  {
   "cell_type": "code",
   "execution_count": null,
   "id": "728ec1f5-36c6-405d-8e5d-8f7ea5e17559",
   "metadata": {},
   "outputs": [],
   "source": []
  },
  {
   "cell_type": "code",
   "execution_count": null,
   "id": "a6b90b59-22dc-4c0b-851f-1b8e4f8804a2",
   "metadata": {},
   "outputs": [],
   "source": []
  },
  {
   "cell_type": "code",
   "execution_count": null,
   "id": "5fa3e35a-715b-4e8f-bbea-ccd5fac6d794",
   "metadata": {},
   "outputs": [],
   "source": []
  },
  {
   "cell_type": "code",
   "execution_count": null,
   "id": "4c9d2e68-5b95-4fda-be34-be869faf411e",
   "metadata": {},
   "outputs": [],
   "source": []
  }
 ],
 "metadata": {
  "kernelspec": {
   "display_name": "Python 3 (ipykernel)",
   "language": "python",
   "name": "python3"
  },
  "language_info": {
   "codemirror_mode": {
    "name": "ipython",
    "version": 3
   },
   "file_extension": ".py",
   "mimetype": "text/x-python",
   "name": "python",
   "nbconvert_exporter": "python",
   "pygments_lexer": "ipython3",
   "version": "3.8.15"
  }
 },
 "nbformat": 4,
 "nbformat_minor": 5
}
