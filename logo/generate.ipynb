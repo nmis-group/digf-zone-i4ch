{
 "cells": [
  {
   "cell_type": "code",
   "execution_count": 4,
   "id": "79b44406-beaf-488e-8893-517ec725f422",
   "metadata": {},
   "outputs": [],
   "source": [
    "import matplotlib.pyplot as plt\n",
    "import matplotlib.patches as mpatches"
   ]
  },
  {
   "cell_type": "code",
   "execution_count": 2,
   "id": "b4e198de-a7bd-4503-8170-c6cd8a857018",
   "metadata": {},
   "outputs": [],
   "source": [
    "nmis_cp = ['#00294b',\n",
    "           '#368dbc',\n",
    "           '#009fe3',\n",
    "           '#8ec79a',\n",
    "           '#ffcc00',\n",
    "           '#ec6608',\n",
    "           '#d83569',\n",
    "           '#6f3f81']"
   ]
  },
  {
   "cell_type": "code",
   "execution_count": null,
   "id": "bbd4a527-f296-4c6f-b7d8-d333b5101a6e",
   "metadata": {},
   "outputs": [],
   "source": [
    "oct0 = mpatches.RegularPolygon((50,50), 8, 30)"
   ]
  }
 ],
 "metadata": {
  "kernelspec": {
   "display_name": "Python 3 (ipykernel)",
   "language": "python",
   "name": "python3"
  },
  "language_info": {
   "codemirror_mode": {
    "name": "ipython",
    "version": 3
   },
   "file_extension": ".py",
   "mimetype": "text/x-python",
   "name": "python",
   "nbconvert_exporter": "python",
   "pygments_lexer": "ipython3",
   "version": "3.9.12"
  }
 },
 "nbformat": 4,
 "nbformat_minor": 5
}
