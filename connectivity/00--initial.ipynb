{
 "cells": [
  {
   "cell_type": "code",
   "execution_count": 3,
   "id": "190603ab-2b64-437d-8065-a1440a25dcb5",
   "metadata": {},
   "outputs": [],
   "source": [
    "import os\n",
    "import opcua"
   ]
  },
  {
   "cell_type": "code",
   "execution_count": null,
   "id": "5e464a7a-77eb-496d-87b3-2358f8326e20",
   "metadata": {},
   "outputs": [],
   "source": []
  },
  {
   "cell_type": "code",
   "execution_count": 17,
   "id": "99799e50-3c48-4013-ab0e-c38e1df0b2a0",
   "metadata": {},
   "outputs": [],
   "source": [
    "client = opcua.Client(\"http://130.159.75.138:48050\")"
   ]
  },
  {
   "cell_type": "code",
   "execution_count": 18,
   "id": "708dea9a-02cf-401d-a543-9f3757462c21",
   "metadata": {},
   "outputs": [],
   "source": [
    "client.connect()"
   ]
  },
  {
   "cell_type": "code",
   "execution_count": 19,
   "id": "9f355180-8e67-4cf6-b9cf-e1eca12ad685",
   "metadata": {},
   "outputs": [
    {
     "data": {
      "text/plain": [
       "['http://opcfoundation.org/UA/',\n",
       " 'urn:BeckhoffAutomation:TcOpcUaGateway',\n",
       " 'http://opcfoundation.org/UA/DI/',\n",
       " 'http://unifiedautomation.com/Configuration/',\n",
       " 'http://unifiedautomation.com/TagFile/']"
      ]
     },
     "execution_count": 19,
     "metadata": {},
     "output_type": "execute_result"
    }
   ],
   "source": [
    "client.get_namespace_array()"
   ]
  },
  {
   "cell_type": "code",
   "execution_count": null,
   "id": "e57972d8-0b85-4bad-9245-6b970b294d7c",
   "metadata": {},
   "outputs": [],
   "source": []
  }
 ],
 "metadata": {
  "kernelspec": {
   "display_name": "Python 3 (ipykernel)",
   "language": "python",
   "name": "python3"
  },
  "language_info": {
   "codemirror_mode": {
    "name": "ipython",
    "version": 3
   },
   "file_extension": ".py",
   "mimetype": "text/x-python",
   "name": "python",
   "nbconvert_exporter": "python",
   "pygments_lexer": "ipython3",
   "version": "3.9.12"
  }
 },
 "nbformat": 4,
 "nbformat_minor": 5
}
