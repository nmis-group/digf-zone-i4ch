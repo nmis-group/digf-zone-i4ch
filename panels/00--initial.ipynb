{
 "cells": [
  {
   "cell_type": "code",
   "execution_count": 2,
   "id": "b87dc641-274b-4685-9ae2-644b5a2f12a0",
   "metadata": {},
   "outputs": [],
   "source": [
    "import panel"
   ]
  },
  {
   "cell_type": "code",
   "execution_count": null,
   "id": "30f72e6c-8f2e-4a38-9c45-e8e334c6da6e",
   "metadata": {},
   "outputs": [],
   "source": []
  }
 ],
 "metadata": {
  "kernelspec": {
   "display_name": "Python 3 (ipykernel)",
   "language": "python",
   "name": "python3"
  },
  "language_info": {
   "codemirror_mode": {
    "name": "ipython",
    "version": 3
   },
   "file_extension": ".py",
   "mimetype": "text/x-python",
   "name": "python",
   "nbconvert_exporter": "python",
   "pygments_lexer": "ipython3",
   "version": "3.9.12"
  }
 },
 "nbformat": 4,
 "nbformat_minor": 5
}
