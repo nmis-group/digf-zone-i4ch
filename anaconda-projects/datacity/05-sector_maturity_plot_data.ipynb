{
 "cells": [
  {
   "cell_type": "code",
   "execution_count": null,
   "id": "74434cae-6385-49b6-ae84-0a177716e2cd",
   "metadata": {},
   "outputs": [],
   "source": [
    "#import required packages\n",
    "import pandas as pd\n",
    "import numpy as np\n",
    "import holoviews as hv\n",
    "import hvplot.pandas\n",
    "import panel as pn\n",
    "import plotly.express as px\n",
    "import plot_functions as pf\n",
    "\n",
    "from bokeh.models.formatters import NumeralTickFormatter\n",
    "formatter = NumeralTickFormatter(format=\"0,0\")"
   ]
  },
  {
   "cell_type": "code",
   "execution_count": null,
   "id": "9a9c7657-6214-4eaf-9eb2-abbfa278e5db",
   "metadata": {},
   "outputs": [],
   "source": [
    "# Read processed data\n",
    "scot_mfg_df = pd.read_pickle('interim/scot_adv_mfg_df.pkl')\n",
    "scot_mfg_df.rename(columns = {\"TotalDealroomFundingMillionEuros\":\"DealroomFunding\"}, inplace = True)\n",
    "scot_mfg_df['DealroomFunding'] = scot_mfg_df['DealroomFunding'].replace(np.nan, 0)\n"
   ]
  },
  {
   "cell_type": "code",
   "execution_count": null,
   "id": "d853fd7c-b202-442f-9fd2-8ac94c435bd7",
   "metadata": {},
   "outputs": [],
   "source": [
    "\n",
    "df_rtics = pd.DataFrame({})\n",
    "cols =['Robotics and Automation','Forging','Forming','Computer Aided Manufacturing','Prototyping',\n",
    "       'Photonics','Digital Twins','Digital Design','Mixed Reality','Renewables']\n",
    "for col in cols:\n",
    "\n",
    "    data = scot_mfg_df[\"RTICsubsectors\"].str.contains(col)\n",
    "    #data=scot_mfg_df[\"RTICsubsectors\"].isin(cols)\n",
    "    #data = scot_mfg_df['RTICsubsectors'].str.split(',').explode().isin([col]).groupby(level=0).any()\n",
    "\n",
    "    df = scot_mfg_df[data]\n",
    "\n",
    "    df = scot_mfg_df[data].where(scot_mfg_df[\"BestEstimateEmployees\"]>0)\n",
    "    df = df.dropna(subset=['BestEstimateEmployees'])\n",
    "    df.reset_index(drop=True, inplace=True)\n",
    "\n",
    "    s = pd.Series(np.tile([col], len(df)))\n",
    "    df['RTIC'] = s\n",
    "\n",
    "    df['yearly growth rate'] = ((df.Turnover_2017-df.Turnover_2016)+(df.Turnover_2018-df.Turnover_2017)+(df.Turnover_2019-df.Turnover_2018)+(df.Turnover_2020-df.Turnover_2019))/df.BestEstimateTurnover    \n",
    "    df_rtics = pd.concat([df_rtics, df])\n",
    "\n",
    "df_rtics.reset_index(drop=True, inplace=True)\n",
    "df_rtics"
   ]
  },
  {
   "cell_type": "code",
   "execution_count": null,
   "id": "c08490f6-3e04-490a-9eb5-01ff48773f2e",
   "metadata": {},
   "outputs": [],
   "source": [
    "process_df2 = df_rtics.mask(df_rtics[\"BestEstimateGrowthPercentagePerYear\"]==0)\n",
    "process_df2['Incorporation Year']= pd.to_datetime(df_rtics.IncorporationDate).dt.year\n",
    "process_df2.rename(columns = {\"BestEstimateGrowthPercentagePerYear\":\"Growth Per Year\"}, inplace = True)\n",
    "process_df2 = process_df2.dropna(subset=['Growth Per Year'])\n",
    "process_df2.reset_index(drop=True, inplace=True)\n",
    "\n",
    "def plot_scatter():\n",
    "    \n",
    "    fig_a = process_df2.hvplot(x='Incorporation Year', y='Growth Per Year', by='RTIC', kind='scatter', alpha=0.6, persist=True\n",
    "                       ,ylim=[-1,1],width = 1600,height = 600, hover_cols=['Companyname', 'RTICsubsectors'])\n",
    "    return fig_a"
   ]
  },
  {
   "cell_type": "code",
   "execution_count": null,
   "id": "47dcb06d-8919-43a4-a9ac-e8a1b7f983d3",
   "metadata": {},
   "outputs": [],
   "source": [
    "def sub_plot_scatter():\n",
    "    fig_b = process_df2.hvplot(x='Incorporation Year', y='Growth Per Year', by='RTIC', kind='scatter',\n",
    "                   ylim=[-1,1],subplots=True,width = 400,height = 300, hover_cols=['Companyname', 'RTICsubsectors'])\n",
    "    return fig_b"
   ]
  },
  {
   "cell_type": "code",
   "execution_count": null,
   "id": "21990305-30ca-4ed6-a681-7eb3a5186cb5",
   "metadata": {},
   "outputs": [],
   "source": [
    "# Plot total count for each sector and cumulative percentage\n",
    "db_explanation_pane = pn.pane.Markdown(\"\"\"\n",
    "# Incorporation Year vs. growth per year\n",
    "\"\"\", width=500)\n",
    "#count_db_size_chart_interact = pn.interact(counts_sector)\n",
    "#plot_together = pn.Row(plot_scatter,sub_plot_scatter )\n",
    "count_db_size_layout = pn.Column(db_explanation_pane, plot_scatter)\n",
    "db_size_layout = pn.Column(count_db_size_layout, sub_plot_scatter)\n",
    "db_size_layout.servable()"
   ]
  },
  {
   "cell_type": "code",
   "execution_count": null,
   "id": "066301fd-0665-44ee-9422-01f034effe8a",
   "metadata": {},
   "outputs": [],
   "source": [
    "def plot_bar_chart():    \n",
    "    c3_df = pd.DataFrame({})\n",
    "    c3_df['growth rate (mean)'] = process_df2.groupby('RTIC').agg({\"Growth Per Year\": \"mean\"})\n",
    "    c3_df['growth rate (std)'] = process_df2.groupby('RTIC').agg({\"Growth Per Year\": np.std})\n",
    "    c3_df = c3_df.sort_values(by='growth rate (mean)', ascending = True)\n",
    "    fig_c = c3_df.hvplot.bar(height=600, width=1600, rot=75)\n",
    "    \n",
    "    return fig_c"
   ]
  },
  {
   "cell_type": "code",
   "execution_count": null,
   "id": "e8bcb08e-c79d-476c-968c-e55c2e8d86f5",
   "metadata": {},
   "outputs": [],
   "source": [
    "# Plot total count for each sector and cumulative percentage\n",
    "db_explanation_pane = pn.pane.Markdown(\"\"\"\n",
    "# Growth rate\n",
    "\"\"\", width=200)\n",
    "#count_db_size_chart_interact = pn.interact(counts_sector)\n",
    "#plot_together = pn.Row(plot_scatter,sub_plot_scatter )\n",
    "layout = pn.Column(db_explanation_pane, plot_bar_chart)\n",
    "layout.servable()"
   ]
  },
  {
   "cell_type": "code",
   "execution_count": null,
   "id": "64466417-53d8-4397-9b55-d4fc4a3956cf",
   "metadata": {},
   "outputs": [],
   "source": [
    "# Used defined colormap\n",
    "s='''\n",
    "    red, yellow, darkmagenta,orange,\n",
    "    magenta,blue,\n",
    "    greenyellow, cyan, indianred, indigo,\n",
    "    darkgoldenrod, darkgreen, orange, darkolivegreen, darkorange,\n",
    "    darkorchid, darkred, darksalmon, hotpink\n",
    "    '''\n",
    "colours = s.split(',')\n",
    "colours = [c.replace('\\n','') for c in colours]\n",
    "colours = [c.replace(' ','') for c in colours]\n",
    "colour_map = {rtics:c for rtics,c in zip(set(df_rtics.RTIC), colours)}\n",
    "colour_map"
   ]
  },
  {
   "cell_type": "code",
   "execution_count": null,
   "id": "d836b047-9c61-4f65-9980-d1c284f6c6b2",
   "metadata": {},
   "outputs": [],
   "source": [
    "pn.extension('plotly')\n",
    "#Plot estimate turnover of all the recorded companies w.r.t location\n",
    "rev_geog_pane = pn.pane.Markdown(\"\"\"\n",
    "# Registered Location\n",
    "\"\"\", width=1000)\n",
    "\n",
    "rev_geog_fig = px.scatter_mapbox(df_rtics, lat=\"latitude\", lon=\"longitude\", color=df_rtics.RTIC, color_discrete_map=colour_map, \n",
    "                                     mapbox_style='open-street-map',hover_name='Companyname', hover_data=['BestEstimateTurnover'], \n",
    "                                     zoom = 8, height=1200, width=1200)\n",
    "                                    \n",
    "rev_geog_fig_pane = pn.pane.Plotly(rev_geog_fig)\n",
    "rev_geog_layout = pn.Column(rev_geog_pane, rev_geog_fig_pane)\n",
    "rev_geog_layout.servable()"
   ]
  },
  {
   "cell_type": "code",
   "execution_count": null,
   "id": "5823e9c2-dad3-4b83-bbc0-5465e924cf06",
   "metadata": {},
   "outputs": [],
   "source": []
  }
 ],
 "metadata": {
  "kernelspec": {
   "display_name": "Python 3 (ipykernel)",
   "language": "python",
   "name": "python3"
  },
  "language_info": {
   "codemirror_mode": {
    "name": "ipython",
    "version": 3
   },
   "file_extension": ".py",
   "mimetype": "text/x-python",
   "name": "python",
   "nbconvert_exporter": "python",
   "pygments_lexer": "ipython3",
   "version": "3.8.16"
  }
 },
 "nbformat": 4,
 "nbformat_minor": 5
}
