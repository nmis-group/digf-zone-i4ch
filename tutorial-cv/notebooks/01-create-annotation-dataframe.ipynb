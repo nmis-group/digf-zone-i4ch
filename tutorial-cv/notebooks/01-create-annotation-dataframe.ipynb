{
 "cells": [
  {
   "cell_type": "code",
   "execution_count": 12,
   "metadata": {},
   "outputs": [],
   "source": [
    "%reload_ext autoreload\n",
    "%autoreload 2\n",
    "%matplotlib inline"
   ]
  },
  {
   "cell_type": "code",
   "execution_count": 13,
   "metadata": {},
   "outputs": [],
   "source": [
    "import sys\n",
    "sys.path.append('../src/data')\n",
    "from utils import *"
   ]
  },
  {
   "cell_type": "code",
   "execution_count": 14,
   "metadata": {},
   "outputs": [
    {
     "name": "stdout",
     "output_type": "stream",
     "text": [
      "/home/jovyan/work/COREF/src/Bolt_Detection/Training_Data/exported-labels/img-all/Annotations\n"
     ]
    }
   ],
   "source": [
    "root_img = '../data/raw/'\n",
    "root_annotation = '../data/processed/img-all/Annotations/'\n",
    "\n",
    "df = generate_df(root_annotation, root_img)"
   ]
  },
  {
   "cell_type": "code",
   "execution_count": 15,
   "metadata": {},
   "outputs": [
    {
     "data": {
      "text/html": [
       "<div>\n",
       "<style scoped>\n",
       "    .dataframe tbody tr th:only-of-type {\n",
       "        vertical-align: middle;\n",
       "    }\n",
       "\n",
       "    .dataframe tbody tr th {\n",
       "        vertical-align: top;\n",
       "    }\n",
       "\n",
       "    .dataframe thead th {\n",
       "        text-align: right;\n",
       "    }\n",
       "</style>\n",
       "<table border=\"1\" class=\"dataframe\">\n",
       "  <thead>\n",
       "    <tr style=\"text-align: right;\">\n",
       "      <th></th>\n",
       "      <th>filename</th>\n",
       "      <th>width</th>\n",
       "      <th>height</th>\n",
       "      <th>class</th>\n",
       "      <th>bboxes</th>\n",
       "    </tr>\n",
       "  </thead>\n",
       "  <tbody>\n",
       "    <tr>\n",
       "      <th>0</th>\n",
       "      <td>/home/jovyan/work/COREF/src/Bolt_Detection/Tra...</td>\n",
       "      <td>4032</td>\n",
       "      <td>3024</td>\n",
       "      <td>Bolt</td>\n",
       "      <td>[[3605, 883, 3800, 1077], [1699, 364, 1893, 55...</td>\n",
       "    </tr>\n",
       "    <tr>\n",
       "      <th>1</th>\n",
       "      <td>/home/jovyan/work/COREF/src/Bolt_Detection/Tra...</td>\n",
       "      <td>4032</td>\n",
       "      <td>3024</td>\n",
       "      <td>Bolt</td>\n",
       "      <td>[[431, 2375, 626, 2570]]</td>\n",
       "    </tr>\n",
       "    <tr>\n",
       "      <th>2</th>\n",
       "      <td>/home/jovyan/work/COREF/src/Bolt_Detection/Tra...</td>\n",
       "      <td>1512</td>\n",
       "      <td>2016</td>\n",
       "      <td>Bolt</td>\n",
       "      <td>[[904, 1783, 1003, 1886], [188, 117, 292, 210]...</td>\n",
       "    </tr>\n",
       "    <tr>\n",
       "      <th>3</th>\n",
       "      <td>/home/jovyan/work/COREF/src/Bolt_Detection/Tra...</td>\n",
       "      <td>4032</td>\n",
       "      <td>3024</td>\n",
       "      <td>Bolt</td>\n",
       "      <td>[[3480, 2385, 3680, 2580]]</td>\n",
       "    </tr>\n",
       "    <tr>\n",
       "      <th>4</th>\n",
       "      <td>/home/jovyan/work/COREF/src/Bolt_Detection/Tra...</td>\n",
       "      <td>1512</td>\n",
       "      <td>2016</td>\n",
       "      <td>Bolt</td>\n",
       "      <td>[[248, 1227, 348, 1327], [1263, 153, 1363, 256...</td>\n",
       "    </tr>\n",
       "  </tbody>\n",
       "</table>\n",
       "</div>"
      ],
      "text/plain": [
       "                                            filename width height class  \\\n",
       "0  /home/jovyan/work/COREF/src/Bolt_Detection/Tra...  4032   3024  Bolt   \n",
       "1  /home/jovyan/work/COREF/src/Bolt_Detection/Tra...  4032   3024  Bolt   \n",
       "2  /home/jovyan/work/COREF/src/Bolt_Detection/Tra...  1512   2016  Bolt   \n",
       "3  /home/jovyan/work/COREF/src/Bolt_Detection/Tra...  4032   3024  Bolt   \n",
       "4  /home/jovyan/work/COREF/src/Bolt_Detection/Tra...  1512   2016  Bolt   \n",
       "\n",
       "                                              bboxes  \n",
       "0  [[3605, 883, 3800, 1077], [1699, 364, 1893, 55...  \n",
       "1                           [[431, 2375, 626, 2570]]  \n",
       "2  [[904, 1783, 1003, 1886], [188, 117, 292, 210]...  \n",
       "3                         [[3480, 2385, 3680, 2580]]  \n",
       "4  [[248, 1227, 348, 1327], [1263, 153, 1363, 256...  "
      ]
     },
     "execution_count": 15,
     "metadata": {},
     "output_type": "execute_result"
    }
   ],
   "source": [
    "df.head()"
   ]
  },
  {
   "cell_type": "code",
   "execution_count": 16,
   "metadata": {},
   "outputs": [],
   "source": [
    "df = df.dropna()"
   ]
  },
  {
   "cell_type": "code",
   "execution_count": 17,
   "metadata": {},
   "outputs": [],
   "source": [
    "df = df.reset_index(drop=True)"
   ]
  },
  {
   "cell_type": "code",
   "execution_count": 18,
   "metadata": {},
   "outputs": [
    {
     "data": {
      "text/plain": [
       "179"
      ]
     },
     "execution_count": 18,
     "metadata": {},
     "output_type": "execute_result"
    }
   ],
   "source": [
    "len(df)"
   ]
  },
  {
   "cell_type": "code",
   "execution_count": 23,
   "metadata": {},
   "outputs": [],
   "source": [
    "# Hard code for split function. When the files stored within different directory with '_', it will have different number.\n",
    "def bolts_count(x):\n",
    "    \n",
    "    return int(str(x).split('_')[1])"
   ]
  },
  {
   "cell_type": "code",
   "execution_count": 24,
   "metadata": {},
   "outputs": [],
   "source": [
    "df['total_bolts'] = df.filename.apply(bolts_count)"
   ]
  },
  {
   "cell_type": "code",
   "execution_count": 25,
   "metadata": {},
   "outputs": [
    {
     "data": {
      "text/html": [
       "<div>\n",
       "<style scoped>\n",
       "    .dataframe tbody tr th:only-of-type {\n",
       "        vertical-align: middle;\n",
       "    }\n",
       "\n",
       "    .dataframe tbody tr th {\n",
       "        vertical-align: top;\n",
       "    }\n",
       "\n",
       "    .dataframe thead th {\n",
       "        text-align: right;\n",
       "    }\n",
       "</style>\n",
       "<table border=\"1\" class=\"dataframe\">\n",
       "  <thead>\n",
       "    <tr style=\"text-align: right;\">\n",
       "      <th></th>\n",
       "      <th>filename</th>\n",
       "      <th>width</th>\n",
       "      <th>height</th>\n",
       "      <th>class</th>\n",
       "      <th>bboxes</th>\n",
       "      <th>total_bolts</th>\n",
       "    </tr>\n",
       "  </thead>\n",
       "  <tbody>\n",
       "    <tr>\n",
       "      <th>0</th>\n",
       "      <td>/home/jovyan/work/COREF/src/Bolt_Detection/Tra...</td>\n",
       "      <td>4032</td>\n",
       "      <td>3024</td>\n",
       "      <td>Bolt</td>\n",
       "      <td>[[3605, 883, 3800, 1077], [1699, 364, 1893, 55...</td>\n",
       "      <td>10</td>\n",
       "    </tr>\n",
       "    <tr>\n",
       "      <th>1</th>\n",
       "      <td>/home/jovyan/work/COREF/src/Bolt_Detection/Tra...</td>\n",
       "      <td>4032</td>\n",
       "      <td>3024</td>\n",
       "      <td>Bolt</td>\n",
       "      <td>[[431, 2375, 626, 2570]]</td>\n",
       "      <td>1</td>\n",
       "    </tr>\n",
       "    <tr>\n",
       "      <th>2</th>\n",
       "      <td>/home/jovyan/work/COREF/src/Bolt_Detection/Tra...</td>\n",
       "      <td>1512</td>\n",
       "      <td>2016</td>\n",
       "      <td>Bolt</td>\n",
       "      <td>[[904, 1783, 1003, 1886], [188, 117, 292, 210]...</td>\n",
       "      <td>8</td>\n",
       "    </tr>\n",
       "    <tr>\n",
       "      <th>3</th>\n",
       "      <td>/home/jovyan/work/COREF/src/Bolt_Detection/Tra...</td>\n",
       "      <td>4032</td>\n",
       "      <td>3024</td>\n",
       "      <td>Bolt</td>\n",
       "      <td>[[3480, 2385, 3680, 2580]]</td>\n",
       "      <td>1</td>\n",
       "    </tr>\n",
       "    <tr>\n",
       "      <th>4</th>\n",
       "      <td>/home/jovyan/work/COREF/src/Bolt_Detection/Tra...</td>\n",
       "      <td>1512</td>\n",
       "      <td>2016</td>\n",
       "      <td>Bolt</td>\n",
       "      <td>[[248, 1227, 348, 1327], [1263, 153, 1363, 256...</td>\n",
       "      <td>3</td>\n",
       "    </tr>\n",
       "  </tbody>\n",
       "</table>\n",
       "</div>"
      ],
      "text/plain": [
       "                                            filename width height class  \\\n",
       "0  /home/jovyan/work/COREF/src/Bolt_Detection/Tra...  4032   3024  Bolt   \n",
       "1  /home/jovyan/work/COREF/src/Bolt_Detection/Tra...  4032   3024  Bolt   \n",
       "2  /home/jovyan/work/COREF/src/Bolt_Detection/Tra...  1512   2016  Bolt   \n",
       "3  /home/jovyan/work/COREF/src/Bolt_Detection/Tra...  4032   3024  Bolt   \n",
       "4  /home/jovyan/work/COREF/src/Bolt_Detection/Tra...  1512   2016  Bolt   \n",
       "\n",
       "                                              bboxes  total_bolts  \n",
       "0  [[3605, 883, 3800, 1077], [1699, 364, 1893, 55...           10  \n",
       "1                           [[431, 2375, 626, 2570]]            1  \n",
       "2  [[904, 1783, 1003, 1886], [188, 117, 292, 210]...            8  \n",
       "3                         [[3480, 2385, 3680, 2580]]            1  \n",
       "4  [[248, 1227, 348, 1327], [1263, 153, 1363, 256...            3  "
      ]
     },
     "execution_count": 25,
     "metadata": {},
     "output_type": "execute_result"
    }
   ],
   "source": [
    "df.head()"
   ]
  },
  {
   "cell_type": "code",
   "execution_count": 26,
   "metadata": {},
   "outputs": [],
   "source": [
    "df.to_csv('../../work/interim/dataset.csv', index=False)"
   ]
  },
  {
   "cell_type": "code",
   "execution_count": null,
   "metadata": {},
   "outputs": [],
   "source": []
  },
  {
   "cell_type": "code",
   "execution_count": null,
   "metadata": {},
   "outputs": [],
   "source": []
  }
 ],
 "metadata": {
  "kernelspec": {
   "display_name": "Python 3 (ipykernel)",
   "language": "python",
   "name": "python3"
  },
  "language_info": {
   "codemirror_mode": {
    "name": "ipython",
    "version": 3
   },
   "file_extension": ".py",
   "mimetype": "text/x-python",
   "name": "python",
   "nbconvert_exporter": "python",
   "pygments_lexer": "ipython3",
   "version": "3.9.12"
  }
 },
 "nbformat": 4,
 "nbformat_minor": 4
}
