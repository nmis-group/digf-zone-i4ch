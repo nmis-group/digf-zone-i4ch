{
 "cells": [
  {
   "cell_type": "code",
   "execution_count": 44,
   "id": "190603ab-2b64-437d-8065-a1440a25dcb5",
   "metadata": {},
   "outputs": [],
   "source": [
    "import sys\n",
    "import time\n",
    "import logging\n",
    "import os\n",
    "import opcua"
   ]
  },
  {
   "cell_type": "code",
   "execution_count": 38,
   "id": "7a100bed-52cd-4783-9636-3562f3b1968e",
   "metadata": {},
   "outputs": [],
   "source": [
    "# url = \"opc.tcp://130.159.75.138:48050\"\n",
    "# url = \"opc.tcp://CX-696B93:4840\"\n",
    "url = \"opc.tcp://130.159.75.138:4840\""
   ]
  },
  {
   "cell_type": "code",
   "execution_count": 39,
   "id": "19e89b8e-2682-4468-baad-f2a24312cdd3",
   "metadata": {},
   "outputs": [],
   "source": [
    "client = opcua.Client(url = url)\n",
    "client.set_user(username = 'Administrator')\n",
    "client.set_password(pwd = '*500TPress*')\n",
    "client.connect()"
   ]
  },
  {
   "cell_type": "code",
   "execution_count": 40,
   "id": "ab033490-1845-4c34-b8df-5dedce6f3342",
   "metadata": {},
   "outputs": [
    {
     "data": {
      "text/plain": [
       "19.8"
      ]
     },
     "execution_count": 40,
     "metadata": {},
     "output_type": "execute_result"
    }
   ],
   "source": [
    "p = client.get_node(\"ns=4;s=GVL_Analog_Engineering_Units.lrEL3202_1_Ambient_Temperature_Front\")\n",
    "var = p.get_data_value()\n",
    "var.Value.Value"
   ]
  },
  {
   "cell_type": "code",
   "execution_count": 41,
   "id": "4fc886e2-c71f-49ac-8e87-614352eae249",
   "metadata": {},
   "outputs": [],
   "source": [
    "nodeid_list = [\"ns=4;s=GVL_OPTO22.Press_Position\",\n",
    "               \"ns=4;s=GVL_OPTO22.Main_Cylinder_Pressure\",\n",
    "               \"ns=4;s=GVL_OPTO22.Bottom_Die_Temperature\",\n",
    "               \"ns=4;s=GVL_OPTO22.Top_Die_Temperature\",\n",
    "               \"ns=4;s=GVL_OPTO22.Bottom_Die_Heater_Power_Demand\",\n",
    "               \"ns=4;s=GVL_OPTO22.Top_Die_Heater_Power_Demand\",\n",
    "               \"ns=4;s=GVL_OPTO22.Pump_Pressure_Demand\",\n",
    "               \"ns=4;s=GVL_OPTO22.Pump_Flow_Demand\",\n",
    "               \"ns=4;s=GVL_Analog_Engineering_Units.lrEL3202_1_Ambient_Temperature_Front\",\n",
    "               \"ns=4;s=GVL_Analog_Engineering_Units.lrEL3202_2_Ambient_Temperature_Back\",\n",
    "               \"ns=4;s=GVL_Analog_Engineering_Units.nEL3318_1_Engineering_Unit\",\n",
    "               \"ns=4;s=GVL_Analog_Engineering_Units.nEL3318_2_Engineering_Unit\",\n",
    "               \"ns=4;s=GVL_Analog_Engineering_Units.nEL3318_3_Engineering_Unit\",\n",
    "               \"ns=4;s=GVL_Analog_Engineering_Units.nEL3318_4_Engineering_Unit\",\n",
    "               \"ns=4;s=GVL_Analog_Engineering_Units.nEL3318_5_Engineering_Unit\",\n",
    "               \"ns=4;s=GVL_Analog_Engineering_Units.nEL3318_6_Engineering_Unit\",\n",
    "               \"ns=4;s=GVL_Analog_Engineering_Units.nEL3318_7_Engineering_Unit\",\n",
    "               \"ns=4;s=GVL_Analog_Engineering_Units.nEL3318_8_Engineering_Unit\",\n",
    "               \"ns=4;s=GVL_Analog_Engineering_Units.rTotal_KW_MainsIncomer\"]"
   ]
  },
  {
   "cell_type": "code",
   "execution_count": 42,
   "id": "4474ff8f-e607-4107-bee8-cd3ada2198a5",
   "metadata": {},
   "outputs": [],
   "source": [
    "nodeid_ua = [client.get_node(nodeid) for nodeid in nodeid_list]"
   ]
  },
  {
   "cell_type": "code",
   "execution_count": 43,
   "id": "6cf96c85-0da4-4e9a-ae0b-b996b6240025",
   "metadata": {},
   "outputs": [
    {
     "data": {
      "text/plain": [
       "[147.39999389648438,\n",
       " -0.29998779296875,\n",
       " 20.557220458984375,\n",
       " 20.944107055664062,\n",
       " 0.0,\n",
       " 0.0,\n",
       " 0.0,\n",
       " 0.0,\n",
       " 19.8,\n",
       " 19.5,\n",
       " 20.799999237060547,\n",
       " 1372.0,\n",
       " 1372.0,\n",
       " 1372.0,\n",
       " 1372.0,\n",
       " 1372.0,\n",
       " 1372.0,\n",
       " 24.200000762939453,\n",
       " 58.45683670043945]"
      ]
     },
     "execution_count": 43,
     "metadata": {},
     "output_type": "execute_result"
    }
   ],
   "source": [
    "node_vals = client.get_values(nodeid_ua)\n",
    "node_vals"
   ]
  },
  {
   "cell_type": "code",
   "execution_count": 30,
   "id": "408019a2-e2bd-476e-9779-f7aff79e9b98",
   "metadata": {},
   "outputs": [
    {
     "data": {
      "text/plain": [
       "[147.39999389648438,\n",
       " -0.33001708984375,\n",
       " 20.557220458984375,\n",
       " 20.944107055664062,\n",
       " 0.0,\n",
       " 0.0,\n",
       " 0.0,\n",
       " 0.0,\n",
       " 19.8,\n",
       " 19.4,\n",
       " 20.600000381469727,\n",
       " 1372.0,\n",
       " 1372.0,\n",
       " 1372.0,\n",
       " 1372.0,\n",
       " 1372.0,\n",
       " 1372.0,\n",
       " 24.200000762939453,\n",
       " 58.45302963256836]"
      ]
     },
     "execution_count": 30,
     "metadata": {},
     "output_type": "execute_result"
    }
   ],
   "source": [
    "while i < 500\n",
    "        start = time.time()\n",
    "        print(i)\n",
    "        stop = time.time()\n",
    "        print(stop-start)\n",
    "        i+"
   ]
  },
  {
   "cell_type": "code",
   "execution_count": 22,
   "id": "2ddad891-9cf6-45a8-8d31-4ec7b6f7ad2c",
   "metadata": {},
   "outputs": [
    {
     "ename": "TypeError",
     "evalue": "'Node' object is not iterable",
     "output_type": "error",
     "traceback": [
      "\u001b[0;31m---------------------------------------------------------------------------\u001b[0m",
      "\u001b[0;31mTypeError\u001b[0m                                 Traceback (most recent call last)",
      "Input \u001b[0;32mIn [22]\u001b[0m, in \u001b[0;36m<cell line: 3>\u001b[0;34m()\u001b[0m\n\u001b[1;32m      1\u001b[0m temp \u001b[38;5;241m=\u001b[39m opcua\u001b[38;5;241m.\u001b[39mNode(client, \u001b[38;5;124m\"\u001b[39m\u001b[38;5;124mns=4;s=GVL_Analog_Engineering_Units.lrEL3202_1_Ambient_Temperature_Front\u001b[39m\u001b[38;5;124m\"\u001b[39m)\n\u001b[0;32m----> 3\u001b[0m m \u001b[38;5;241m=\u001b[39m \u001b[43mclient\u001b[49m\u001b[38;5;241;43m.\u001b[39;49m\u001b[43mget_values\u001b[49m\u001b[43m(\u001b[49m\u001b[43mtemp\u001b[49m\u001b[43m)\u001b[49m\n",
      "File \u001b[0;32m/opt/anaconda/anaconda3/lib/python3.9/site-packages/opcua/client/client.py:662\u001b[0m, in \u001b[0;36mClient.get_values\u001b[0;34m(self, nodes)\u001b[0m\n\u001b[1;32m    658\u001b[0m \u001b[38;5;28;01mdef\u001b[39;00m \u001b[38;5;21mget_values\u001b[39m(\u001b[38;5;28mself\u001b[39m, nodes):\n\u001b[1;32m    659\u001b[0m     \u001b[38;5;124;03m\"\"\"\u001b[39;00m\n\u001b[1;32m    660\u001b[0m \u001b[38;5;124;03m    Read the value of multiple nodes in one roundtrip.\u001b[39;00m\n\u001b[1;32m    661\u001b[0m \u001b[38;5;124;03m    \"\"\"\u001b[39;00m\n\u001b[0;32m--> 662\u001b[0m     nodes \u001b[38;5;241m=\u001b[39m [node\u001b[38;5;241m.\u001b[39mnodeid \u001b[38;5;28;01mfor\u001b[39;00m node \u001b[38;5;129;01min\u001b[39;00m nodes]\n\u001b[1;32m    663\u001b[0m     results \u001b[38;5;241m=\u001b[39m \u001b[38;5;28mself\u001b[39m\u001b[38;5;241m.\u001b[39muaclient\u001b[38;5;241m.\u001b[39mget_attributes(nodes, ua\u001b[38;5;241m.\u001b[39mAttributeIds\u001b[38;5;241m.\u001b[39mValue)\n\u001b[1;32m    664\u001b[0m     \u001b[38;5;28;01mreturn\u001b[39;00m [result\u001b[38;5;241m.\u001b[39mValue\u001b[38;5;241m.\u001b[39mValue \u001b[38;5;28;01mfor\u001b[39;00m result \u001b[38;5;129;01min\u001b[39;00m results]\n",
      "\u001b[0;31mTypeError\u001b[0m: 'Node' object is not iterable"
     ]
    }
   ],
   "source": [
    "\n",
    "\n",
    "\n",
    "temp = opcua.Node(client, \"ns=4;s=GVL_Analog_Engineering_Units.lrEL3202_1_Ambient_Temperature_Front\")\n",
    "\n",
    "m = client.get_values(temp)"
   ]
  },
  {
   "cell_type": "code",
   "execution_count": null,
   "id": "c2ec6f3f-1b95-4503-bf16-ad8579438463",
   "metadata": {},
   "outputs": [],
   "source": []
  },
  {
   "cell_type": "code",
   "execution_count": null,
   "id": "680b5718-4a17-4afa-8aa9-c81bd3ae69fb",
   "metadata": {},
   "outputs": [],
   "source": []
  },
  {
   "cell_type": "code",
   "execution_count": 15,
   "id": "259c19e6-2268-4dc5-9bfe-9aceb9ad7583",
   "metadata": {},
   "outputs": [
    {
     "data": {
      "text/plain": [
       "Node(TwoByteNodeId(i=84))"
      ]
     },
     "execution_count": 15,
     "metadata": {},
     "output_type": "execute_result"
    }
   ],
   "source": [
    "root = client.get_root_node()\n",
    "root"
   ]
  },
  {
   "cell_type": "code",
   "execution_count": 16,
   "id": "0dca9fc6-8fe2-4a7e-a22c-f90441a5f2d2",
   "metadata": {},
   "outputs": [
    {
     "name": "stdout",
     "output_type": "stream",
     "text": [
      "Root node is: i=84 \n",
      "NodeClass.Object\n",
      "NodeClass.Object\n",
      "NodeClass.Object\n",
      "NodeClass.Variable\n",
      "QualifiedName(0:ServerArray) has value ['urn:CX-696B93:BeckhoffAutomation:TcOpcUaServer:1']\n",
      "NodeClass.Variable\n",
      "QualifiedName(0:NamespaceArray) has value ['http://opcfoundation.org/UA/', 'urn:CX-696B93:BeckhoffAutomation:TcOpcUaServer:1', 'http://opcfoundation.org/UA/DI/', 'http://PLCopen.org/OpcUa/IEC61131-3/', 'urn:BeckhoffAutomation:Ua:PLC1', 'urn:BeckhoffAutomation:Ua:Types:GlobalTypes', 'urn:BeckhoffAutomation:Ua:CM_Unit', 'urn:BeckhoffAutomation:Ua:HA', 'urn:BeckhoffAutomation:Ua:AC', 'http://Beckhoff.com/TwinCAT/TF6100/Server/Configuration']\n",
      "NodeClass.Variable\n",
      "QualifiedName(0:ServerStatus) has value ServerStatusDataType(StartTime:{self.StartTime}, CurrentTime:{self.CurrentTime}, State:{self.State}, BuildInfo:{self.BuildInfo}, SecondsTillShutdown:{self.SecondsTillShutdown}, ShutdownReason:{self.ShutdownReason})\n",
      "NodeClass.Variable\n",
      "QualifiedName(0:ServiceLevel) has value 255\n",
      "NodeClass.Object\n",
      "NodeClass.Object\n",
      "NodeClass.Variable\n",
      "QualifiedName(0:NamespaceUri) has value http://opcfoundation.org/UA/\n",
      "NodeClass.Variable\n",
      "QualifiedName(0:NamespaceVersion) has value 1.04.10\n",
      "NodeClass.Variable\n",
      "QualifiedName(0:NamespacePublicationDate) has value 2021-09-15 00:00:00\n",
      "NodeClass.Variable\n",
      "QualifiedName(0:IsNamespaceSubset) has value True\n",
      "NodeClass.Variable\n",
      "QualifiedName(0:StaticNodeIdTypes) has value [0]\n",
      "NodeClass.Variable\n",
      "QualifiedName(0:StaticNumericNodeIdRange) has value \n",
      "NodeClass.Variable\n",
      "QualifiedName(0:StaticStringNodeIdPattern) has value \n",
      "NodeClass.Object\n",
      "NodeClass.Variable\n",
      "QualifiedName(0:DefaultAccessRestrictions) has value 0\n",
      "NodeClass.Variable\n",
      "QualifiedName(0:DefaultRolePermissions) has value []\n",
      "NodeClass.Variable\n",
      "QualifiedName(0:DefaultUserRolePermissions) has value []\n",
      "NodeClass.Variable\n",
      "QualifiedName(0:IsNamespaceSubset) has value False\n",
      "NodeClass.Variable\n",
      "QualifiedName(0:NamespacePublicationDate) has value 2019-05-01 00:00:00\n",
      "NodeClass.Variable\n",
      "QualifiedName(0:NamespaceUri) has value http://opcfoundation.org/UA/DI/\n",
      "NodeClass.Variable\n",
      "QualifiedName(0:NamespaceVersion) has value 1.02\n",
      "NodeClass.Variable\n",
      "QualifiedName(0:StaticNodeIdTypes) has value []\n",
      "NodeClass.Variable\n",
      "QualifiedName(0:StaticNumericNodeIdRange) has value []\n",
      "NodeClass.Variable\n",
      "QualifiedName(0:StaticStringNodeIdPattern) has value \n",
      "NodeClass.Object\n",
      "NodeClass.Variable\n",
      "QualifiedName(0:IsNamespaceSubset) has value False\n",
      "NodeClass.Variable\n",
      "QualifiedName(0:NamespacePublicationDate) has value 1601-01-01 00:00:00\n",
      "NodeClass.Variable\n",
      "QualifiedName(0:NamespaceUri) has value urn:BeckhoffAutomation:Ua:PLC1\n",
      "NodeClass.Variable\n",
      "QualifiedName(0:NamespaceVersion) has value 1.0\n",
      "NodeClass.Variable\n",
      "QualifiedName(0:StaticNodeIdTypes) has value []\n",
      "NodeClass.Variable\n",
      "QualifiedName(0:StaticNumericNodeIdRange) has value ['0:4294967295']\n",
      "NodeClass.Variable\n",
      "QualifiedName(0:StaticStringNodeIdPattern) has value \n",
      "NodeClass.Object\n",
      "NodeClass.Variable\n",
      "QualifiedName(0:IsNamespaceSubset) has value False\n",
      "NodeClass.Variable\n",
      "QualifiedName(0:NamespacePublicationDate) has value 1601-01-01 00:00:00\n",
      "NodeClass.Variable\n",
      "QualifiedName(0:NamespaceUri) has value urn:BeckhoffAutomation:Ua:CM_Unit\n",
      "NodeClass.Variable\n",
      "QualifiedName(0:NamespaceVersion) has value 1.0\n",
      "NodeClass.Variable\n",
      "QualifiedName(0:StaticNodeIdTypes) has value []\n",
      "NodeClass.Variable\n",
      "QualifiedName(0:StaticNumericNodeIdRange) has value ['0:4294967295']\n",
      "NodeClass.Variable\n",
      "QualifiedName(0:StaticStringNodeIdPattern) has value \n",
      "NodeClass.Object\n",
      "NodeClass.Variable\n",
      "QualifiedName(0:IsNamespaceSubset) has value False\n",
      "NodeClass.Variable\n",
      "QualifiedName(0:NamespacePublicationDate) has value 1601-01-01 00:00:00\n",
      "NodeClass.Variable\n",
      "QualifiedName(0:NamespaceUri) has value urn:BeckhoffAutomation:Ua:HA\n",
      "NodeClass.Variable\n",
      "QualifiedName(0:NamespaceVersion) has value 1.0\n",
      "NodeClass.Variable\n",
      "QualifiedName(0:StaticNodeIdTypes) has value []\n",
      "NodeClass.Variable\n",
      "QualifiedName(0:StaticNumericNodeIdRange) has value []\n",
      "NodeClass.Variable\n",
      "QualifiedName(0:StaticStringNodeIdPattern) has value \n",
      "NodeClass.Object\n",
      "NodeClass.Variable\n",
      "QualifiedName(0:IsNamespaceSubset) has value False\n",
      "NodeClass.Variable\n",
      "QualifiedName(0:NamespacePublicationDate) has value 1601-01-01 00:00:00\n",
      "NodeClass.Variable\n",
      "QualifiedName(0:NamespaceUri) has value urn:BeckhoffAutomation:Ua:AC\n",
      "NodeClass.Variable\n",
      "QualifiedName(0:NamespaceVersion) has value 1.0\n",
      "NodeClass.Variable\n",
      "QualifiedName(0:StaticNodeIdTypes) has value []\n",
      "NodeClass.Variable\n",
      "QualifiedName(0:StaticNumericNodeIdRange) has value []\n",
      "NodeClass.Variable\n",
      "QualifiedName(0:StaticStringNodeIdPattern) has value \n",
      "NodeClass.Object\n",
      "NodeClass.Variable\n",
      "QualifiedName(0:IsNamespaceSubset) has value False\n",
      "NodeClass.Variable\n",
      "QualifiedName(0:NamespacePublicationDate) has value 1601-01-01 00:00:00\n",
      "NodeClass.Variable\n",
      "QualifiedName(0:NamespaceUri) has value http://Beckhoff.com/TwinCAT/TF6100/Server/Configuration\n",
      "NodeClass.Variable\n",
      "QualifiedName(0:NamespaceVersion) has value 1.0\n",
      "NodeClass.Variable\n",
      "QualifiedName(0:StaticNodeIdTypes) has value []\n",
      "NodeClass.Variable\n",
      "QualifiedName(0:StaticNumericNodeIdRange) has value ['0:4294967295']\n",
      "NodeClass.Variable\n",
      "QualifiedName(0:StaticStringNodeIdPattern) has value \n",
      "NodeClass.Variable\n",
      "QualifiedName(0:Auditing) has value False\n",
      "NodeClass.Object\n",
      "NodeClass.Variable\n",
      "QualifiedName(0:ServerProfileArray) has value ['http://opcfoundation.org/UAProfile/Server/StandardUA', 'http://opcfoundation.org/UAProfile/Server/DataAccess', 'http://opcfoundation.org/UAProfile/Server/Methods', 'http://opcfoundation.org/UAProfile/Server/EventSubscription']\n",
      "NodeClass.Variable\n",
      "QualifiedName(0:SoftwareCertificates) has value None\n",
      "NodeClass.Variable\n",
      "QualifiedName(0:LocaleIdArray) has value ['en']\n",
      "NodeClass.Variable\n",
      "QualifiedName(0:MinSupportedSampleRate) has value 0.0\n",
      "NodeClass.Variable\n",
      "QualifiedName(0:MaxBrowseContinuationPoints) has value 10\n",
      "NodeClass.Variable\n",
      "QualifiedName(0:MaxQueryContinuationPoints) has value 0\n",
      "NodeClass.Variable\n",
      "QualifiedName(0:MaxHistoryContinuationPoints) has value 100\n",
      "NodeClass.Object\n",
      "NodeClass.Object\n",
      "NodeClass.Object\n",
      "NodeClass.Object\n",
      "NodeClass.Object\n",
      "NodeClass.Object\n",
      "NodeClass.Object\n",
      "NodeClass.Variable\n",
      "QualifiedName(0:MaxStringLength) has value 65535\n",
      "NodeClass.Variable\n",
      "QualifiedName(0:MaxArrayLength) has value 65535\n",
      "NodeClass.Variable\n",
      "QualifiedName(0:MaxByteStringLength) has value 1048560\n",
      "NodeClass.Object\n",
      "NodeClass.Method\n",
      "NodeClass.Method\n",
      "NodeClass.Object\n",
      "NodeClass.Variable\n"
     ]
    },
    {
     "ename": "BadSecurityModeInsufficient",
     "evalue": "\"The operation is not permitted over the current secure channel.\"(BadSecurityModeInsufficient)",
     "output_type": "error",
     "traceback": [
      "\u001b[0;31m---------------------------------------------------------------------------\u001b[0m",
      "\u001b[0;31mBadSecurityModeInsufficient\u001b[0m               Traceback (most recent call last)",
      "Input \u001b[0;32mIn [16]\u001b[0m, in \u001b[0;36m<cell line: 19>\u001b[0;34m()\u001b[0m\n\u001b[1;32m     16\u001b[0m             \u001b[38;5;28;01mexcept\u001b[39;00m ua\u001b[38;5;241m.\u001b[39muaerrors\u001b[38;5;241m.\u001b[39m_auto\u001b[38;5;241m.\u001b[39mBadWaitingForInitialData:\n\u001b[1;32m     17\u001b[0m                 \u001b[38;5;28;01mpass\u001b[39;00m\n\u001b[0;32m---> 19\u001b[0m \u001b[43mbrowse_recursive\u001b[49m\u001b[43m(\u001b[49m\u001b[43mroot\u001b[49m\u001b[43m)\u001b[49m\n",
      "Input \u001b[0;32mIn [16]\u001b[0m, in \u001b[0;36mbrowse_recursive\u001b[0;34m(node)\u001b[0m\n\u001b[1;32m      7\u001b[0m \u001b[38;5;28mprint\u001b[39m(ch\u001b[38;5;241m.\u001b[39mget_node_class())\n\u001b[1;32m      8\u001b[0m \u001b[38;5;28;01mif\u001b[39;00m ch\u001b[38;5;241m.\u001b[39mget_node_class() \u001b[38;5;241m==\u001b[39m opcua\u001b[38;5;241m.\u001b[39mua\u001b[38;5;241m.\u001b[39mNodeClass\u001b[38;5;241m.\u001b[39mObject:\n\u001b[0;32m----> 9\u001b[0m     \u001b[43mbrowse_recursive\u001b[49m\u001b[43m(\u001b[49m\u001b[43mch\u001b[49m\u001b[43m)\u001b[49m\n\u001b[1;32m     10\u001b[0m \u001b[38;5;28;01melif\u001b[39;00m ch\u001b[38;5;241m.\u001b[39mget_node_class() \u001b[38;5;241m==\u001b[39m opcua\u001b[38;5;241m.\u001b[39mua\u001b[38;5;241m.\u001b[39mNodeClass\u001b[38;5;241m.\u001b[39mVariable:\n\u001b[1;32m     11\u001b[0m     \u001b[38;5;28;01mtry\u001b[39;00m:\n",
      "Input \u001b[0;32mIn [16]\u001b[0m, in \u001b[0;36mbrowse_recursive\u001b[0;34m(node)\u001b[0m\n\u001b[1;32m      7\u001b[0m \u001b[38;5;28mprint\u001b[39m(ch\u001b[38;5;241m.\u001b[39mget_node_class())\n\u001b[1;32m      8\u001b[0m \u001b[38;5;28;01mif\u001b[39;00m ch\u001b[38;5;241m.\u001b[39mget_node_class() \u001b[38;5;241m==\u001b[39m opcua\u001b[38;5;241m.\u001b[39mua\u001b[38;5;241m.\u001b[39mNodeClass\u001b[38;5;241m.\u001b[39mObject:\n\u001b[0;32m----> 9\u001b[0m     \u001b[43mbrowse_recursive\u001b[49m\u001b[43m(\u001b[49m\u001b[43mch\u001b[49m\u001b[43m)\u001b[49m\n\u001b[1;32m     10\u001b[0m \u001b[38;5;28;01melif\u001b[39;00m ch\u001b[38;5;241m.\u001b[39mget_node_class() \u001b[38;5;241m==\u001b[39m opcua\u001b[38;5;241m.\u001b[39mua\u001b[38;5;241m.\u001b[39mNodeClass\u001b[38;5;241m.\u001b[39mVariable:\n\u001b[1;32m     11\u001b[0m     \u001b[38;5;28;01mtry\u001b[39;00m:\n",
      "    \u001b[0;31m[... skipping similar frames: browse_recursive at line 9 (2 times)]\u001b[0m\n",
      "Input \u001b[0;32mIn [16]\u001b[0m, in \u001b[0;36mbrowse_recursive\u001b[0;34m(node)\u001b[0m\n\u001b[1;32m      7\u001b[0m \u001b[38;5;28mprint\u001b[39m(ch\u001b[38;5;241m.\u001b[39mget_node_class())\n\u001b[1;32m      8\u001b[0m \u001b[38;5;28;01mif\u001b[39;00m ch\u001b[38;5;241m.\u001b[39mget_node_class() \u001b[38;5;241m==\u001b[39m opcua\u001b[38;5;241m.\u001b[39mua\u001b[38;5;241m.\u001b[39mNodeClass\u001b[38;5;241m.\u001b[39mObject:\n\u001b[0;32m----> 9\u001b[0m     \u001b[43mbrowse_recursive\u001b[49m\u001b[43m(\u001b[49m\u001b[43mch\u001b[49m\u001b[43m)\u001b[49m\n\u001b[1;32m     10\u001b[0m \u001b[38;5;28;01melif\u001b[39;00m ch\u001b[38;5;241m.\u001b[39mget_node_class() \u001b[38;5;241m==\u001b[39m opcua\u001b[38;5;241m.\u001b[39mua\u001b[38;5;241m.\u001b[39mNodeClass\u001b[38;5;241m.\u001b[39mVariable:\n\u001b[1;32m     11\u001b[0m     \u001b[38;5;28;01mtry\u001b[39;00m:\n",
      "Input \u001b[0;32mIn [16]\u001b[0m, in \u001b[0;36mbrowse_recursive\u001b[0;34m(node)\u001b[0m\n\u001b[1;32m     10\u001b[0m \u001b[38;5;28;01melif\u001b[39;00m ch\u001b[38;5;241m.\u001b[39mget_node_class() \u001b[38;5;241m==\u001b[39m opcua\u001b[38;5;241m.\u001b[39mua\u001b[38;5;241m.\u001b[39mNodeClass\u001b[38;5;241m.\u001b[39mVariable:\n\u001b[1;32m     11\u001b[0m     \u001b[38;5;28;01mtry\u001b[39;00m:\n\u001b[1;32m     12\u001b[0m         \u001b[38;5;28mprint\u001b[39m(\u001b[38;5;124m\"\u001b[39m\u001b[38;5;132;01m{bn}\u001b[39;00m\u001b[38;5;124m has value \u001b[39m\u001b[38;5;132;01m{val}\u001b[39;00m\u001b[38;5;124m\"\u001b[39m\u001b[38;5;241m.\u001b[39mformat(\n\u001b[1;32m     13\u001b[0m             bn\u001b[38;5;241m=\u001b[39mch\u001b[38;5;241m.\u001b[39mget_browse_name(),\n\u001b[0;32m---> 14\u001b[0m             val\u001b[38;5;241m=\u001b[39m\u001b[38;5;28mstr\u001b[39m(\u001b[43mch\u001b[49m\u001b[38;5;241;43m.\u001b[39;49m\u001b[43mget_value\u001b[49m\u001b[43m(\u001b[49m\u001b[43m)\u001b[49m))\n\u001b[1;32m     15\u001b[0m         )\n\u001b[1;32m     16\u001b[0m     \u001b[38;5;28;01mexcept\u001b[39;00m ua\u001b[38;5;241m.\u001b[39muaerrors\u001b[38;5;241m.\u001b[39m_auto\u001b[38;5;241m.\u001b[39mBadWaitingForInitialData:\n\u001b[1;32m     17\u001b[0m         \u001b[38;5;28;01mpass\u001b[39;00m\n",
      "File \u001b[0;32m/opt/anaconda/anaconda3/lib/python3.9/site-packages/opcua/common/node.py:155\u001b[0m, in \u001b[0;36mNode.get_value\u001b[0;34m(self)\u001b[0m\n\u001b[1;32m    148\u001b[0m \u001b[38;5;28;01mdef\u001b[39;00m \u001b[38;5;21mget_value\u001b[39m(\u001b[38;5;28mself\u001b[39m):\n\u001b[1;32m    149\u001b[0m     \u001b[38;5;124;03m\"\"\"\u001b[39;00m\n\u001b[1;32m    150\u001b[0m \u001b[38;5;124;03m    Get value of a node as a python type. Only variables ( and properties) have values.\u001b[39;00m\n\u001b[1;32m    151\u001b[0m \u001b[38;5;124;03m    An exception will be generated for other node types.\u001b[39;00m\n\u001b[1;32m    152\u001b[0m \u001b[38;5;124;03m    WARNING: on server side, this function returns a ref to object in ua database. Do not modify it if it is a mutable\u001b[39;00m\n\u001b[1;32m    153\u001b[0m \u001b[38;5;124;03m    object unless you know what you are doing\u001b[39;00m\n\u001b[1;32m    154\u001b[0m \u001b[38;5;124;03m    \"\"\"\u001b[39;00m\n\u001b[0;32m--> 155\u001b[0m     result \u001b[38;5;241m=\u001b[39m \u001b[38;5;28;43mself\u001b[39;49m\u001b[38;5;241;43m.\u001b[39;49m\u001b[43mget_data_value\u001b[49m\u001b[43m(\u001b[49m\u001b[43m)\u001b[49m\n\u001b[1;32m    156\u001b[0m     \u001b[38;5;28;01mreturn\u001b[39;00m result\u001b[38;5;241m.\u001b[39mValue\u001b[38;5;241m.\u001b[39mValue\n",
      "File \u001b[0;32m/opt/anaconda/anaconda3/lib/python3.9/site-packages/opcua/common/node.py:164\u001b[0m, in \u001b[0;36mNode.get_data_value\u001b[0;34m(self)\u001b[0m\n\u001b[1;32m    158\u001b[0m \u001b[38;5;28;01mdef\u001b[39;00m \u001b[38;5;21mget_data_value\u001b[39m(\u001b[38;5;28mself\u001b[39m):\n\u001b[1;32m    159\u001b[0m     \u001b[38;5;124;03m\"\"\"\u001b[39;00m\n\u001b[1;32m    160\u001b[0m \u001b[38;5;124;03m    Get value of a node as a DataValue object. Only variables (and properties) have values.\u001b[39;00m\n\u001b[1;32m    161\u001b[0m \u001b[38;5;124;03m    An exception will be generated for other node types.\u001b[39;00m\n\u001b[1;32m    162\u001b[0m \u001b[38;5;124;03m    DataValue contain a variable value as a variant as well as server and source timestamps\u001b[39;00m\n\u001b[1;32m    163\u001b[0m \u001b[38;5;124;03m    \"\"\"\u001b[39;00m\n\u001b[0;32m--> 164\u001b[0m     \u001b[38;5;28;01mreturn\u001b[39;00m \u001b[38;5;28;43mself\u001b[39;49m\u001b[38;5;241;43m.\u001b[39;49m\u001b[43mget_attribute\u001b[49m\u001b[43m(\u001b[49m\u001b[43mua\u001b[49m\u001b[38;5;241;43m.\u001b[39;49m\u001b[43mAttributeIds\u001b[49m\u001b[38;5;241;43m.\u001b[39;49m\u001b[43mValue\u001b[49m\u001b[43m)\u001b[49m\n",
      "File \u001b[0;32m/opt/anaconda/anaconda3/lib/python3.9/site-packages/opcua/common/node.py:276\u001b[0m, in \u001b[0;36mNode.get_attribute\u001b[0;34m(self, attr)\u001b[0m\n\u001b[1;32m    274\u001b[0m params\u001b[38;5;241m.\u001b[39mNodesToRead\u001b[38;5;241m.\u001b[39mappend(rv)\n\u001b[1;32m    275\u001b[0m result \u001b[38;5;241m=\u001b[39m \u001b[38;5;28mself\u001b[39m\u001b[38;5;241m.\u001b[39mserver\u001b[38;5;241m.\u001b[39mread(params)\n\u001b[0;32m--> 276\u001b[0m \u001b[43mresult\u001b[49m\u001b[43m[\u001b[49m\u001b[38;5;241;43m0\u001b[39;49m\u001b[43m]\u001b[49m\u001b[38;5;241;43m.\u001b[39;49m\u001b[43mStatusCode\u001b[49m\u001b[38;5;241;43m.\u001b[39;49m\u001b[43mcheck\u001b[49m\u001b[43m(\u001b[49m\u001b[43m)\u001b[49m\n\u001b[1;32m    277\u001b[0m \u001b[38;5;28;01mreturn\u001b[39;00m result[\u001b[38;5;241m0\u001b[39m]\n",
      "File \u001b[0;32m/opt/anaconda/anaconda3/lib/python3.9/site-packages/opcua/ua/uatypes.py:218\u001b[0m, in \u001b[0;36mStatusCode.check\u001b[0;34m(self)\u001b[0m\n\u001b[1;32m    212\u001b[0m \u001b[38;5;124;03m\"\"\"\u001b[39;00m\n\u001b[1;32m    213\u001b[0m \u001b[38;5;124;03mRaises an exception if the status code is anything else than 0 (good).\u001b[39;00m\n\u001b[1;32m    214\u001b[0m \n\u001b[1;32m    215\u001b[0m \u001b[38;5;124;03mUse the is_good() method if you do not want an exception.\u001b[39;00m\n\u001b[1;32m    216\u001b[0m \u001b[38;5;124;03m\"\"\"\u001b[39;00m\n\u001b[1;32m    217\u001b[0m \u001b[38;5;28;01mif\u001b[39;00m \u001b[38;5;129;01mnot\u001b[39;00m \u001b[38;5;28mself\u001b[39m\u001b[38;5;241m.\u001b[39mis_good():\n\u001b[0;32m--> 218\u001b[0m     \u001b[38;5;28;01mraise\u001b[39;00m UaStatusCodeError(\u001b[38;5;28mself\u001b[39m\u001b[38;5;241m.\u001b[39mvalue)\n",
      "\u001b[0;31mBadSecurityModeInsufficient\u001b[0m: \"The operation is not permitted over the current secure channel.\"(BadSecurityModeInsufficient)"
     ]
    }
   ],
   "source": [
    "root = client.get_root_node()\n",
    "print(\"Root node is: {:s} \".format(str(root)))\n",
    "\n",
    "def browse_recursive(node):\n",
    "    for childId in node.get_children():\n",
    "        ch = client.get_node(childId)\n",
    "        print(ch.get_node_class())\n",
    "        if ch.get_node_class() == opcua.ua.NodeClass.Object:\n",
    "            browse_recursive(ch)\n",
    "        elif ch.get_node_class() == opcua.ua.NodeClass.Variable:\n",
    "            try:\n",
    "                print(\"{bn} has value {val}\".format(\n",
    "                    bn=ch.get_browse_name(),\n",
    "                    val=str(ch.get_value()))\n",
    "                )\n",
    "            except ua.uaerrors._auto.BadWaitingForInitialData:\n",
    "                pass\n",
    "\n",
    "browse_recursive(root)"
   ]
  },
  {
   "cell_type": "code",
   "execution_count": null,
   "id": "953ceda6-8685-49f3-9759-8d809cc54e46",
   "metadata": {},
   "outputs": [],
   "source": [
    "objects = client.get_objects_node()\n",
    "childs = objects.get_children()"
   ]
  }
 ],
 "metadata": {
  "kernelspec": {
   "display_name": "Python 3 (ipykernel)",
   "language": "python",
   "name": "python3"
  },
  "language_info": {
   "codemirror_mode": {
    "name": "ipython",
    "version": 3
   },
   "file_extension": ".py",
   "mimetype": "text/x-python",
   "name": "python",
   "nbconvert_exporter": "python",
   "pygments_lexer": "ipython3",
   "version": "3.9.12"
  }
 },
 "nbformat": 4,
 "nbformat_minor": 5
}
