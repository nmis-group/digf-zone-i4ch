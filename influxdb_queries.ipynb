{
 "cells": [
  {
   "cell_type": "code",
   "execution_count": 1,
   "id": "323f41b3-be49-42f5-9e15-97b4a387c0e8",
   "metadata": {},
   "outputs": [
    {
     "name": "stdout",
     "output_type": "stream",
     "text": [
      "[('value', 246.601806640625), ('value', 246.6004638671875), ('value', 246.6248779296875), ('value', 246.6145477294922), ('value', 246.6531219482422), ('value', 246.6438446044922), ('value', 246.61257934570312), ('value', 246.62112426757812), ('value', 246.66065979003906), ('value', 246.66880798339844), ('value', 246.6450653076172), ('value', 246.6090087890625), ('value', 246.62416076660156), ('value', 246.6148681640625), ('value', 246.63755798339844), ('value', 246.63250732421875), ('value', 246.6331024169922), ('value', 246.63348388671875), ('value', 246.64576721191406), ('value', 246.6328125), ('value', 246.64817810058594), ('value', 246.662109375), ('value', 246.65968322753906), ('value', 246.65875244140625), ('value', 246.67776489257812), ('value', 246.664306640625), ('value', 246.66099548339844), ('value', 246.66769409179688), ('value', 246.64418029785156), ('value', 246.6263427734375), ('value', 246.6508026123047), ('value', 246.62521362304688), ('value', 246.64540100097656), ('value', 246.6443634033203), ('value', 246.61875915527344), ('value', 246.6352996826172), ('value', 246.66343688964844), ('value', 246.6345977783203), ('value', 246.6315155029297), ('value', 246.65121459960938), ('value', 246.67245483398438), ('value', 246.64349365234375), ('value', 246.64151000976562), ('value', 246.62911987304688), ('value', 246.61697387695312), ('value', 246.6732635498047), ('value', 246.70706176757812), ('value', 246.675048828125), ('value', 246.6739044189453), ('value', 246.67250061035156), ('value', 246.63671875), ('value', 246.64137268066406), ('value', 246.61033630371094), ('value', 246.59793090820312), ('value', 246.57566833496094), ('value', 246.55841064453125), ('value', 246.5663604736328), ('value', 246.5666961669922), ('value', 246.60916137695312), ('value', 246.5785675048828), ('value', 246.58099365234375), ('value', 246.5797882080078), ('value', 246.58248901367188), ('value', 246.58697509765625), ('value', 246.619140625), ('value', 246.6402130126953), ('value', 246.6105194091797), ('value', 246.58071899414062), ('value', 246.5662078857422), ('value', 246.5795135498047), ('value', 246.5782012939453), ('value', 246.57679748535156), ('value', 246.59759521484375), ('value', 246.5861053466797), ('value', 246.57667541503906), ('value', 246.5808563232422), ('value', 246.5961151123047), ('value', 246.59646606445312), ('value', 246.5858917236328), ('value', 246.5874481201172), ('value', 246.59107971191406), ('value', 246.61654663085938), ('value', 246.63528442382812), ('value', 246.65367126464844), ('value', 246.66661071777344), ('value', 246.6686248779297), ('value', 246.65518188476562), ('value', 246.6637420654297), ('value', 246.65713500976562), ('value', 246.66395568847656), ('value', 246.7058868408203), ('value', 246.69412231445312), ('value', 246.7171173095703), ('value', 246.7133026123047), ('value', 246.72850036621094), ('value', 246.74525451660156), ('value', 246.70359802246094), ('value', 246.70420837402344), ('value', 246.68521118164062)]\n"
     ]
    }
   ],
   "source": [
    "import influxdb_client\n",
    "\n",
    "bucket = \"radial_forge_v2\"\n",
    "org = \"NMIS\"\n",
    "token = \"JvkuMiOPtflX8SceVhrb5Gl3_8YZaAfoiQTrmwSnG3x9mDjOcJeyz9pa88CUfqpzMZKXBK4CFcH5ILB53K4nNA==\"\n",
    "\n",
    "# Store the URL of your InfluxDB instance\n",
    "url=\"http://localhost:8086\"\n",
    "\n",
    "#Instantiate the client\n",
    "client = influxdb_client.InfluxDBClient(\n",
    "    url=url,\n",
    "    token=token,\n",
    "    org=org\n",
    ")\n",
    "\n",
    "# Instantiate the query client\n",
    "query_api = client.query_api()\n",
    "\n",
    "# Create a Flux query\n",
    "query = 'from(bucket: \"radial_forge_v2\")\\\n",
    "  |> range(start:-1s)\\\n",
    "  |> filter(fn: (r) => r[\"_measurement\"] == \"forge-data-v1\")\\\n",
    "  |> filter(fn: (r) => r[\"_field\"] == \"value\")'\n",
    "\n",
    "# Pass the query method to create results using the query client\n",
    "result = query_api.query(org=org, query=query)\n",
    "\n",
    "results = []\n",
    "for table in result:\n",
    "    for record in table.records:\n",
    "        results.append((record.get_field(), record.get_value()))\n",
    "\n",
    "print(results)"
   ]
  },
  {
   "cell_type": "code",
   "execution_count": null,
   "id": "b125e656-6861-4bcc-bf01-a4d3aac63aaf",
   "metadata": {},
   "outputs": [],
   "source": []
  }
 ],
 "metadata": {
  "kernelspec": {
   "display_name": "influxdb_python_env",
   "language": "python",
   "name": "influxdb_python_env"
  },
  "language_info": {
   "codemirror_mode": {
    "name": "ipython",
    "version": 3
   },
   "file_extension": ".py",
   "mimetype": "text/x-python",
   "name": "python",
   "nbconvert_exporter": "python",
   "pygments_lexer": "ipython3",
   "version": "3.10.6"
  }
 },
 "nbformat": 4,
 "nbformat_minor": 5
}
